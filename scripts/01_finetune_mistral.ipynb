{
 "cells": [
  {
   "cell_type": "code",
   "execution_count": 1,
   "id": "74048c4d-02ab-4e7f-9eae-882f6f6ce67e",
   "metadata": {},
   "outputs": [],
   "source": [
    "# https://github.com/brevdev/notebooks/blob/main/mistral-finetune-own-data.ipynb"
   ]
  },
  {
   "cell_type": "code",
   "execution_count": 2,
   "id": "7f249571-0336-42bc-848f-4e25a3912bda",
   "metadata": {
    "tags": []
   },
   "outputs": [],
   "source": [
    "# Load dataset\n",
    "from datasets import load_dataset\n",
    "\n",
    "train_dataset = load_dataset('json', data_files='../data/train_CRM_data.json', split='train')\n",
    "eval_dataset = load_dataset('json', data_files='../data/val_CRM_data.json', split='train')\n",
    "test_dataset = load_dataset('json', data_files='../data/test_CRM_data.json', split='train')"
   ]
  },
  {
   "cell_type": "code",
   "execution_count": 3,
   "id": "7cd6c8ca-849e-43bf-a600-0d251bd70f82",
   "metadata": {
    "tags": []
   },
   "outputs": [
    {
     "name": "stdout",
     "output_type": "stream",
     "text": [
      "\n",
      "Raw message:\n",
      "\n",
      "[{'content': '\\nYou are a Python function generator. Users will ask you questions in English, \\nand you will produce a Python function as answer to the question based on the provided CONTEXT.\\n\\nCONTEXT:\\nPandas DataFrame df containing transaction data with columns order_id, user_id, item_id, timestamp, score.\\r\\norder_id takes string datatype and identifies the order.\\r\\nuser_id takes string datatype and identifies the customer.\\r\\nitem_id takes string datatype that identifies the product.\\r\\ntimestamp takes timestamp datatype and represents the datetimestamp of transaction.\\r\\nscore takes float datatype and represents the score of the transaction.\\r\\nNote that a customer can make multiple transactions for a product but the customer product pair will be just one entry for each order.\\r\\nPandas DataFrame customer_dfcontaining customer data with columns user_id, customer_city.\\r\\nuser_id takes string datatype and identifies the customer.\\r\\ncustomer_city takes string datatype and represents the city where the customer resides.\\r\\nNote that df can be joined with customer_df on user_id.\\r\\nPandas DataFrame product_dfcontaining product data with columns item_id, product_category.\\r\\nitem_id takes string datatype that identifies the product.\\r\\nproduct_category takes string datatype and represents the product category in the product hierarchy.\\r\\nNote that df can be joined with product_df on item_id.\\n', 'role': 'system'}, {'content': \"What are the top 5 products recommended for user 'user123' based on their purchase history?\", 'role': 'user'}, {'content': 'def promote_similar_products(df, customer_df, product_df, user_id=\\'user123\\', n=5):\\\\n    \"\"\"\\\\n    Promotes similar products to a given user based on their purchase history.\\\\n    Parameters:\\\\n        df (DataFrame): Transaction data DataFrame with columns \\'order_id\\', \\'user_id\\', \\'item_id\\', \\'timestamp\\', \\'score\\'.\\\\n        customer_df (DataFrame): Customer data DataFrame with columns \\'user_id\\', \\'customer_city\\'.\\\\n        product_df (DataFrame): Product data DataFrame with columns \\'item_id\\', \\'product_category\\'.\\\\n        user_id (str): ID of the user for whom to promote similar products.\\\\n        n (int): Number of similar products to promote.\\\\n    Returns:\\\\n        list: List of recommended product IDs.\\\\n    \"\"\"\\\\n    user_products = df[df[\\'user_id\\'] == user_id][\\'item_id\\'].unique()\\\\n    user_product_categories = product_df[product_df[\\'item_id\\'].isin(user_products)][\\'product_category\\'].unique()\\\\n    similar_products = product_df[product_df[\\'product_category\\'].isin(user_product_categories) & ~product_df[\\'item_id\\'].isin(user_products)]\\\\n    recommended_products = (df[df[\\'item_id\\'].isin(similar_products[\\'item_id\\'])]\\\\n                            .groupby(\\'item_id\\')\\\\n                            .size()\\\\n                            .reset_index(name=\\'count\\')\\\\n                            .sort_values(by=\\'count\\', ascending=False)\\\\n                            .head(n))\\\\n    return recommended_products[\\'item_id\\'].tolist()\\\\n', 'role': 'assistant'}]\n",
      "\n",
      "Formatted message:\n",
      "\n",
      "### Question: What are the top 5 products recommended for user 'user123' based on their purchase history?\n",
      "\n",
      "### Context: \n",
      "You are a Python function generator. Users will ask you questions in English, \n",
      "and you will produce a Python function as answer to the question based on the provided CONTEXT.\n",
      "\n",
      "CONTEXT:\n",
      "Pandas DataFrame df containing transaction data with columns order_id, user_id, item_id, timestamp, score.\n",
      "order_id takes string datatype and identifies the order.\n",
      "user_id takes string datatype and identifies the customer.\n",
      "item_id takes string datatype that identifies the product.\n",
      "timestamp takes timestamp datatype and represents the datetimestamp of transaction.\n",
      "score takes float datatype and represents the score of the transaction.\n",
      "Note that a customer can make multiple transactions for a product but the customer product pair will be just one entry for each order.\n",
      "Pandas DataFrame customer_dfcontaining customer data with columns user_id, customer_city.\n",
      "user_id takes string datatype and identifies the customer.\n",
      "customer_city takes string datatype and represents the city where the customer resides.\n",
      "Note that df can be joined with customer_df on user_id.\n",
      "Pandas DataFrame product_dfcontaining product data with columns item_id, product_category.\n",
      "item_id takes string datatype that identifies the product.\n",
      "product_category takes string datatype and represents the product category in the product hierarchy.\n",
      "Note that df can be joined with product_df on item_id.\n",
      "\n",
      "### Answer: \n",
      "def promote_similar_products(df, customer_df, product_df, user_id='user123', n=5):\\n    \"\"\"\\n    Promotes similar products to a given user based on their purchase history.\\n    Parameters:\\n        df (DataFrame): Transaction data DataFrame with columns 'order_id', 'user_id', 'item_id', 'timestamp', 'score'.\\n        customer_df (DataFrame): Customer data DataFrame with columns 'user_id', 'customer_city'.\\n        product_df (DataFrame): Product data DataFrame with columns 'item_id', 'product_category'.\\n        user_id (str): ID of the user for whom to promote similar products.\\n        n (int): Number of similar products to promote.\\n    Returns:\\n        list: List of recommended product IDs.\\n    \"\"\"\\n    user_products = df[df['user_id'] == user_id]['item_id'].unique()\\n    user_product_categories = product_df[product_df['item_id'].isin(user_products)]['product_category'].unique()\\n    similar_products = product_df[product_df['product_category'].isin(user_product_categories) & ~product_df['item_id'].isin(user_products)]\\n    recommended_products = (df[df['item_id'].isin(similar_products['item_id'])]\\n                            .groupby('item_id')\\n                            .size()\\n                            .reset_index(name='count')\\n                            .sort_values(by='count', ascending=False)\\n                            .head(n))\\n    return recommended_products['item_id'].tolist()\\n\n",
      "\n"
     ]
    }
   ],
   "source": [
    "# Formatting prompts\n",
    "def formatting_func(message):\n",
    "    # Extracting question, context, and answer from the message\n",
    "    question = message[1]['content']\n",
    "    context = message[0]['content']\n",
    "    answer = message[2]['content']\n",
    "\n",
    "    # Formatting the extracted information into text format\n",
    "    text_format = f\"\"\"\n",
    "### Question: {question}\n",
    "\n",
    "### Context: {context}\n",
    "### Answer: \n",
    "{answer}\n",
    "    \"\"\"\n",
    "\n",
    "    return text_format.strip()\n",
    "\n",
    "print(f\"\"\"\n",
    "Raw message:\n",
    "\n",
    "{train_dataset[0]['messages']}\n",
    "\n",
    "Formatted message:\n",
    "\n",
    "{formatting_func(train_dataset[0]['messages'])}\n",
    "\"\"\")"
   ]
  },
  {
   "cell_type": "code",
   "execution_count": 4,
   "id": "fbe447e5-dcf4-455a-af8f-f8bfa2d441de",
   "metadata": {
    "tags": []
   },
   "outputs": [],
   "source": [
    "# Setup Accelerator - Optional\n",
    "from accelerate import (\n",
    "    FullyShardedDataParallelPlugin, \n",
    "    Accelerator\n",
    ")\n",
    "from torch.distributed.fsdp.fully_sharded_data_parallel import (\n",
    "    FullOptimStateDictConfig, \n",
    "    FullStateDictConfig\n",
    ")\n",
    "\n",
    "fsdp_plugin = FullyShardedDataParallelPlugin(\n",
    "    state_dict_config=FullStateDictConfig(\n",
    "        offload_to_cpu=True, \n",
    "        rank0_only=False\n",
    "    ),\n",
    "    optim_state_dict_config=FullOptimStateDictConfig(\n",
    "        offload_to_cpu=True, \n",
    "        rank0_only=False\n",
    "    ),\n",
    ")\n",
    "\n",
    "accelerator = Accelerator(fsdp_plugin=fsdp_plugin)"
   ]
  },
  {
   "cell_type": "code",
   "execution_count": 5,
   "id": "10a71346-ef9c-4967-8699-4e08aafd1df9",
   "metadata": {
    "tags": []
   },
   "outputs": [
    {
     "name": "stderr",
     "output_type": "stream",
     "text": [
      "Failed to detect the name of this notebook, you can set it manually with the WANDB_NOTEBOOK_NAME environment variable to enable code saving.\n",
      "\u001b[34m\u001b[1mwandb\u001b[0m: Currently logged in as: \u001b[33mnayan4qmul\u001b[0m (\u001b[33mnayan4learn\u001b[0m). Use \u001b[1m`wandb login --relogin`\u001b[0m to force relogin\n"
     ]
    }
   ],
   "source": [
    "# Setup weights and biases training metrics tracking\n",
    "\n",
    "##### WARNING #####\n",
    "# Ignore the below warning for now as it doesn't affect the functionality of wandb metric collection in any way.\n",
    "# Failed to detect the name of this notebook, you can set it manually with the WANDB_NOTEBOOK_NAME environment variable to enable code saving.\n",
    "##### ####### #####\n",
    "\n",
    "import wandb\n",
    "import os\n",
    "\n",
    "wandb.login()\n",
    "\n",
    "wandb_project = \"finetune-mistral-01\"\n",
    "wandb_notebook_name = \"01_finetune_mistral.ipynb\"\n",
    "if len(wandb_project) > 0:\n",
    "    os.environ[\"WANDB_PROJECT\"] = wandb_project\n",
    "    os.environ[\"WANDB_NOTEBOOK_NAME\"] = wandb_notebook_name"
   ]
  },
  {
   "cell_type": "code",
   "execution_count": 6,
   "id": "d4086c41-9d05-4497-b934-fce06f1806b9",
   "metadata": {
    "tags": []
   },
   "outputs": [
    {
     "data": {
      "application/vnd.jupyter.widget-view+json": {
       "model_id": "7a09b76ebc264021ad59603cedcc009f",
       "version_major": 2,
       "version_minor": 0
      },
      "text/plain": [
       "Loading checkpoint shards:   0%|          | 0/2 [00:00<?, ?it/s]"
      ]
     },
     "metadata": {},
     "output_type": "display_data"
    }
   ],
   "source": [
    "# Load base model\n",
    "import torch\n",
    "from transformers import (\n",
    "    AutoTokenizer, \n",
    "    AutoModelForCausalLM, \n",
    "    BitsAndBytesConfig\n",
    ")\n",
    "\n",
    "base_model_id = \"mistralai/Mistral-7B-v0.1\"\n",
    "bnb_config = BitsAndBytesConfig(\n",
    "    load_in_4bit=True,\n",
    "    bnb_4bit_use_double_quant=True,\n",
    "    bnb_4bit_quant_type=\"nf4\",\n",
    "    bnb_4bit_compute_dtype=torch.bfloat16\n",
    ")\n",
    "\n",
    "model = AutoModelForCausalLM.from_pretrained(\n",
    "    base_model_id, \n",
    "    quantization_config=bnb_config, \n",
    "    device_map=\"auto\"\n",
    ")"
   ]
  },
  {
   "cell_type": "code",
   "execution_count": 7,
   "id": "e75f8292-1f6e-4e0a-a862-901bd090652d",
   "metadata": {
    "tags": []
   },
   "outputs": [],
   "source": [
    "# Setup Tokenizer\n",
    "tokenizer = AutoTokenizer.from_pretrained(\n",
    "    base_model_id,\n",
    "    padding_side=\"left\",\n",
    "    add_eos_token=True,\n",
    "    add_bos_token=True,\n",
    ")\n",
    "tokenizer.pad_token = tokenizer.eos_token"
   ]
  },
  {
   "cell_type": "code",
   "execution_count": 8,
   "id": "f58d8e98-96ba-4e7b-9960-da419b9e7527",
   "metadata": {
    "tags": []
   },
   "outputs": [],
   "source": [
    "# Reformat prompt and tokenize each message\n",
    "def generate_and_tokenize_prompt(prompt):\n",
    "    return tokenizer(formatting_func(prompt))\n",
    "\n",
    "tokenized_train_dataset = list(map(lambda record: generate_and_tokenize_prompt(record['messages']), train_dataset))\n",
    "tokenized_val_dataset = list(map(lambda record: generate_and_tokenize_prompt(record['messages']), eval_dataset))"
   ]
  },
  {
   "cell_type": "code",
   "execution_count": 9,
   "id": "69e9298e-7105-4558-9916-9504e206c506",
   "metadata": {
    "tags": []
   },
   "outputs": [
    {
     "name": "stdout",
     "output_type": "stream",
     "text": [
      "370\n"
     ]
    },
    {
     "data": {
      "image/png": "[encoded data removed]",
      "text/plain": [
       "<Figure size 1000x600 with 1 Axes>"
      ]
     },
     "metadata": {},
     "output_type": "display_data"
    }
   ],
   "source": [
    "# Plot the distribution of sample length\n",
    "import matplotlib.pyplot as plt\n",
    "\n",
    "def plot_data_lengths(tokenized_train_dataset, tokenized_val_dataset):\n",
    "    lengths = [len(x['input_ids']) for x in tokenized_train_dataset]\n",
    "    lengths += [len(x['input_ids']) for x in tokenized_val_dataset]\n",
    "    print(len(lengths))\n",
    "\n",
    "    # Plotting the histogram\n",
    "    plt.figure(figsize=(10, 6))\n",
    "    plt.hist(lengths, bins=20, alpha=0.7, color='blue')\n",
    "    plt.xlabel('Length of input_ids')\n",
    "    plt.ylabel('Frequency')\n",
    "    plt.title('Distribution of Lengths of input_ids')\n",
    "    plt.show()\n",
    "\n",
    "plot_data_lengths(tokenized_train_dataset, tokenized_val_dataset)"
   ]
  },
  {
   "cell_type": "code",
   "execution_count": 10,
   "id": "8c622d28-8333-46ef-b58f-5c3626bf7aea",
   "metadata": {
    "tags": []
   },
   "outputs": [
    {
     "name": "stdout",
     "output_type": "stream",
     "text": [
      "370\n"
     ]
    },
    {
     "data": {
      "image/png": "[encoded data removed]",
      "text/plain": [
       "<Figure size 1000x600 with 1 Axes>"
      ]
     },
     "metadata": {},
     "output_type": "display_data"
    }
   ],
   "source": [
    "max_length = 1024 # This was an appropriate max length for my dataset\n",
    "\n",
    "# Reformat prompt and tokenize each message with truncation\n",
    "def generate_and_tokenize_prompt_with_trunc(prompt):\n",
    "    result = tokenizer(\n",
    "        formatting_func(prompt),\n",
    "        truncation=True,\n",
    "        max_length=max_length,\n",
    "        padding=\"max_length\",\n",
    "    )\n",
    "    result[\"labels\"] = result[\"input_ids\"].copy()\n",
    "    return result\n",
    "\n",
    "tokenized_train_dataset = list(map(lambda record: generate_and_tokenize_prompt_with_trunc(record['messages']), train_dataset))\n",
    "tokenized_val_dataset = list(map(lambda record: generate_and_tokenize_prompt_with_trunc(record['messages']), eval_dataset))\n",
    "\n",
    "plot_data_lengths(tokenized_train_dataset, tokenized_val_dataset)"
   ]
  },
  {
   "cell_type": "code",
   "execution_count": 11,
   "id": "2304b2e7-021d-42ee-aa19-0625be77bd9f",
   "metadata": {
    "tags": []
   },
   "outputs": [
    {
     "name": "stdout",
     "output_type": "stream",
     "text": [
      "\n",
      "Complete message:\n",
      "\n",
      "### Question: What is the correlation between transaction scores and customer city, as well as product category during peak hours, specifically from 8 AM to 10 AM?\n",
      "\n",
      "### Context: \n",
      "You are a Python function generator. Users will ask you questions in English, \n",
      "and you will produce a Python function as answer to the question based on the provided CONTEXT.\n",
      "\n",
      "CONTEXT:\n",
      "Pandas DataFrame df containing transaction data with columns order_id, user_id, item_id, timestamp, score.\n",
      "order_id takes string datatype and identifies the order.\n",
      "user_id takes string datatype and identifies the customer.\n",
      "item_id takes string datatype that identifies the product.\n",
      "timestamp takes timestamp datatype and represents the datetimestamp of transaction.\n",
      "score takes float datatype and represents the score of the transaction.\n",
      "Note that a customer can make multiple transactions for a product but the customer product pair will be just one entry for each order.\n",
      "Pandas DataFrame customer_dfcontaining customer data with columns user_id, customer_city.\n",
      "user_id takes string datatype and identifies the customer.\n",
      "customer_city takes string datatype and represents the city where the customer resides.\n",
      "Note that df can be joined with customer_df on user_id.\n",
      "Pandas DataFrame product_dfcontaining product data with columns item_id, product_category.\n",
      "item_id takes string datatype that identifies the product.\n",
      "product_category takes string datatype and represents the product category in the product hierarchy.\n",
      "Note that df can be joined with product_df on item_id.\n",
      "\n",
      "### Answer: \n",
      "def correlate_score_with_category_and_peak_hours(df, customer_df, product_df, peak_hours=[8, 9, 10]):\\n    df = pd.merge(df, customer_df, on='user_id', how='left')\\n    df = pd.merge(df, product_df, on='item_id', how='left')\\n    peak_hour_transactions = df[df['timestamp'].dt.hour.isin(peak_hours)]\\n    city_scores = peak_hour_transactions.groupby('customer_city')['score'].mean()\\n    category_scores = peak_hour_transactions.groupby('product_category')['score'].mean()\\n    city_correlation = peak_hour_transactions.groupby('customer_city')['score'].corr(city_scores)\\n    category_correlation = peak_hour_transactions.groupby('product_category')['score'].corr(category_scores)\\n    return city_correlation, category_correlation\\n\n",
      "\n",
      "Prompt for text-generation:\n",
      "\n",
      "### Question: What is the correlation between transaction scores and customer city, as well as product category during peak hours, specifically from 8 AM to 10 AM?\n",
      "\n",
      "### Context: \n",
      "You are a Python function generator. Users will ask you questions in English, \n",
      "and you will produce a Python function as answer to the question based on the provided CONTEXT.\n",
      "\n",
      "CONTEXT:\n",
      "Pandas DataFrame df containing transaction data with columns order_id, user_id, item_id, timestamp, score.\n",
      "order_id takes string datatype and identifies the order.\n",
      "user_id takes string datatype and identifies the customer.\n",
      "item_id takes string datatype that identifies the product.\n",
      "timestamp takes timestamp datatype and represents the datetimestamp of transaction.\n",
      "score takes float datatype and represents the score of the transaction.\n",
      "Note that a customer can make multiple transactions for a product but the customer product pair will be just one entry for each order.\n",
      "Pandas DataFrame customer_dfcontaining customer data with columns user_id, customer_city.\n",
      "user_id takes string datatype and identifies the customer.\n",
      "customer_city takes string datatype and represents the city where the customer resides.\n",
      "Note that df can be joined with customer_df on user_id.\n",
      "Pandas DataFrame product_dfcontaining product data with columns item_id, product_category.\n",
      "item_id takes string datatype that identifies the product.\n",
      "product_category takes string datatype and represents the product category in the product hierarchy.\n",
      "Note that df can be joined with product_df on item_id.\n",
      "\n",
      "### Answer:\n",
      "\n"
     ]
    }
   ],
   "source": [
    "# check base model performance\n",
    "prompt = formatting_func(eval_dataset[0]['messages'])\n",
    "\n",
    "# Find the index of \"### Answer:\"\n",
    "index_answer = prompt.find(\"### Answer:\")\n",
    "\n",
    "# Extract the string up to \"### Answer:\"\n",
    "eval_prompt = prompt[:index_answer + len(\"### Answer:\")].strip()\n",
    "\n",
    "print(f\"\"\"\n",
    "Complete message:\n",
    "\n",
    "{prompt}\n",
    "\n",
    "Prompt for text-generation:\n",
    "\n",
    "{eval_prompt}\n",
    "\"\"\")"
   ]
  },
  {
   "cell_type": "code",
   "execution_count": 12,
   "id": "2e3bafa4-cc55-489c-8092-e0eeff5192aa",
   "metadata": {
    "tags": []
   },
   "outputs": [
    {
     "data": {
      "text/plain": [
       "MistralForCausalLM(\n",
       "  (model): MistralModel(\n",
       "    (embed_tokens): Embedding(32000, 4096)\n",
       "    (layers): ModuleList(\n",
       "      (0-31): 32 x MistralDecoderLayer(\n",
       "        (self_attn): MistralAttention(\n",
       "          (q_proj): Linear4bit(in_features=4096, out_features=4096, bias=False)\n",
       "          (k_proj): Linear4bit(in_features=4096, out_features=1024, bias=False)\n",
       "          (v_proj): Linear4bit(in_features=4096, out_features=1024, bias=False)\n",
       "          (o_proj): Linear4bit(in_features=4096, out_features=4096, bias=False)\n",
       "          (rotary_emb): MistralRotaryEmbedding()\n",
       "        )\n",
       "        (mlp): MistralMLP(\n",
       "          (gate_proj): Linear4bit(in_features=4096, out_features=14336, bias=False)\n",
       "          (up_proj): Linear4bit(in_features=4096, out_features=14336, bias=False)\n",
       "          (down_proj): Linear4bit(in_features=14336, out_features=4096, bias=False)\n",
       "          (act_fn): SiLU()\n",
       "        )\n",
       "        (input_layernorm): MistralRMSNorm()\n",
       "        (post_attention_layernorm): MistralRMSNorm()\n",
       "      )\n",
       "    )\n",
       "    (norm): MistralRMSNorm()\n",
       "  )\n",
       "  (lm_head): Linear(in_features=4096, out_features=32000, bias=False)\n",
       ")"
      ]
     },
     "execution_count": 12,
     "metadata": {},
     "output_type": "execute_result"
    }
   ],
   "source": [
    "# Init an eval tokenizer that doesn't add padding or eos token\n",
    "eval_tokenizer = AutoTokenizer.from_pretrained(\n",
    "    base_model_id,\n",
    "    add_bos_token=True,\n",
    ")\n",
    "\n",
    "model_input = eval_tokenizer(\n",
    "    eval_prompt, \n",
    "    return_tensors=\"pt\"\n",
    ").to(\"cuda\")\n",
    "\n",
    "model.eval()"
   ]
  },
  {
   "cell_type": "code",
   "execution_count": 13,
   "id": "4009dcda-1c73-4326-84c0-fa9999a7813c",
   "metadata": {
    "tags": []
   },
   "outputs": [
    {
     "name": "stdout",
     "output_type": "stream",
     "text": [
      "### Question: What is the correlation between transaction scores and customer city, as well as product category during peak hours, specifically from 8 AM to 10 AM?\n",
      "\n",
      "### Context: \n",
      "You are a Python function generator. Users will ask you questions in English, \n",
      "and you will produce a Python function as answer to the question based on the provided CONTEXT.\n",
      "\n",
      "CONTEXT:\n",
      "Pandas DataFrame df containing transaction data with columns order_id, user_id, item_id, timestamp, score.\n",
      "order_id takes string datatype and identifies the order.\n",
      "user_id takes string datatype and identifies the customer.\n",
      "item_id takes string datatype that identifies the product.\n",
      "timestamp takes timestamp datatype and represents the datetimestamp of transaction.\n",
      "score takes float datatype and represents the score of the transaction.\n",
      "Note that a customer can make multiple transactions for a product but the customer product pair will be just one entry for each order.\n",
      "Pandas DataFrame customer_dfcontaining customer data with columns user_id, customer_city.\n",
      "user_id takes string datatype and identifies the customer.\n",
      "customer_city takes string datatype and represents the city where the customer resides.\n",
      "Note that df can be joined with customer_df on user_id.\n",
      "Pandas DataFrame product_dfcontaining product data with columns item_id, product_category.\n",
      "item_id takes string datatype that identifies the product.\n",
      "product_category takes string datatype and represents the product category in the product hierarchy.\n",
      "Note that df can be joined with product_df on item_id.\n",
      "\n",
      "### Answer:\n",
      "```python\n",
      "def get_function(question):\n",
      "    # Write your code here\n",
      "    import pandas as pd\n",
      "    import numpy as np\n",
      "    import datetime\n",
      "    import re\n",
      "    import math\n",
      "    import random\n",
      "    import matplotlib.pyplot as plt\n",
      "    import seaborn as sns\n",
      "    import warnings\n",
      "    warnings.filterwarnings(\"ignore\")\n",
      "    def get_transaction_scores():\n",
      "        df = pd.read_csv('data/transactions.csv')\n",
      "        df['timestamp'] = pd.to_datetime(df['timestamp'])\n",
      "        df['hour'] = df['timestamp'].dt.hour\n",
      "        df['day'] = df['timestamp'].dt.date\n",
      "        df['weekday'] = df['timestamp'].dt.weekday\n",
      "        df['month'] = df['timestamp'].dt.month\n",
      "        df['year'] = df['timestamp'].dt.year\n",
      "        df['time_of_day'] = df['timestamp'].dt.strftime(\"%H:%M:%S\")\n",
      "        return df\n",
      "\n",
      "    def get_customers():\n",
      "        customer_df = pd.read_csv('data/customers.csv')\n",
      "        return customer_df\n",
      "\n",
      "    def get_products():\n",
      "        product_df = pd.read_csv('data/products.csv')\n",
      "        return product_df\n",
      "\n",
      "    def join_tables():\n",
      "        df = get_transaction_scores()\n",
      "        customer_df = get_customers()\n",
      "        product_df = get_products()\n",
      "        df = df.merge(customer_df, how='left', left_on=['user_id'], right_on=['user_id'])\n",
      "        df = df.merge(product_df, how='left', left_on=['item_id'], right_on=['item_id'])\n",
      "        return df\n",
      "\n",
      "    def filter_peak_hours():\n",
      "        df = join_tables()\n",
      "        df = df[df['hour'] >= 8]\n",
      "        df = df[df['hour'] <= 10]\n",
      "        return df\n",
      "\n",
      "    def group_by_city_and_product_category():\n",
      "        df = filter_peak_hours()\n",
      "        df = df.groupby(['customer_city','product_category'])['score'].mean().reset_index()\n",
      "        return df\n",
      "\n",
      "    def plot_correlation():\n",
      "        df = group_by_city_and_product_category()\n",
      "        fig, ax = plt.subplots(figsize=(12,6))\n",
      "        sns.barplot(x=\"product_category\", y=\"score\", hue=\"customer_city\", data=df)\n",
      "        plt.show()\n",
      "\n",
      "    if 'What is the correlation' in question:\n",
      "        plot_correlation()\n",
      "    else:\n",
      "        print(\"Invalid question.\")\n",
      "\n",
      "get_function(question)\n"
     ]
    }
   ],
   "source": [
    "with torch.no_grad():\n",
    "    print(\n",
    "        eval_tokenizer.decode(\n",
    "            model.generate(\n",
    "                **model_input, \n",
    "                max_new_tokens=1024, \n",
    "                repetition_penalty=1.15, \n",
    "                pad_token_id=eval_tokenizer.eos_token_id\n",
    "            )[0], \n",
    "            skip_special_tokens=True\n",
    "        )\n",
    "    )"
   ]
  },
  {
   "cell_type": "code",
   "execution_count": 14,
   "id": "761a9bc7-c0e4-4566-b86b-fadd6c157e8c",
   "metadata": {
    "tags": []
   },
   "outputs": [
    {
     "name": "stdout",
     "output_type": "stream",
     "text": [
      "MistralForCausalLM(\n",
      "  (model): MistralModel(\n",
      "    (embed_tokens): Embedding(32000, 4096)\n",
      "    (layers): ModuleList(\n",
      "      (0-31): 32 x MistralDecoderLayer(\n",
      "        (self_attn): MistralAttention(\n",
      "          (q_proj): Linear4bit(in_features=4096, out_features=4096, bias=False)\n",
      "          (k_proj): Linear4bit(in_features=4096, out_features=1024, bias=False)\n",
      "          (v_proj): Linear4bit(in_features=4096, out_features=1024, bias=False)\n",
      "          (o_proj): Linear4bit(in_features=4096, out_features=4096, bias=False)\n",
      "          (rotary_emb): MistralRotaryEmbedding()\n",
      "        )\n",
      "        (mlp): MistralMLP(\n",
      "          (gate_proj): Linear4bit(in_features=4096, out_features=14336, bias=False)\n",
      "          (up_proj): Linear4bit(in_features=4096, out_features=14336, bias=False)\n",
      "          (down_proj): Linear4bit(in_features=14336, out_features=4096, bias=False)\n",
      "          (act_fn): SiLU()\n",
      "        )\n",
      "        (input_layernorm): MistralRMSNorm()\n",
      "        (post_attention_layernorm): MistralRMSNorm()\n",
      "      )\n",
      "    )\n",
      "    (norm): MistralRMSNorm()\n",
      "  )\n",
      "  (lm_head): Linear(in_features=4096, out_features=32000, bias=False)\n",
      ")\n"
     ]
    }
   ],
   "source": [
    "# Setup LoRA - \"Low Rank Adaptation\"\n",
    "# https://arxiv.org/abs/2106.09685v2 \n",
    "# This is a lossy method but established to provisde quite good performance\n",
    "from peft import prepare_model_for_kbit_training\n",
    "\n",
    "model.gradient_checkpointing_enable()\n",
    "model = prepare_model_for_kbit_training(model)\n",
    "\n",
    "def print_trainable_parameters(model):\n",
    "    \"\"\"\n",
    "    Prints the number of trainable parameters in the model.\n",
    "    \"\"\"\n",
    "    trainable_params = 0\n",
    "    all_param = 0\n",
    "    for _, param in model.named_parameters():\n",
    "        all_param += param.numel()\n",
    "        if param.requires_grad:\n",
    "            trainable_params += param.numel()\n",
    "    print(\n",
    "        f\"trainable params: {trainable_params} || all params: {all_param} || trainable%: {100 * trainable_params / all_param}\"\n",
    "    )\n",
    "\n",
    "print(model)"
   ]
  },
  {
   "cell_type": "code",
   "execution_count": 15,
   "id": "564c93e3-adef-483e-b240-0b7e242e8b61",
   "metadata": {
    "tags": []
   },
   "outputs": [
    {
     "name": "stdout",
     "output_type": "stream",
     "text": [
      "trainable params: 170082304 || all params: 3922153472 || trainable%: 4.336452033664837\n"
     ]
    }
   ],
   "source": [
    "# Define LoRA config\n",
    "from peft import LoraConfig, get_peft_model\n",
    "\n",
    "config = LoraConfig(\n",
    "    r=64,\n",
    "    lora_alpha=16,\n",
    "    target_modules=[\n",
    "        \"q_proj\",\n",
    "        \"k_proj\",\n",
    "        \"v_proj\",\n",
    "        \"o_proj\",\n",
    "        \"gate_proj\",\n",
    "        \"up_proj\",\n",
    "        \"down_proj\",\n",
    "        \"lm_head\",\n",
    "    ],\n",
    "    bias=\"none\",\n",
    "    lora_dropout=0.05,  # Conventional\n",
    "    task_type=\"CAUSAL_LM\",\n",
    ")\n",
    "\n",
    "model = get_peft_model(model, config)\n",
    "print_trainable_parameters(model)"
   ]
  },
  {
   "cell_type": "code",
   "execution_count": 16,
   "id": "355c361e-3dd3-4561-b1fd-5b8f6328543f",
   "metadata": {
    "tags": []
   },
   "outputs": [
    {
     "name": "stdout",
     "output_type": "stream",
     "text": [
      "PeftModelForCausalLM(\n",
      "  (base_model): LoraModel(\n",
      "    (model): MistralForCausalLM(\n",
      "      (model): MistralModel(\n",
      "        (embed_tokens): Embedding(32000, 4096)\n",
      "        (layers): ModuleList(\n",
      "          (0-31): 32 x MistralDecoderLayer(\n",
      "            (self_attn): MistralAttention(\n",
      "              (q_proj): lora.Linear4bit(\n",
      "                (base_layer): Linear4bit(in_features=4096, out_features=4096, bias=False)\n",
      "                (lora_dropout): ModuleDict(\n",
      "                  (default): Dropout(p=0.05, inplace=False)\n",
      "                )\n",
      "                (lora_A): ModuleDict(\n",
      "                  (default): Linear(in_features=4096, out_features=64, bias=False)\n",
      "                )\n",
      "                (lora_B): ModuleDict(\n",
      "                  (default): Linear(in_features=64, out_features=4096, bias=False)\n",
      "                )\n",
      "                (lora_embedding_A): ParameterDict()\n",
      "                (lora_embedding_B): ParameterDict()\n",
      "              )\n",
      "              (k_proj): lora.Linear4bit(\n",
      "                (base_layer): Linear4bit(in_features=4096, out_features=1024, bias=False)\n",
      "                (lora_dropout): ModuleDict(\n",
      "                  (default): Dropout(p=0.05, inplace=False)\n",
      "                )\n",
      "                (lora_A): ModuleDict(\n",
      "                  (default): Linear(in_features=4096, out_features=64, bias=False)\n",
      "                )\n",
      "                (lora_B): ModuleDict(\n",
      "                  (default): Linear(in_features=64, out_features=1024, bias=False)\n",
      "                )\n",
      "                (lora_embedding_A): ParameterDict()\n",
      "                (lora_embedding_B): ParameterDict()\n",
      "              )\n",
      "              (v_proj): lora.Linear4bit(\n",
      "                (base_layer): Linear4bit(in_features=4096, out_features=1024, bias=False)\n",
      "                (lora_dropout): ModuleDict(\n",
      "                  (default): Dropout(p=0.05, inplace=False)\n",
      "                )\n",
      "                (lora_A): ModuleDict(\n",
      "                  (default): Linear(in_features=4096, out_features=64, bias=False)\n",
      "                )\n",
      "                (lora_B): ModuleDict(\n",
      "                  (default): Linear(in_features=64, out_features=1024, bias=False)\n",
      "                )\n",
      "                (lora_embedding_A): ParameterDict()\n",
      "                (lora_embedding_B): ParameterDict()\n",
      "              )\n",
      "              (o_proj): lora.Linear4bit(\n",
      "                (base_layer): Linear4bit(in_features=4096, out_features=4096, bias=False)\n",
      "                (lora_dropout): ModuleDict(\n",
      "                  (default): Dropout(p=0.05, inplace=False)\n",
      "                )\n",
      "                (lora_A): ModuleDict(\n",
      "                  (default): Linear(in_features=4096, out_features=64, bias=False)\n",
      "                )\n",
      "                (lora_B): ModuleDict(\n",
      "                  (default): Linear(in_features=64, out_features=4096, bias=False)\n",
      "                )\n",
      "                (lora_embedding_A): ParameterDict()\n",
      "                (lora_embedding_B): ParameterDict()\n",
      "              )\n",
      "              (rotary_emb): MistralRotaryEmbedding()\n",
      "            )\n",
      "            (mlp): MistralMLP(\n",
      "              (gate_proj): lora.Linear4bit(\n",
      "                (base_layer): Linear4bit(in_features=4096, out_features=14336, bias=False)\n",
      "                (lora_dropout): ModuleDict(\n",
      "                  (default): Dropout(p=0.05, inplace=False)\n",
      "                )\n",
      "                (lora_A): ModuleDict(\n",
      "                  (default): Linear(in_features=4096, out_features=64, bias=False)\n",
      "                )\n",
      "                (lora_B): ModuleDict(\n",
      "                  (default): Linear(in_features=64, out_features=14336, bias=False)\n",
      "                )\n",
      "                (lora_embedding_A): ParameterDict()\n",
      "                (lora_embedding_B): ParameterDict()\n",
      "              )\n",
      "              (up_proj): lora.Linear4bit(\n",
      "                (base_layer): Linear4bit(in_features=4096, out_features=14336, bias=False)\n",
      "                (lora_dropout): ModuleDict(\n",
      "                  (default): Dropout(p=0.05, inplace=False)\n",
      "                )\n",
      "                (lora_A): ModuleDict(\n",
      "                  (default): Linear(in_features=4096, out_features=64, bias=False)\n",
      "                )\n",
      "                (lora_B): ModuleDict(\n",
      "                  (default): Linear(in_features=64, out_features=14336, bias=False)\n",
      "                )\n",
      "                (lora_embedding_A): ParameterDict()\n",
      "                (lora_embedding_B): ParameterDict()\n",
      "              )\n",
      "              (down_proj): lora.Linear4bit(\n",
      "                (base_layer): Linear4bit(in_features=14336, out_features=4096, bias=False)\n",
      "                (lora_dropout): ModuleDict(\n",
      "                  (default): Dropout(p=0.05, inplace=False)\n",
      "                )\n",
      "                (lora_A): ModuleDict(\n",
      "                  (default): Linear(in_features=14336, out_features=64, bias=False)\n",
      "                )\n",
      "                (lora_B): ModuleDict(\n",
      "                  (default): Linear(in_features=64, out_features=4096, bias=False)\n",
      "                )\n",
      "                (lora_embedding_A): ParameterDict()\n",
      "                (lora_embedding_B): ParameterDict()\n",
      "              )\n",
      "              (act_fn): SiLU()\n",
      "            )\n",
      "            (input_layernorm): MistralRMSNorm()\n",
      "            (post_attention_layernorm): MistralRMSNorm()\n",
      "          )\n",
      "        )\n",
      "        (norm): MistralRMSNorm()\n",
      "      )\n",
      "      (lm_head): lora.Linear(\n",
      "        (base_layer): Linear(in_features=4096, out_features=32000, bias=False)\n",
      "        (lora_dropout): ModuleDict(\n",
      "          (default): Dropout(p=0.05, inplace=False)\n",
      "        )\n",
      "        (lora_A): ModuleDict(\n",
      "          (default): Linear(in_features=4096, out_features=64, bias=False)\n",
      "        )\n",
      "        (lora_B): ModuleDict(\n",
      "          (default): Linear(in_features=64, out_features=32000, bias=False)\n",
      "        )\n",
      "        (lora_embedding_A): ParameterDict()\n",
      "        (lora_embedding_B): ParameterDict()\n",
      "      )\n",
      "    )\n",
      "  )\n",
      ")\n"
     ]
    }
   ],
   "source": [
    "print(model)"
   ]
  },
  {
   "cell_type": "code",
   "execution_count": 17,
   "id": "05736c78-8738-4172-8f72-55d18480cbc3",
   "metadata": {
    "tags": []
   },
   "outputs": [],
   "source": [
    "# Enable parallelisation if multiple GPUs available\n",
    "if torch.cuda.device_count() > 1:\n",
    "    model.is_parallelizable = True\n",
    "    model.model_parallel = True"
   ]
  },
  {
   "cell_type": "code",
   "execution_count": 18,
   "id": "6a7dd845-fb73-459c-ad4b-03efe7bc4f38",
   "metadata": {
    "tags": []
   },
   "outputs": [],
   "source": [
    "# Use accelerator\n",
    "model = accelerator.prepare_model(model)"
   ]
  },
  {
   "cell_type": "code",
   "execution_count": 19,
   "id": "91c0ade8-1155-4939-b450-db65df45cef9",
   "metadata": {
    "tags": []
   },
   "outputs": [
    {
     "data": {
      "text/html": [
       "Changes to your `wandb` environment variables will be ignored because your `wandb` session has already started. For more information on how to modify your settings with `wandb.init()` arguments, please refer to <a href='https://wandb.me/wandb-init' target=\"_blank\">the W&B docs</a>."
      ],
      "text/plain": [
       "<IPython.core.display.HTML object>"
      ]
     },
     "metadata": {},
     "output_type": "display_data"
    },
    {
     "data": {
      "text/html": [
       "Tracking run with wandb version 0.16.6"
      ],
      "text/plain": [
       "<IPython.core.display.HTML object>"
      ]
     },
     "metadata": {},
     "output_type": "display_data"
    },
    {
     "data": {
      "text/html": [
       "Run data is saved locally in <code>/home/jovyan/LLM_CRM_PERSO/try_outs/wandb/run-20240420_184050-bp9i4uov</code>"
      ],
      "text/plain": [
       "<IPython.core.display.HTML object>"
      ]
     },
     "metadata": {},
     "output_type": "display_data"
    },
    {
     "data": {
      "text/html": [
       "Syncing run <strong><a href='https://wandb.ai/nayan4learn/finetune-mistral-01/runs/bp9i4uov' target=\"_blank\">finetune-mistral-2024-04-20-18-40</a></strong> to <a href='https://wandb.ai/nayan4learn/finetune-mistral-01' target=\"_blank\">Weights & Biases</a> (<a href='https://wandb.me/run' target=\"_blank\">docs</a>)<br/>"
      ],
      "text/plain": [
       "<IPython.core.display.HTML object>"
      ]
     },
     "metadata": {},
     "output_type": "display_data"
    },
    {
     "data": {
      "text/html": [
       " View project at <a href='https://wandb.ai/nayan4learn/finetune-mistral-01' target=\"_blank\">https://wandb.ai/nayan4learn/finetune-mistral-01</a>"
      ],
      "text/plain": [
       "<IPython.core.display.HTML object>"
      ]
     },
     "metadata": {},
     "output_type": "display_data"
    },
    {
     "data": {
      "text/html": [
       " View run at <a href='https://wandb.ai/nayan4learn/finetune-mistral-01/runs/bp9i4uov' target=\"_blank\">https://wandb.ai/nayan4learn/finetune-mistral-01/runs/bp9i4uov</a>"
      ],
      "text/plain": [
       "<IPython.core.display.HTML object>"
      ]
     },
     "metadata": {},
     "output_type": "display_data"
    },
    {
     "name": "stderr",
     "output_type": "stream",
     "text": [
      "You're using a LlamaTokenizerFast tokenizer. Please note that with a fast tokenizer, using the `__call__` method is faster than using a method to encode the text followed by a call to the `pad` method to get a padded encoding.\n"
     ]
    },
    {
     "data": {
      "text/html": [
       "\n",
       "    <div>\n",
       "      \n",
       "      <progress value='500' max='500' style='width:300px; height:20px; vertical-align: middle;'></progress>\n",
       "      [500/500 14:26, Epoch 3/4]\n",
       "    </div>\n",
       "    <table border=\"1\" class=\"dataframe\">\n",
       "  <thead>\n",
       " <tr style=\"text-align: left;\">\n",
       "      <th>Step</th>\n",
       "      <th>Training Loss</th>\n",
       "      <th>Validation Loss</th>\n",
       "    </tr>\n",
       "  </thead>\n",
       "  <tbody>\n",
       "    <tr>\n",
       "      <td>25</td>\n",
       "      <td>0.830600</td>\n",
       "      <td>0.362868</td>\n",
       "    </tr>\n",
       "    <tr>\n",
       "      <td>50</td>\n",
       "      <td>0.259100</td>\n",
       "      <td>0.213522</td>\n",
       "    </tr>\n",
       "    <tr>\n",
       "      <td>75</td>\n",
       "      <td>0.201800</td>\n",
       "      <td>0.193632</td>\n",
       "    </tr>\n",
       "    <tr>\n",
       "      <td>100</td>\n",
       "      <td>0.179200</td>\n",
       "      <td>0.179639</td>\n",
       "    </tr>\n",
       "    <tr>\n",
       "      <td>125</td>\n",
       "      <td>0.177800</td>\n",
       "      <td>0.171921</td>\n",
       "    </tr>\n",
       "    <tr>\n",
       "      <td>150</td>\n",
       "      <td>0.179400</td>\n",
       "      <td>0.167416</td>\n",
       "    </tr>\n",
       "    <tr>\n",
       "      <td>175</td>\n",
       "      <td>0.150400</td>\n",
       "      <td>0.163380</td>\n",
       "    </tr>\n",
       "    <tr>\n",
       "      <td>200</td>\n",
       "      <td>0.140000</td>\n",
       "      <td>0.160474</td>\n",
       "    </tr>\n",
       "    <tr>\n",
       "      <td>225</td>\n",
       "      <td>0.121300</td>\n",
       "      <td>0.160498</td>\n",
       "    </tr>\n",
       "    <tr>\n",
       "      <td>250</td>\n",
       "      <td>0.140900</td>\n",
       "      <td>0.158252</td>\n",
       "    </tr>\n",
       "    <tr>\n",
       "      <td>275</td>\n",
       "      <td>0.150300</td>\n",
       "      <td>0.156899</td>\n",
       "    </tr>\n",
       "    <tr>\n",
       "      <td>300</td>\n",
       "      <td>0.139800</td>\n",
       "      <td>0.155026</td>\n",
       "    </tr>\n",
       "    <tr>\n",
       "      <td>325</td>\n",
       "      <td>0.141300</td>\n",
       "      <td>0.153112</td>\n",
       "    </tr>\n",
       "    <tr>\n",
       "      <td>350</td>\n",
       "      <td>0.117200</td>\n",
       "      <td>0.153499</td>\n",
       "    </tr>\n",
       "    <tr>\n",
       "      <td>375</td>\n",
       "      <td>0.101000</td>\n",
       "      <td>0.153249</td>\n",
       "    </tr>\n",
       "    <tr>\n",
       "      <td>400</td>\n",
       "      <td>0.121300</td>\n",
       "      <td>0.150984</td>\n",
       "    </tr>\n",
       "    <tr>\n",
       "      <td>425</td>\n",
       "      <td>0.109500</td>\n",
       "      <td>0.151906</td>\n",
       "    </tr>\n",
       "    <tr>\n",
       "      <td>450</td>\n",
       "      <td>0.114500</td>\n",
       "      <td>0.151685</td>\n",
       "    </tr>\n",
       "    <tr>\n",
       "      <td>475</td>\n",
       "      <td>0.105900</td>\n",
       "      <td>0.151083</td>\n",
       "    </tr>\n",
       "    <tr>\n",
       "      <td>500</td>\n",
       "      <td>0.110900</td>\n",
       "      <td>0.150590</td>\n",
       "    </tr>\n",
       "  </tbody>\n",
       "</table><p>"
      ],
      "text/plain": [
       "<IPython.core.display.HTML object>"
      ]
     },
     "metadata": {},
     "output_type": "display_data"
    },
    {
     "name": "stderr",
     "output_type": "stream",
     "text": [
      "/home/jovyan/LLM_CRM_PERSO/.venv/lib/python3.10/site-packages/peft/utils/save_and_load.py:139: UserWarning: Setting `save_embedding_layers` to `True` as embedding layers found in `target_modules`.\n",
      "  warnings.warn(\"Setting `save_embedding_layers` to `True` as embedding layers found in `target_modules`.\")\n",
      "/home/jovyan/LLM_CRM_PERSO/.venv/lib/python3.10/site-packages/peft/utils/save_and_load.py:139: UserWarning: Setting `save_embedding_layers` to `True` as embedding layers found in `target_modules`.\n",
      "  warnings.warn(\"Setting `save_embedding_layers` to `True` as embedding layers found in `target_modules`.\")\n",
      "/home/jovyan/LLM_CRM_PERSO/.venv/lib/python3.10/site-packages/peft/utils/save_and_load.py:139: UserWarning: Setting `save_embedding_layers` to `True` as embedding layers found in `target_modules`.\n",
      "  warnings.warn(\"Setting `save_embedding_layers` to `True` as embedding layers found in `target_modules`.\")\n",
      "/home/jovyan/LLM_CRM_PERSO/.venv/lib/python3.10/site-packages/peft/utils/save_and_load.py:139: UserWarning: Setting `save_embedding_layers` to `True` as embedding layers found in `target_modules`.\n",
      "  warnings.warn(\"Setting `save_embedding_layers` to `True` as embedding layers found in `target_modules`.\")\n",
      "/home/jovyan/LLM_CRM_PERSO/.venv/lib/python3.10/site-packages/peft/utils/save_and_load.py:139: UserWarning: Setting `save_embedding_layers` to `True` as embedding layers found in `target_modules`.\n",
      "  warnings.warn(\"Setting `save_embedding_layers` to `True` as embedding layers found in `target_modules`.\")\n",
      "/home/jovyan/LLM_CRM_PERSO/.venv/lib/python3.10/site-packages/peft/utils/save_and_load.py:139: UserWarning: Setting `save_embedding_layers` to `True` as embedding layers found in `target_modules`.\n",
      "  warnings.warn(\"Setting `save_embedding_layers` to `True` as embedding layers found in `target_modules`.\")\n",
      "/home/jovyan/LLM_CRM_PERSO/.venv/lib/python3.10/site-packages/peft/utils/save_and_load.py:139: UserWarning: Setting `save_embedding_layers` to `True` as embedding layers found in `target_modules`.\n",
      "  warnings.warn(\"Setting `save_embedding_layers` to `True` as embedding layers found in `target_modules`.\")\n",
      "/home/jovyan/LLM_CRM_PERSO/.venv/lib/python3.10/site-packages/peft/utils/save_and_load.py:139: UserWarning: Setting `save_embedding_layers` to `True` as embedding layers found in `target_modules`.\n",
      "  warnings.warn(\"Setting `save_embedding_layers` to `True` as embedding layers found in `target_modules`.\")\n",
      "/home/jovyan/LLM_CRM_PERSO/.venv/lib/python3.10/site-packages/peft/utils/save_and_load.py:139: UserWarning: Setting `save_embedding_layers` to `True` as embedding layers found in `target_modules`.\n",
      "  warnings.warn(\"Setting `save_embedding_layers` to `True` as embedding layers found in `target_modules`.\")\n",
      "/home/jovyan/LLM_CRM_PERSO/.venv/lib/python3.10/site-packages/peft/utils/save_and_load.py:139: UserWarning: Setting `save_embedding_layers` to `True` as embedding layers found in `target_modules`.\n",
      "  warnings.warn(\"Setting `save_embedding_layers` to `True` as embedding layers found in `target_modules`.\")\n",
      "/home/jovyan/LLM_CRM_PERSO/.venv/lib/python3.10/site-packages/peft/utils/save_and_load.py:139: UserWarning: Setting `save_embedding_layers` to `True` as embedding layers found in `target_modules`.\n",
      "  warnings.warn(\"Setting `save_embedding_layers` to `True` as embedding layers found in `target_modules`.\")\n",
      "/home/jovyan/LLM_CRM_PERSO/.venv/lib/python3.10/site-packages/peft/utils/save_and_load.py:139: UserWarning: Setting `save_embedding_layers` to `True` as embedding layers found in `target_modules`.\n",
      "  warnings.warn(\"Setting `save_embedding_layers` to `True` as embedding layers found in `target_modules`.\")\n",
      "/home/jovyan/LLM_CRM_PERSO/.venv/lib/python3.10/site-packages/peft/utils/save_and_load.py:139: UserWarning: Setting `save_embedding_layers` to `True` as embedding layers found in `target_modules`.\n",
      "  warnings.warn(\"Setting `save_embedding_layers` to `True` as embedding layers found in `target_modules`.\")\n",
      "/home/jovyan/LLM_CRM_PERSO/.venv/lib/python3.10/site-packages/peft/utils/save_and_load.py:139: UserWarning: Setting `save_embedding_layers` to `True` as embedding layers found in `target_modules`.\n",
      "  warnings.warn(\"Setting `save_embedding_layers` to `True` as embedding layers found in `target_modules`.\")\n",
      "/home/jovyan/LLM_CRM_PERSO/.venv/lib/python3.10/site-packages/peft/utils/save_and_load.py:139: UserWarning: Setting `save_embedding_layers` to `True` as embedding layers found in `target_modules`.\n",
      "  warnings.warn(\"Setting `save_embedding_layers` to `True` as embedding layers found in `target_modules`.\")\n",
      "/home/jovyan/LLM_CRM_PERSO/.venv/lib/python3.10/site-packages/peft/utils/save_and_load.py:139: UserWarning: Setting `save_embedding_layers` to `True` as embedding layers found in `target_modules`.\n",
      "  warnings.warn(\"Setting `save_embedding_layers` to `True` as embedding layers found in `target_modules`.\")\n",
      "/home/jovyan/LLM_CRM_PERSO/.venv/lib/python3.10/site-packages/peft/utils/save_and_load.py:139: UserWarning: Setting `save_embedding_layers` to `True` as embedding layers found in `target_modules`.\n",
      "  warnings.warn(\"Setting `save_embedding_layers` to `True` as embedding layers found in `target_modules`.\")\n",
      "/home/jovyan/LLM_CRM_PERSO/.venv/lib/python3.10/site-packages/peft/utils/save_and_load.py:139: UserWarning: Setting `save_embedding_layers` to `True` as embedding layers found in `target_modules`.\n",
      "  warnings.warn(\"Setting `save_embedding_layers` to `True` as embedding layers found in `target_modules`.\")\n",
      "/home/jovyan/LLM_CRM_PERSO/.venv/lib/python3.10/site-packages/peft/utils/save_and_load.py:139: UserWarning: Setting `save_embedding_layers` to `True` as embedding layers found in `target_modules`.\n",
      "  warnings.warn(\"Setting `save_embedding_layers` to `True` as embedding layers found in `target_modules`.\")\n",
      "/home/jovyan/LLM_CRM_PERSO/.venv/lib/python3.10/site-packages/peft/utils/save_and_load.py:139: UserWarning: Setting `save_embedding_layers` to `True` as embedding layers found in `target_modules`.\n",
      "  warnings.warn(\"Setting `save_embedding_layers` to `True` as embedding layers found in `target_modules`.\")\n"
     ]
    },
    {
     "data": {
      "text/plain": [
       "TrainOutput(global_step=500, training_loss=0.17961270523071288, metrics={'train_runtime': 868.9765, 'train_samples_per_second': 1.151, 'train_steps_per_second': 0.575, 'total_flos': 4.45986826616832e+16, 'train_loss': 0.17961270523071288, 'epoch': 3.03})"
      ]
     },
     "execution_count": 19,
     "metadata": {},
     "output_type": "execute_result"
    }
   ],
   "source": [
    "# Train model\n",
    "##### WARNING #####\n",
    "# Ignore the below warning probably generated by the data_collator\n",
    "# You're using a LlamaTokenizerFast tokenizer. \n",
    "# Please note that with a fast tokenizer, using the `__call__` method is faster than using a method to encode the text followed by a call to the `pad` method to get a padded encoding.\n",
    "#\n",
    "# Ignore the below warning based on the Lora config setup.\n",
    "# UserWarning: Setting `save_embedding_layers` to `True` as embedding layers found in `target_modules`.\n",
    "#  warnings.warn(\"Setting `save_embedding_layers` to `True` as embedding layers found in `target_modules`.\")\n",
    "##### ####### #####\n",
    "import transformers\n",
    "from datetime import datetime\n",
    "\n",
    "iter_str = \"01\"\n",
    "project = \"finetune\"\n",
    "base_model_name = \"mistral\"\n",
    "run_name = iter_str + \"-\" + project + \"-\" + base_model_name\n",
    "output_dir = \"../models/\" + run_name\n",
    "\n",
    "trainer = transformers.Trainer(\n",
    "    model=model,\n",
    "    train_dataset=tokenized_train_dataset,\n",
    "    eval_dataset=tokenized_val_dataset,\n",
    "    args=transformers.TrainingArguments(\n",
    "        output_dir=output_dir,\n",
    "        warmup_steps=1,\n",
    "        per_device_train_batch_size=2,\n",
    "        gradient_accumulation_steps=1,\n",
    "        gradient_checkpointing=True,\n",
    "        gradient_checkpointing_kwargs={\"use_reentrant\":True},\n",
    "        max_steps=500,\n",
    "        learning_rate=2.5e-5,                                              # Want a small lr for finetuning\n",
    "        bf16=True,\n",
    "        optim=\"paged_adamw_8bit\",\n",
    "        logging_steps=25,                                                  # When to start reporting loss\n",
    "        logging_dir=\"./logs\",                                              # Directory for storing logs\n",
    "        save_strategy=\"steps\",                                             # Save the model checkpoint every logging step\n",
    "        save_steps=25,                                                     # Save checkpoints every 25 steps\n",
    "        evaluation_strategy=\"steps\",                                       # Evaluate the model every logging step\n",
    "        eval_steps=25,                                                     # Evaluate and save checkpoints every 25 steps\n",
    "        do_eval=True,                                                      # Perform evaluation at the end of training\n",
    "        report_to=\"wandb\",                                                 # Comment this out if you don't want to use weights & baises\n",
    "        run_name=f\"{run_name}-{datetime.now().strftime('%Y-%m-%d-%H-%M')}\" # Name of the W&B run (optional)\n",
    "    ),\n",
    "    data_collator=transformers.DataCollatorForLanguageModeling(\n",
    "        tokenizer, \n",
    "        mlm=False\n",
    "    ),\n",
    ")\n",
    "\n",
    "model.config.use_cache = False                                             # silence the warnings. Please re-enable for inference!\n",
    "trainer.train()"
   ]
  },
  {
   "cell_type": "code",
   "execution_count": 1,
   "id": "6030559b-f7da-4d27-ba5a-f0176d587a3a",
   "metadata": {},
   "outputs": [
    {
     "data": {
      "application/vnd.jupyter.widget-view+json": {
       "model_id": "0bebddbfa1514482b8f190bdd6318240",
       "version_major": 2,
       "version_minor": 0
      },
      "text/plain": [
       "Loading checkpoint shards:   0%|          | 0/2 [00:00<?, ?it/s]"
      ]
     },
     "metadata": {},
     "output_type": "display_data"
    }
   ],
   "source": [
    "# Load base model for inference\n",
    "import torch\n",
    "from transformers import (\n",
    "    AutoTokenizer, \n",
    "    AutoModelForCausalLM, \n",
    "    BitsAndBytesConfig\n",
    ")\n",
    "\n",
    "base_model_id = \"mistralai/Mistral-7B-v0.1\"\n",
    "bnb_config = BitsAndBytesConfig(\n",
    "    load_in_4bit=True,\n",
    "    bnb_4bit_use_double_quant=True,\n",
    "    bnb_4bit_quant_type=\"nf4\",\n",
    "    bnb_4bit_compute_dtype=torch.bfloat16\n",
    ")\n",
    "\n",
    "base_model = AutoModelForCausalLM.from_pretrained(\n",
    "    base_model_id, \n",
    "    quantization_config=bnb_config, \n",
    "    device_map=\"auto\"\n",
    ")\n",
    "\n",
    "eval_tokenizer = AutoTokenizer.from_pretrained(\n",
    "    base_model_id, \n",
    "    add_bos_token=True, \n",
    "    trust_remote_code=True\n",
    ")"
   ]
  },
  {
   "cell_type": "code",
   "execution_count": 2,
   "id": "ad4002f2-c936-474b-a6b6-ed411b0cd916",
   "metadata": {
    "tags": []
   },
   "outputs": [],
   "source": [
    "from peft import PeftModel\n",
    "\n",
    "ft_model = PeftModel.from_pretrained(base_model, \"../models/01-finetune-mistral/checkpoint-150\")"
   ]
  },
  {
   "cell_type": "code",
   "execution_count": 3,
   "id": "44767a88-2a29-40a7-b95a-3e158711f5b2",
   "metadata": {
    "tags": []
   },
   "outputs": [
    {
     "data": {
      "text/plain": [
       "PeftModelForCausalLM(\n",
       "  (base_model): LoraModel(\n",
       "    (model): MistralForCausalLM(\n",
       "      (model): MistralModel(\n",
       "        (embed_tokens): Embedding(32000, 4096)\n",
       "        (layers): ModuleList(\n",
       "          (0-31): 32 x MistralDecoderLayer(\n",
       "            (self_attn): MistralAttention(\n",
       "              (q_proj): lora.Linear4bit(\n",
       "                (base_layer): Linear4bit(in_features=4096, out_features=4096, bias=False)\n",
       "                (lora_dropout): ModuleDict(\n",
       "                  (default): Dropout(p=0.05, inplace=False)\n",
       "                )\n",
       "                (lora_A): ModuleDict(\n",
       "                  (default): Linear(in_features=4096, out_features=64, bias=False)\n",
       "                )\n",
       "                (lora_B): ModuleDict(\n",
       "                  (default): Linear(in_features=64, out_features=4096, bias=False)\n",
       "                )\n",
       "                (lora_embedding_A): ParameterDict()\n",
       "                (lora_embedding_B): ParameterDict()\n",
       "              )\n",
       "              (k_proj): lora.Linear4bit(\n",
       "                (base_layer): Linear4bit(in_features=4096, out_features=1024, bias=False)\n",
       "                (lora_dropout): ModuleDict(\n",
       "                  (default): Dropout(p=0.05, inplace=False)\n",
       "                )\n",
       "                (lora_A): ModuleDict(\n",
       "                  (default): Linear(in_features=4096, out_features=64, bias=False)\n",
       "                )\n",
       "                (lora_B): ModuleDict(\n",
       "                  (default): Linear(in_features=64, out_features=1024, bias=False)\n",
       "                )\n",
       "                (lora_embedding_A): ParameterDict()\n",
       "                (lora_embedding_B): ParameterDict()\n",
       "              )\n",
       "              (v_proj): lora.Linear4bit(\n",
       "                (base_layer): Linear4bit(in_features=4096, out_features=1024, bias=False)\n",
       "                (lora_dropout): ModuleDict(\n",
       "                  (default): Dropout(p=0.05, inplace=False)\n",
       "                )\n",
       "                (lora_A): ModuleDict(\n",
       "                  (default): Linear(in_features=4096, out_features=64, bias=False)\n",
       "                )\n",
       "                (lora_B): ModuleDict(\n",
       "                  (default): Linear(in_features=64, out_features=1024, bias=False)\n",
       "                )\n",
       "                (lora_embedding_A): ParameterDict()\n",
       "                (lora_embedding_B): ParameterDict()\n",
       "              )\n",
       "              (o_proj): lora.Linear4bit(\n",
       "                (base_layer): Linear4bit(in_features=4096, out_features=4096, bias=False)\n",
       "                (lora_dropout): ModuleDict(\n",
       "                  (default): Dropout(p=0.05, inplace=False)\n",
       "                )\n",
       "                (lora_A): ModuleDict(\n",
       "                  (default): Linear(in_features=4096, out_features=64, bias=False)\n",
       "                )\n",
       "                (lora_B): ModuleDict(\n",
       "                  (default): Linear(in_features=64, out_features=4096, bias=False)\n",
       "                )\n",
       "                (lora_embedding_A): ParameterDict()\n",
       "                (lora_embedding_B): ParameterDict()\n",
       "              )\n",
       "              (rotary_emb): MistralRotaryEmbedding()\n",
       "            )\n",
       "            (mlp): MistralMLP(\n",
       "              (gate_proj): lora.Linear4bit(\n",
       "                (base_layer): Linear4bit(in_features=4096, out_features=14336, bias=False)\n",
       "                (lora_dropout): ModuleDict(\n",
       "                  (default): Dropout(p=0.05, inplace=False)\n",
       "                )\n",
       "                (lora_A): ModuleDict(\n",
       "                  (default): Linear(in_features=4096, out_features=64, bias=False)\n",
       "                )\n",
       "                (lora_B): ModuleDict(\n",
       "                  (default): Linear(in_features=64, out_features=14336, bias=False)\n",
       "                )\n",
       "                (lora_embedding_A): ParameterDict()\n",
       "                (lora_embedding_B): ParameterDict()\n",
       "              )\n",
       "              (up_proj): lora.Linear4bit(\n",
       "                (base_layer): Linear4bit(in_features=4096, out_features=14336, bias=False)\n",
       "                (lora_dropout): ModuleDict(\n",
       "                  (default): Dropout(p=0.05, inplace=False)\n",
       "                )\n",
       "                (lora_A): ModuleDict(\n",
       "                  (default): Linear(in_features=4096, out_features=64, bias=False)\n",
       "                )\n",
       "                (lora_B): ModuleDict(\n",
       "                  (default): Linear(in_features=64, out_features=14336, bias=False)\n",
       "                )\n",
       "                (lora_embedding_A): ParameterDict()\n",
       "                (lora_embedding_B): ParameterDict()\n",
       "              )\n",
       "              (down_proj): lora.Linear4bit(\n",
       "                (base_layer): Linear4bit(in_features=14336, out_features=4096, bias=False)\n",
       "                (lora_dropout): ModuleDict(\n",
       "                  (default): Dropout(p=0.05, inplace=False)\n",
       "                )\n",
       "                (lora_A): ModuleDict(\n",
       "                  (default): Linear(in_features=14336, out_features=64, bias=False)\n",
       "                )\n",
       "                (lora_B): ModuleDict(\n",
       "                  (default): Linear(in_features=64, out_features=4096, bias=False)\n",
       "                )\n",
       "                (lora_embedding_A): ParameterDict()\n",
       "                (lora_embedding_B): ParameterDict()\n",
       "              )\n",
       "              (act_fn): SiLU()\n",
       "            )\n",
       "            (input_layernorm): MistralRMSNorm()\n",
       "            (post_attention_layernorm): MistralRMSNorm()\n",
       "          )\n",
       "        )\n",
       "        (norm): MistralRMSNorm()\n",
       "      )\n",
       "      (lm_head): lora.Linear(\n",
       "        (base_layer): Linear(in_features=4096, out_features=32000, bias=False)\n",
       "        (lora_dropout): ModuleDict(\n",
       "          (default): Dropout(p=0.05, inplace=False)\n",
       "        )\n",
       "        (lora_A): ModuleDict(\n",
       "          (default): Linear(in_features=4096, out_features=64, bias=False)\n",
       "        )\n",
       "        (lora_B): ModuleDict(\n",
       "          (default): Linear(in_features=64, out_features=32000, bias=False)\n",
       "        )\n",
       "        (lora_embedding_A): ParameterDict()\n",
       "        (lora_embedding_B): ParameterDict()\n",
       "      )\n",
       "    )\n",
       "  )\n",
       ")"
      ]
     },
     "execution_count": 3,
     "metadata": {},
     "output_type": "execute_result"
    }
   ],
   "source": [
    "# Load dataset\n",
    "from datasets import load_dataset\n",
    "\n",
    "train_dataset = load_dataset('json', data_files='../data/train_CRM_data.json', split='train')\n",
    "eval_dataset = load_dataset('json', data_files='../data/val_CRM_data.json', split='train')\n",
    "test_dataset = load_dataset('json', data_files='../data/test_CRM_data.json', split='train')\n",
    "\n",
    "# Formatting prompts\n",
    "def formatting_func(message):\n",
    "    # Extracting question, context, and answer from the message\n",
    "    question = message[1]['content']\n",
    "    context = message[0]['content']\n",
    "    answer = message[2]['content']\n",
    "\n",
    "    # Formatting the extracted information into text format\n",
    "    text_format = f\"\"\"\n",
    "### Question: {question}\n",
    "\n",
    "### Context: {context}\n",
    "### Answer: \n",
    "{answer}\n",
    "    \"\"\"\n",
    "\n",
    "    return text_format.strip()\n",
    "\n",
    "# check base model performance\n",
    "prompt = formatting_func(eval_dataset[0]['messages'])\n",
    "\n",
    "# Find the index of \"### Answer:\"\n",
    "index_answer = prompt.find(\"### Answer:\")\n",
    "\n",
    "# Extract the string up to \"### Answer:\"\n",
    "eval_prompt = prompt[:index_answer + len(\"### Answer:\")].strip()\n",
    "\n",
    "# Init an eval tokenizer that doesn't add padding or eos token\n",
    "eval_tokenizer = AutoTokenizer.from_pretrained(\n",
    "    base_model_id,\n",
    "    add_bos_token=True,\n",
    ")\n",
    "\n",
    "model_input = eval_tokenizer(\n",
    "    eval_prompt, \n",
    "    return_tensors=\"pt\"\n",
    ").to(\"cuda\")\n",
    "\n",
    "ft_model.eval()"
   ]
  },
  {
   "cell_type": "code",
   "execution_count": 4,
   "id": "5d65ff34-0511-464a-abb2-e72e45530c97",
   "metadata": {
    "tags": []
   },
   "outputs": [
    {
     "name": "stdout",
     "output_type": "stream",
     "text": [
      "### Question: What is the correlation between transaction scores and customer city, as well as product category during peak hours, specifically from 8 AM to 10 AM?\n",
      "\n",
      "### Context: \n",
      "You are a Python function generator. Users will ask you questions in English, \n",
      "and you will produce a Python function as answer to the question based on the provided CONTEXT.\n",
      "\n",
      "CONTEXT:\n",
      "Pandas DataFrame df containing transaction data with columns order_id, user_id, item_id, timestamp, score.\n",
      "order_id takes string datatype and identifies the order.\n",
      "user_id takes string datatype and identifies the customer.\n",
      "item_id takes string datatype that identifies the product.\n",
      "timestamp takes timestamp datatype and represents the datetimestamp of transaction.\n",
      "score takes float datatype and represents the score of the transaction.\n",
      "Note that a customer can make multiple transactions for a product but the customer product pair will be just one entry for each order.\n",
      "Pandas DataFrame customer_dfcontaining customer data with columns user_id, customer_city.\n",
      "user_id takes string datatype and identifies the customer.\n",
      "customer_city takes string datatype and represents the city where the customer resides.\n",
      "Note that df can be joined with customer_df on user_id.\n",
      "Pandas DataFrame product_dfcontaining product data with columns item_id, product_category.\n",
      "item_id takes string datatype that identifies the product.\n",
      "product_category takes string datatype and represents the product category in the product hierarchy.\n",
      "Note that df can be joined with product_df on item_id.\n",
      "\n",
      "### Answer: \n",
      "def correlate_transaction_scores(df, customer_df, product_df):\\n    merged_df = pd.merge(df, customer_df, on='user_id')\\n    merged_df = pd.merge(merged_df, product_df, on='item_id')\\n    merged_df['hour'] = merged_df['timestamp'].dt.hour\\n    hourly_transactions = merged_df[merged_df['hour'] >= 8]\\n    hourly_transactions['peak_hours'] = (hourly_transactions['hour'] >= 8) & (hourly_transactions['hour'] < 10)\\n    if 'peak_hours' not in hourly_transactions.columns:\\n        hourly_transactions['peak_hours'] = False\\n    return hourly_transactions.groupby(['customer_city', 'product_category', 'peak_hours'])['score'].mean().unstack()\\n\n",
      "correlate_transaction_scores(df, customer_df, product_df).plot(kind='bar', stacked=True, figsize=(12, 6))\\nplt.title('Correlation Between Transaction Scores and Customer City/Product Category During Peak Hours')\\nplt.xlabel('Customer City/Product Category')\\nplt.ylabel('Average Score')\\nplt.legend(loc='best')\\nplt.show()\n"
     ]
    }
   ],
   "source": [
    "with torch.no_grad():\n",
    "    print(\n",
    "        eval_tokenizer.decode(\n",
    "            ft_model.generate(\n",
    "                **model_input, \n",
    "                max_new_tokens=1024, \n",
    "                repetition_penalty=1.15, \n",
    "                pad_token_id=eval_tokenizer.eos_token_id\n",
    "            )[0], \n",
    "            skip_special_tokens=True\n",
    "        )\n",
    "    )"
   ]
  },
  {
   "cell_type": "code",
   "execution_count": 9,
   "id": "c87a52a8-2f9c-4ef0-b764-a8f6e7ee7bb4",
   "metadata": {
    "tags": []
   },
   "outputs": [
    {
     "name": "stdout",
     "output_type": "stream",
     "text": [
      "### Answer: \n",
      "def correlate_score_with_category_and_peak_hours(df, customer_df, product_df, peak_hours=[8, 9, 10]):\\n    df = pd.merge(df, customer_df, on='user_id', how='left')\\n    df = pd.merge(df, product_df, on='item_id', how='left')\\n    peak_hour_transactions = df[df['timestamp'].dt.hour.isin(peak_hours)]\\n    city_scores = peak_hour_transactions.groupby('customer_city')['score'].mean()\\n    category_scores = peak_hour_transactions.groupby('product_category')['score'].mean()\\n    city_correlation = peak_hour_transactions.groupby('customer_city')['score'].corr(city_scores)\\n    category_correlation = peak_hour_transactions.groupby('product_category')['score'].corr(category_scores)\\n    return city_correlation, category_correlation\\n\n"
     ]
    }
   ],
   "source": [
    "print(prompt[index_answer:].strip()) ### Original solution - Ground truth"
   ]
  },
  {
   "cell_type": "code",
   "execution_count": 12,
   "id": "75710583-c1e0-496f-b714-f36b7300c8eb",
   "metadata": {
    "tags": []
   },
   "outputs": [
    {
     "name": "stdout",
     "output_type": "stream",
     "text": [
      "Generated Solution:\n",
      "\n",
      "def correlate_transaction_scores(df, customer_df, product_df):\n",
      "    merged_df = pd.merge(df, customer_df, on='user_id')\n",
      "    merged_df = pd.merge(merged_df, product_df, on='item_id')\n",
      "    merged_df['hour'] = merged_df['timestamp'].dt.hour\n",
      "    hourly_transactions = merged_df[merged_df['hour'] >= 8]\n",
      "    hourly_transactions['peak_hours'] = (hourly_transactions['hour'] >= 8) & (hourly_transactions['hour'] < 10)\n",
      "    if 'peak_hours' not in hourly_transactions.columns:\n",
      "        hourly_transactions['peak_hours'] = False\n",
      "    return hourly_transactions.groupby(['customer_city', 'product_category', 'peak_hours'])['score'].mean().unstack()\n",
      "\n",
      "correlate_transaction_scores(df, customer_df, product_df).plot(kind='bar', stacked=True, figsize=(12, 6))\n",
      "plt.title('Correlation Between Transaction Scores and Customer City/Product Category During Peak Hours')\n",
      "plt.xlabel('Customer City/Product Category')\n",
      "plt.ylabel('Average Score')\n",
      "plt.legend(loc='best')\n",
      "plt.show()\n"
     ]
    }
   ],
   "source": [
    "print(\"Generated Solution:\\n\")\n",
    "print(\"\"\"def correlate_transaction_scores(df, customer_df, product_df):\\n    merged_df = pd.merge(df, customer_df, on='user_id')\\n    merged_df = pd.merge(merged_df, product_df, on='item_id')\\n    merged_df['hour'] = merged_df['timestamp'].dt.hour\\n    hourly_transactions = merged_df[merged_df['hour'] >= 8]\\n    hourly_transactions['peak_hours'] = (hourly_transactions['hour'] >= 8) & (hourly_transactions['hour'] < 10)\\n    if 'peak_hours' not in hourly_transactions.columns:\\n        hourly_transactions['peak_hours'] = False\\n    return hourly_transactions.groupby(['customer_city', 'product_category', 'peak_hours'])['score'].mean().unstack()\\n\n",
    "correlate_transaction_scores(df, customer_df, product_df).plot(kind='bar', stacked=True, figsize=(12, 6))\\nplt.title('Correlation Between Transaction Scores and Customer City/Product Category During Peak Hours')\\nplt.xlabel('Customer City/Product Category')\\nplt.ylabel('Average Score')\\nplt.legend(loc='best')\\nplt.show()\"\"\")"
   ]
  },
  {
   "cell_type": "code",
   "execution_count": 13,
   "id": "a63b6ca2-f073-403f-9cee-5e2659c228b0",
   "metadata": {
    "tags": []
   },
   "outputs": [
    {
     "name": "stdout",
     "output_type": "stream",
     "text": [
      "Original Solution:\n",
      "\n",
      "def correlate_score_with_category_and_peak_hours(df, customer_df, product_df, peak_hours=[8, 9, 10]):\n",
      "    df = pd.merge(df, customer_df, on='user_id', how='left')\n",
      "    df = pd.merge(df, product_df, on='item_id', how='left')\n",
      "    peak_hour_transactions = df[df['timestamp'].dt.hour.isin(peak_hours)]\n",
      "    city_scores = peak_hour_transactions.groupby('customer_city')['score'].mean()\n",
      "    category_scores = peak_hour_transactions.groupby('product_category')['score'].mean()\n",
      "    city_correlation = peak_hour_transactions.groupby('customer_city')['score'].corr(city_scores)\n",
      "    category_correlation = peak_hour_transactions.groupby('product_category')['score'].corr(category_scores)\n",
      "    return city_correlation, category_correlation\n",
      "\n"
     ]
    }
   ],
   "source": [
    "print(\"Original Solution:\\n\")\n",
    "print(\"\"\"def correlate_score_with_category_and_peak_hours(df, customer_df, product_df, peak_hours=[8, 9, 10]):\\n    df = pd.merge(df, customer_df, on='user_id', how='left')\\n    df = pd.merge(df, product_df, on='item_id', how='left')\\n    peak_hour_transactions = df[df['timestamp'].dt.hour.isin(peak_hours)]\\n    city_scores = peak_hour_transactions.groupby('customer_city')['score'].mean()\\n    category_scores = peak_hour_transactions.groupby('product_category')['score'].mean()\\n    city_correlation = peak_hour_transactions.groupby('customer_city')['score'].corr(city_scores)\\n    category_correlation = peak_hour_transactions.groupby('product_category')['score'].corr(category_scores)\\n    return city_correlation, category_correlation\\n\"\"\")"
   ]
  },
  {
   "cell_type": "code",
   "execution_count": 14,
   "id": "45b3b8d7-da4d-4f3d-ae3a-d2ad6e888a0e",
   "metadata": {
    "tags": []
   },
   "outputs": [
    {
     "name": "stdout",
     "output_type": "stream",
     "text": [
      "Orders Data:\n",
      "   order_id user_id item_id                  timestamp  score\n",
      "0    order1   user2   item1 2024-04-16 05:34:57.611672   0.66\n",
      "1    order2   user5   item3 2024-04-17 09:12:06.048336   0.68\n",
      "2    order3   user1   item2 2024-04-18 04:42:01.560851   0.56\n",
      "3    order4   user3   item3 2024-04-18 07:55:22.184441   0.53\n",
      "4    order5   user1   item3 2024-04-16 09:12:47.161910   0.82\n",
      "5    order6   user3   item1 2024-04-17 17:34:46.447163   0.66\n",
      "6    order7   user1   item2 2024-04-17 09:24:52.520001   0.73\n",
      "7    order8   user4   item3 2024-04-17 11:41:17.672311   0.68\n",
      "8    order9   user2   item2 2024-04-16 02:14:13.695675   0.75\n",
      "9   order10   user1   item1 2024-04-16 21:23:48.759970   0.59\n",
      "10  order11   user5   item2 2024-04-20 13:51:29.422813   0.65\n",
      "11  order12   user2   item2 2024-04-19 15:24:43.327376   0.73\n",
      "12  order13   user4   item3 2024-04-19 20:38:25.001724   0.52\n",
      "13  order14   user4   item2 2024-04-16 07:03:49.620218   0.86\n",
      "14  order15   user1   item1 2024-04-17 09:47:14.957454   0.95\n",
      "\n",
      "Customer Data:\n",
      "  user_id customer_city\n",
      "0   user1         Paris\n",
      "1   user2         Paris\n",
      "2   user3         Paris\n",
      "3   user4         Paris\n",
      "4   user5         Paris\n",
      "\n",
      "Product Data:\n",
      "  item_id product_category\n",
      "0   item1            chair\n",
      "1   item2         Congress\n",
      "2   item3             wind\n",
      "3   item4          thought\n",
      "4   item5             work\n"
     ]
    }
   ],
   "source": [
    "# Import Libraries\n",
    "import pandas as pd\n",
    "import random\n",
    "from faker import Faker\n",
    "fake = Faker()\n",
    "\n",
    "# List of famous European city names as customer city\n",
    "european_cities = [\n",
    "    'London', 'Paris'\n",
    "]\n",
    "\n",
    "# Generate sample data for transactions / orders\n",
    "orders_data = []\n",
    "for i in range(1, 16):\n",
    "    order_id = f'order{i}'\n",
    "    user_id = f'user{random.randint(1, 5)}'\n",
    "    item_id = f'item{random.randint(1, 3)}'\n",
    "    timestamp = fake.date_time_between(start_date='-5d', end_date='now')\n",
    "    score = round(random.uniform(0.5, 1.0), 2)\n",
    "    orders_data.append({'order_id': order_id, 'user_id': user_id, 'item_id': item_id, 'timestamp': timestamp, 'score': score})\n",
    "orig_df = pd.DataFrame(orders_data)\n",
    "\n",
    "# Generate sample data for customers / users\n",
    "customers_data = []\n",
    "for i in range(1, 6):\n",
    "    user_id = f'user{i}'\n",
    "    customer_city = random.choice(european_cities)\n",
    "    customers_data.append({'user_id': user_id, 'customer_city': customer_city})\n",
    "orig_customer_df = pd.DataFrame(customers_data).drop_duplicates(subset=['user_id'])\n",
    "\n",
    "# Generate sample data for products\n",
    "products_data = []\n",
    "for i in range(1, 6):\n",
    "    item_id = f'item{i}'\n",
    "    product_category = fake.word()\n",
    "    products_data.append({'item_id': item_id, 'product_category': product_category})\n",
    "orig_product_df = pd.DataFrame(products_data).drop_duplicates(subset=['item_id'])\n",
    "\n",
    "def data_copy(orig_df, orig_customer_df, orig_product_df):\n",
    "    \"\"\"\n",
    "    Copy the original dataframes to new ones.\n",
    "\n",
    "    Args:\n",
    "    - orig_df (pandas DataFrame): The original dataframe to be copied.\n",
    "    - orig_customer_df (pandas DataFrame): The original customer dataframe to be copied.\n",
    "    - orig_product_df (pandas DataFrame): The original product dataframe to be copied.\n",
    "\n",
    "    Returns:\n",
    "    - df (pandas DataFrame): A deep copy of the original dataframe.\n",
    "    - customer_df (pandas DataFrame): A deep copy of the original customer dataframe.\n",
    "    - product_df (pandas DataFrame): A deep copy of the original product dataframe.\n",
    "    \"\"\"\n",
    "    df = orig_df.copy(deep=True)\n",
    "    customer_df = orig_customer_df.copy(deep=True)\n",
    "    product_df = orig_product_df.copy(deep=True)\n",
    "    return df, customer_df, product_df\n",
    "\n",
    "df, customer_df, product_df = data_copy(orig_df, orig_customer_df, orig_product_df)\n",
    "\n",
    "# Displaying sample data\n",
    "print(\"Orders Data:\")\n",
    "print(df)\n",
    "print(\"\\nCustomer Data:\")\n",
    "print(customer_df)\n",
    "print(\"\\nProduct Data:\")\n",
    "print(product_df)"
   ]
  },
  {
   "cell_type": "code",
   "execution_count": 16,
   "id": "04110b5a-c0b7-411f-b4b0-8c2c99e0f0ab",
   "metadata": {
    "tags": []
   },
   "outputs": [
    {
     "name": "stderr",
     "output_type": "stream",
     "text": [
      "/tmp/ipykernel_1130/3621278173.py:46: SettingWithCopyWarning: \n",
      "A value is trying to be set on a copy of a slice from a DataFrame.\n",
      "Try using .loc[row_indexer,col_indexer] = value instead\n",
      "\n",
      "See the caveats in the documentation: https://pandas.pydata.org/pandas-docs/stable/user_guide/indexing.html#returning-a-view-versus-a-copy\n",
      "  hourly_transactions['peak_hours'] = (hourly_transactions['hour'] >= 8) & (hourly_transactions['hour'] < 10)\n"
     ]
    },
    {
     "data": {
      "image/png": "[encoded data removed]",
      "text/plain": [
       "<Figure size 1200x600 with 1 Axes>"
      ]
     },
     "metadata": {},
     "output_type": "display_data"
    },
    {
     "name": "stdout",
     "output_type": "stream",
     "text": [
      "\n",
      "Original Solution:\n",
      "\n",
      "(customer_city\n",
      "Paris   NaN\n",
      "Name: score, dtype: float64, product_category\n",
      "Congress   NaN\n",
      "chair      NaN\n",
      "wind       NaN\n",
      "Name: score, dtype: float64)\n",
      "\n",
      "Generated Solution:\n",
      "\n",
      "peak_hours                      False  True \n",
      "customer_city product_category              \n",
      "Paris         Congress          0.690   0.73\n",
      "              chair             0.625   0.95\n",
      "              wind              0.600   0.75\n",
      "\n"
     ]
    },
    {
     "name": "stderr",
     "output_type": "stream",
     "text": [
      "/tmp/ipykernel_1130/3621278173.py:46: SettingWithCopyWarning: \n",
      "A value is trying to be set on a copy of a slice from a DataFrame.\n",
      "Try using .loc[row_indexer,col_indexer] = value instead\n",
      "\n",
      "See the caveats in the documentation: https://pandas.pydata.org/pandas-docs/stable/user_guide/indexing.html#returning-a-view-versus-a-copy\n",
      "  hourly_transactions['peak_hours'] = (hourly_transactions['hour'] >= 8) & (hourly_transactions['hour'] < 10)\n"
     ]
    }
   ],
   "source": [
    "import pandas as pd\n",
    "import numpy as np\n",
    "from numpy.linalg import LinAlgError\n",
    "from datetime import datetime, timedelta\n",
    "from collections import defaultdict, Counter\n",
    "from itertools import combinations\n",
    "from scipy.sparse import csr_matrix\n",
    "from scipy.stats import zscore\n",
    "from sklearn.preprocessing import StandardScaler, LabelEncoder\n",
    "from sklearn.cluster import KMeans\n",
    "from sklearn.model_selection import train_test_split\n",
    "from sklearn.linear_model import LogisticRegression, LinearRegression\n",
    "from sklearn.metrics.pairwise import cosine_similarity\n",
    "from sklearn.feature_extraction.text import TfidfVectorizer\n",
    "from sklearn.decomposition import TruncatedSVD\n",
    "from sklearn.metrics import accuracy_score, classification_report, mean_squared_error, r2_score\n",
    "from sklearn.ensemble import RandomForestClassifier, RandomForestRegressor\n",
    "from mlxtend.frequent_patterns import apriori\n",
    "from mlxtend.frequent_patterns import association_rules\n",
    "from surprise import Reader, Dataset\n",
    "from surprise.prediction_algorithms import SVD\n",
    "from matplotlib import pyplot as plt\n",
    "from statsmodels.tsa.statespace.sarimax import SARIMAX\n",
    "from statsmodels.tools.sm_exceptions import ConvergenceWarning\n",
    "from statsmodels.tsa.seasonal import seasonal_decompose\n",
    "import warnings\n",
    "import pandas as pd\n",
    "\n",
    "def correlate_score_with_category_and_peak_hours(df, customer_df, product_df, peak_hours=[8, 9, 10]):\n",
    "    df = pd.merge(df, customer_df, on='user_id', how='left')\n",
    "    df = pd.merge(df, product_df, on='item_id', how='left')\n",
    "    peak_hour_transactions = df[df['timestamp'].dt.hour.isin(peak_hours)]\n",
    "    city_scores = peak_hour_transactions.groupby('customer_city')['score'].mean()\n",
    "    category_scores = peak_hour_transactions.groupby('product_category')['score'].mean()\n",
    "    city_correlation = peak_hour_transactions.groupby('customer_city')['score'].corr(city_scores)\n",
    "    category_correlation = peak_hour_transactions.groupby('product_category')['score'].corr(category_scores)\n",
    "    return city_correlation, category_correlation\n",
    "\n",
    "original_res = correlate_score_with_category_and_peak_hours(df, customer_df, product_df, peak_hours=[8, 9, 10])\n",
    "\n",
    "def correlate_transaction_scores(df, customer_df, product_df):\n",
    "    merged_df = pd.merge(df, customer_df, on='user_id')\n",
    "    merged_df = pd.merge(merged_df, product_df, on='item_id')\n",
    "    merged_df['hour'] = merged_df['timestamp'].dt.hour\n",
    "    hourly_transactions = merged_df[merged_df['hour'] >= 8]\n",
    "    hourly_transactions['peak_hours'] = (hourly_transactions['hour'] >= 8) & (hourly_transactions['hour'] < 10)\n",
    "    if 'peak_hours' not in hourly_transactions.columns:\n",
    "        hourly_transactions['peak_hours'] = False\n",
    "    return hourly_transactions.groupby(['customer_city', 'product_category', 'peak_hours'])['score'].mean().unstack()\n",
    "\n",
    "correlate_transaction_scores(df, customer_df, product_df).plot(kind='bar', stacked=True, figsize=(12, 6))\n",
    "plt.title('Correlation Between Transaction Scores and Customer City/Product Category During Peak Hours')\n",
    "plt.xlabel('Customer City/Product Category')\n",
    "plt.ylabel('Average Score')\n",
    "plt.legend(loc='best')\n",
    "plt.show()\n",
    "\n",
    "generated_res = correlate_transaction_scores(df, customer_df, product_df)\n",
    "\n",
    "print(f\"\"\"\n",
    "Original Solution:\n",
    "\n",
    "{original_res}\n",
    "\n",
    "Generated Solution:\n",
    "\n",
    "{generated_res}\n",
    "\"\"\")"
   ]
  }
 ],
 "metadata": {
  "kernelspec": {
   "display_name": "Python new (.venv)",
   "language": "python",
   "name": ".venv"
  },
  "language_info": {
   "codemirror_mode": {
    "name": "ipython",
    "version": 3
   },
   "file_extension": ".py",
   "mimetype": "text/x-python",
   "name": "python",
   "nbconvert_exporter": "python",
   "pygments_lexer": "ipython3",
   "version": "3.10.13"
  }
 },
 "nbformat": 4,
 "nbformat_minor": 5
}
