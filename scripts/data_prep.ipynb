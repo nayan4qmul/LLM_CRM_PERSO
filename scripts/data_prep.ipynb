{
 "cells": [
  {
   "cell_type": "code",
   "execution_count": 3,
   "id": "683e8b17-3b6d-4529-9052-c07f86ec1c25",
   "metadata": {
    "tags": []
   },
   "outputs": [],
   "source": [
    "# Importing necessary libraries\n",
    "import pandas as pd\n",
    "import numpy as np\n",
    "\n",
    "np.random.seed(42)  # for reproducibility"
   ]
  },
  {
   "cell_type": "code",
   "execution_count": 4,
   "id": "4d419b14-2474-4a7e-bff2-15089e9d71af",
   "metadata": {
    "tags": []
   },
   "outputs": [
    {
     "data": {
      "text/plain": [
       "412"
      ]
     },
     "execution_count": 4,
     "metadata": {},
     "output_type": "execute_result"
    }
   ],
   "source": [
    "# Reading data\n",
    "data = pd.read_csv('../data/CRM_data_no_comments.csv')\n",
    "len(data)"
   ]
  },
  {
   "cell_type": "code",
   "execution_count": 5,
   "id": "0447fabc-2d9b-435c-b82d-34a103f65992",
   "metadata": {
    "tags": []
   },
   "outputs": [
    {
     "data": {
      "text/html": [
       "<div>\n",
       "<style scoped>\n",
       "    .dataframe tbody tr th:only-of-type {\n",
       "        vertical-align: middle;\n",
       "    }\n",
       "\n",
       "    .dataframe tbody tr th {\n",
       "        vertical-align: top;\n",
       "    }\n",
       "\n",
       "    .dataframe thead th {\n",
       "        text-align: right;\n",
       "    }\n",
       "</style>\n",
       "<table border=\"1\" class=\"dataframe\">\n",
       "  <thead>\n",
       "    <tr style=\"text-align: right;\">\n",
       "      <th></th>\n",
       "      <th>question</th>\n",
       "      <th>context</th>\n",
       "      <th>solution</th>\n",
       "      <th>topic</th>\n",
       "      <th>train_test_ind</th>\n",
       "      <th>solution_no_comments</th>\n",
       "    </tr>\n",
       "  </thead>\n",
       "  <tbody>\n",
       "    <tr>\n",
       "      <th>0</th>\n",
       "      <td>Highest Average Score for Products</td>\n",
       "      <td>Pandas DataFrame df containing transaction dat...</td>\n",
       "      <td>def highest_avg_score_for_products(df):\\n    #...</td>\n",
       "      <td>article_recommendation</td>\n",
       "      <td>Train</td>\n",
       "      <td>def highest_avg_score_for_products(df):\\n    a...</td>\n",
       "    </tr>\n",
       "    <tr>\n",
       "      <th>1</th>\n",
       "      <td>Can you find the most common product category ...</td>\n",
       "      <td>Pandas DataFrame df containing transaction dat...</td>\n",
       "      <td>def most_common_product_category_in_city(df, c...</td>\n",
       "      <td>article_recommendation</td>\n",
       "      <td>Train</td>\n",
       "      <td>def most_common_product_category_in_city(df, c...</td>\n",
       "    </tr>\n",
       "    <tr>\n",
       "      <th>2</th>\n",
       "      <td>What is the most common product category purch...</td>\n",
       "      <td>Pandas DataFrame df containing transaction dat...</td>\n",
       "      <td>def most_common_product_category_in_city(df, c...</td>\n",
       "      <td>article_recommendation</td>\n",
       "      <td>Test</td>\n",
       "      <td>def most_common_product_category_in_city(df, c...</td>\n",
       "    </tr>\n",
       "    <tr>\n",
       "      <th>3</th>\n",
       "      <td>I want to find the top 3 customers who have pu...</td>\n",
       "      <td>Pandas DataFrame df containing transaction dat...</td>\n",
       "      <td>def top_n_customers_and_products(df, n=3):\\n  ...</td>\n",
       "      <td>article_recommendation</td>\n",
       "      <td>Train</td>\n",
       "      <td>def top_n_customers_and_products(df, n=3):\\n  ...</td>\n",
       "    </tr>\n",
       "    <tr>\n",
       "      <th>4</th>\n",
       "      <td>Can you provide me with the top 5 customers wh...</td>\n",
       "      <td>Pandas DataFrame df containing transaction dat...</td>\n",
       "      <td>def top_n_customers_and_products(df, n=5):\\n  ...</td>\n",
       "      <td>article_recommendation</td>\n",
       "      <td>Test</td>\n",
       "      <td>def top_n_customers_and_products(df, n=5):\\n  ...</td>\n",
       "    </tr>\n",
       "  </tbody>\n",
       "</table>\n",
       "</div>"
      ],
      "text/plain": [
       "                                            question  \\\n",
       "0                 Highest Average Score for Products   \n",
       "1  Can you find the most common product category ...   \n",
       "2  What is the most common product category purch...   \n",
       "3  I want to find the top 3 customers who have pu...   \n",
       "4  Can you provide me with the top 5 customers wh...   \n",
       "\n",
       "                                             context  \\\n",
       "0  Pandas DataFrame df containing transaction dat...   \n",
       "1  Pandas DataFrame df containing transaction dat...   \n",
       "2  Pandas DataFrame df containing transaction dat...   \n",
       "3  Pandas DataFrame df containing transaction dat...   \n",
       "4  Pandas DataFrame df containing transaction dat...   \n",
       "\n",
       "                                            solution                   topic  \\\n",
       "0  def highest_avg_score_for_products(df):\\n    #...  article_recommendation   \n",
       "1  def most_common_product_category_in_city(df, c...  article_recommendation   \n",
       "2  def most_common_product_category_in_city(df, c...  article_recommendation   \n",
       "3  def top_n_customers_and_products(df, n=3):\\n  ...  article_recommendation   \n",
       "4  def top_n_customers_and_products(df, n=5):\\n  ...  article_recommendation   \n",
       "\n",
       "  train_test_ind                               solution_no_comments  \n",
       "0          Train  def highest_avg_score_for_products(df):\\n    a...  \n",
       "1          Train  def most_common_product_category_in_city(df, c...  \n",
       "2           Test  def most_common_product_category_in_city(df, c...  \n",
       "3          Train  def top_n_customers_and_products(df, n=3):\\n  ...  \n",
       "4           Test  def top_n_customers_and_products(df, n=5):\\n  ...  "
      ]
     },
     "execution_count": 5,
     "metadata": {},
     "output_type": "execute_result"
    }
   ],
   "source": [
    "# Removing backticks (`) from the 'context' column in the DataFrame [Optional]\n",
    "data['context'] = data['context'].apply(lambda x: x.replace('`', ''))\n",
    "data.head()"
   ]
  },
  {
   "cell_type": "code",
   "execution_count": 6,
   "id": "5d85c699-7f9d-453f-b50e-f3bb1c9dec89",
   "metadata": {
    "tags": []
   },
   "outputs": [],
   "source": [
    "# Splitting data into train, validation and test sets\n",
    "\n",
    "shuffled_indices = np.random.permutation(len(data)) # Shuffle the indices\n",
    "\n",
    "# Define the proportions for each set\n",
    "train_prop = 0.8\n",
    "val_prop = 0.1\n",
    "test_prop = 0.1\n",
    "\n",
    "# Calculate the sizes of each set\n",
    "num_train = int(len(data) * train_prop)\n",
    "num_val = int(len(data) * val_prop)\n",
    "num_test = len(data) - num_train - num_val\n",
    "\n",
    "# Split the shuffled indices into train, validation, and test sets\n",
    "train_indices = shuffled_indices[:num_train]\n",
    "val_indices = shuffled_indices[num_train:num_train + num_val]\n",
    "test_indices = shuffled_indices[num_train + num_val:]\n",
    "\n",
    "# Create the subsets using the indices\n",
    "train_df = data.iloc[train_indices]\n",
    "val_df = data.iloc[val_indices]\n",
    "test_df = data.iloc[test_indices]"
   ]
  },
  {
   "cell_type": "code",
   "execution_count": 7,
   "id": "d0852c71-18f4-4154-8381-dedf496187ea",
   "metadata": {
    "tags": []
   },
   "outputs": [],
   "source": [
    "# Define a message template\n",
    "system_message = system_message = \"\"\"\n",
    "You are a Python function generator. Users will ask you questions in English, \n",
    "and you will produce a Python function as answer to the question based on the provided CONTEXT.\n",
    "\n",
    "CONTEXT:\n",
    "{context}\n",
    "\"\"\"\n",
    "\n",
    "def create_messages(sample):\n",
    "    \"\"\"\n",
    "    Create a message structure from a sample containing context, question, and solution.\n",
    "\n",
    "    Args:\n",
    "        sample (pd.Series): A pandas Series containing 'context', 'question', and 'solution_no_comments' fields.\n",
    "\n",
    "    Returns:\n",
    "        dict: A dictionary containing messages structured for a conversation. Each message includes a role\n",
    "              (system, user, or assistant) and content (context, question, or solution).\n",
    "    \"\"\"\n",
    "    return {\n",
    "        \"messages\": [\n",
    "            {\"role\": \"system\", \"content\": system_message.format(context=sample[\"context\"].replace('`', ''))},\n",
    "            {\"role\": \"user\", \"content\": sample[\"question\"].replace('`', '')},\n",
    "            {\"role\": \"assistant\", \"content\": sample[\"solution_no_comments\"].replace('`', '')}\n",
    "        ]\n",
    "    }\n",
    "\n",
    "# Apply create_messages function to create datasets\n",
    "train_dataset = train_df.apply(create_messages, axis=1)\n",
    "val_dataset = val_df.apply(create_messages, axis=1)\n",
    "test_dataset = test_df.apply(create_messages, axis=1)\n",
    "\n",
    "# Shuffle the datasets\n",
    "random_train_dataset = train_dataset.sample(frac=1).reset_index(drop=True)\n",
    "random_val_dataset = val_dataset.sample(frac=1).reset_index(drop=True)\n",
    "random_test_dataset = test_dataset.sample(frac=1).reset_index(drop=True)\n",
    "\n",
    "# Save datasets to JSON files\n",
    "random_train_dataset.to_json(\"../data/train_CRM_data.json\", orient=\"records\")\n",
    "random_val_dataset.to_json(\"../data/val_CRM_data.json\", orient=\"records\")\n",
    "random_test_dataset.to_json(\"../data/test_CRM_data.json\", orient=\"records\")"
   ]
  }
 ],
 "metadata": {
  "kernelspec": {
   "display_name": "Python new (.venv)",
   "language": "python",
   "name": ".venv"
  },
  "language_info": {
   "codemirror_mode": {
    "name": "ipython",
    "version": 3
   },
   "file_extension": ".py",
   "mimetype": "text/x-python",
   "name": "python",
   "nbconvert_exporter": "python",
   "pygments_lexer": "ipython3",
   "version": "3.10.13"
  }
 },
 "nbformat": 4,
 "nbformat_minor": 5
}
