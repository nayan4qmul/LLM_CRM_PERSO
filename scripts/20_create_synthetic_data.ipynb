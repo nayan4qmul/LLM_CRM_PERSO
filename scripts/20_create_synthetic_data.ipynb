{
 "cells": [
  {
   "cell_type": "markdown",
   "id": "896decbf-3afb-4354-a56e-f93727ed58ff",
   "metadata": {
    "tags": []
   },
   "source": [
    "# References:\n",
    "\n",
    "SDV is a public, source-available Python library for generating and evaluating synthetic data. You can download and use it under the Business Source License.\n",
    "\n",
    "License: https://github.com/sdv-dev/SDV/blob/main/LICENSE"
   ]
  },
  {
   "cell_type": "markdown",
   "id": "96397181-614c-4115-b98a-2a2626eed4e0",
   "metadata": {},
   "source": [
    "In this notebook, I've demonstrated a series of steps involved in generating synthetic transaction data using the sdv library in Python. Starting with loading the original transaction data into a DataFrame, I proceeded to create metadata using the SingleTableMetadata class from sdv. This metadata was then used to synthesize new data using the GaussianCopulaSynthesizer, incorporating constraints to maintain fixed combinations of certain columns. Quality evaluation and diagnostic assessment were conducted to compare the synthetic data with the original dataset, ensuring its fidelity. Additionally, measures were taken to generate consistent primary key generation like order IDs. Finally, the synthetic transaction data was saved to a CSV file for further analysis."
   ]
  },
  {
   "cell_type": "markdown",
   "id": "ab036a27-ee5b-4c5d-b1f3-80716cf37f01",
   "metadata": {},
   "source": [
    "## Reading and Displaying Clean Olist Data\n",
    "\n",
    "This cell imports the necessary library and reads the cleaned Olist data (created in the previous notebook step) from a CSV file into a pandas DataFrame. It then displays the first few rows of the DataFrame."
   ]
  },
  {
   "cell_type": "code",
   "execution_count": 1,
   "id": "f63c650f-9e13-4ad1-82a6-582623a3c6bb",
   "metadata": {
    "tags": []
   },
   "outputs": [
    {
     "data": {
      "text/html": [
       "<div>\n",
       "<style scoped>\n",
       "    .dataframe tbody tr th:only-of-type {\n",
       "        vertical-align: middle;\n",
       "    }\n",
       "\n",
       "    .dataframe tbody tr th {\n",
       "        vertical-align: top;\n",
       "    }\n",
       "\n",
       "    .dataframe thead th {\n",
       "        text-align: right;\n",
       "    }\n",
       "</style>\n",
       "<table border=\"1\" class=\"dataframe\">\n",
       "  <thead>\n",
       "    <tr style=\"text-align: right;\">\n",
       "      <th></th>\n",
       "      <th>order_id</th>\n",
       "      <th>timestamp</th>\n",
       "      <th>user_id</th>\n",
       "      <th>customer_city</th>\n",
       "      <th>product_category</th>\n",
       "      <th>product_id</th>\n",
       "      <th>quantity</th>\n",
       "      <th>price</th>\n",
       "      <th>review_score</th>\n",
       "    </tr>\n",
       "  </thead>\n",
       "  <tbody>\n",
       "    <tr>\n",
       "      <th>0</th>\n",
       "      <td>e481f51cbdc54678b7cc49136f2d6af7</td>\n",
       "      <td>1506941793</td>\n",
       "      <td>7c396fd4830fd04220f754e42b4e5bff</td>\n",
       "      <td>sao paulo</td>\n",
       "      <td>housewares</td>\n",
       "      <td>housewares SKU 0</td>\n",
       "      <td>1.0</td>\n",
       "      <td>29.99</td>\n",
       "      <td>4.0</td>\n",
       "    </tr>\n",
       "    <tr>\n",
       "      <th>1</th>\n",
       "      <td>53cdb2fc8bc7dce0b6741e2150273451</td>\n",
       "      <td>1532464897</td>\n",
       "      <td>af07308b275d755c9edb36a90c618231</td>\n",
       "      <td>barreiras</td>\n",
       "      <td>perfumery</td>\n",
       "      <td>perfumery SKU 0</td>\n",
       "      <td>1.0</td>\n",
       "      <td>118.70</td>\n",
       "      <td>4.0</td>\n",
       "    </tr>\n",
       "    <tr>\n",
       "      <th>2</th>\n",
       "      <td>47770eb9100c2d0c44946d9cf07ec65d</td>\n",
       "      <td>1533717529</td>\n",
       "      <td>3a653a41f6f9fc3d2a113cf8398680e8</td>\n",
       "      <td>vianopolis</td>\n",
       "      <td>auto</td>\n",
       "      <td>auto SKU 0</td>\n",
       "      <td>1.0</td>\n",
       "      <td>159.90</td>\n",
       "      <td>5.0</td>\n",
       "    </tr>\n",
       "    <tr>\n",
       "      <th>3</th>\n",
       "      <td>949d5b44dbf5de918fe9c16f97b45f8a</td>\n",
       "      <td>1511033286</td>\n",
       "      <td>7c142cf63193a1473d2e66489a9ae977</td>\n",
       "      <td>sao goncalo do amarante</td>\n",
       "      <td>pet_shop</td>\n",
       "      <td>pet_shop SKU 0</td>\n",
       "      <td>1.0</td>\n",
       "      <td>45.00</td>\n",
       "      <td>5.0</td>\n",
       "    </tr>\n",
       "    <tr>\n",
       "      <th>4</th>\n",
       "      <td>ad21c59c0840e6cb83a9ceb5573f8159</td>\n",
       "      <td>1518556719</td>\n",
       "      <td>72632f0f9dd73dfee390c9b22eb56dd6</td>\n",
       "      <td>santo andre</td>\n",
       "      <td>stationery</td>\n",
       "      <td>stationery SKU 0</td>\n",
       "      <td>1.0</td>\n",
       "      <td>19.90</td>\n",
       "      <td>5.0</td>\n",
       "    </tr>\n",
       "  </tbody>\n",
       "</table>\n",
       "</div>"
      ],
      "text/plain": [
       "                           order_id   timestamp  \\\n",
       "0  e481f51cbdc54678b7cc49136f2d6af7  1506941793   \n",
       "1  53cdb2fc8bc7dce0b6741e2150273451  1532464897   \n",
       "2  47770eb9100c2d0c44946d9cf07ec65d  1533717529   \n",
       "3  949d5b44dbf5de918fe9c16f97b45f8a  1511033286   \n",
       "4  ad21c59c0840e6cb83a9ceb5573f8159  1518556719   \n",
       "\n",
       "                            user_id            customer_city product_category  \\\n",
       "0  7c396fd4830fd04220f754e42b4e5bff                sao paulo       housewares   \n",
       "1  af07308b275d755c9edb36a90c618231                barreiras        perfumery   \n",
       "2  3a653a41f6f9fc3d2a113cf8398680e8               vianopolis             auto   \n",
       "3  7c142cf63193a1473d2e66489a9ae977  sao goncalo do amarante         pet_shop   \n",
       "4  72632f0f9dd73dfee390c9b22eb56dd6              santo andre       stationery   \n",
       "\n",
       "         product_id  quantity   price  review_score  \n",
       "0  housewares SKU 0       1.0   29.99           4.0  \n",
       "1   perfumery SKU 0       1.0  118.70           4.0  \n",
       "2        auto SKU 0       1.0  159.90           5.0  \n",
       "3    pet_shop SKU 0       1.0   45.00           5.0  \n",
       "4  stationery SKU 0       1.0   19.90           5.0  "
      ]
     },
     "execution_count": 1,
     "metadata": {},
     "output_type": "execute_result"
    }
   ],
   "source": [
    "# Importing the pandas library as pd\n",
    "import pandas as pd\n",
    "\n",
    "# Reading the clean Olist data from a CSV file into a DataFrame\n",
    "masterdf = pd.read_csv(\n",
    "    '../data/clean_olist_data.csv'\n",
    ")\n",
    "\n",
    "# Displaying the first few rows of the DataFrame\n",
    "masterdf.head()"
   ]
  },
  {
   "cell_type": "code",
   "execution_count": 2,
   "id": "e8bf74e6-6dac-4172-88bf-111fdd854a4f",
   "metadata": {
    "tags": []
   },
   "outputs": [
    {
     "data": {
      "text/plain": [
       "(102425, 9)"
      ]
     },
     "execution_count": 2,
     "metadata": {},
     "output_type": "execute_result"
    }
   ],
   "source": [
    "# Checking the shape of the DataFrame\n",
    "masterdf.shape"
   ]
  },
  {
   "cell_type": "code",
   "execution_count": 3,
   "id": "dabb3ff9-57f4-451d-83a2-8a56e517fbc6",
   "metadata": {
    "tags": []
   },
   "outputs": [
    {
     "name": "stdout",
     "output_type": "stream",
     "text": [
      "<class 'pandas.core.frame.DataFrame'>\n",
      "RangeIndex: 102425 entries, 0 to 102424\n",
      "Data columns (total 9 columns):\n",
      " #   Column            Non-Null Count   Dtype  \n",
      "---  ------            --------------   -----  \n",
      " 0   order_id          102425 non-null  object \n",
      " 1   timestamp         102425 non-null  int64  \n",
      " 2   user_id           102425 non-null  object \n",
      " 3   customer_city     102425 non-null  object \n",
      " 4   product_category  102425 non-null  object \n",
      " 5   product_id        102425 non-null  object \n",
      " 6   quantity          102425 non-null  float64\n",
      " 7   price             102425 non-null  float64\n",
      " 8   review_score      102425 non-null  float64\n",
      "dtypes: float64(3), int64(1), object(5)\n",
      "memory usage: 7.0+ MB\n"
     ]
    }
   ],
   "source": [
    "# Displaying information about the DataFrame\n",
    "masterdf.info()"
   ]
  },
  {
   "cell_type": "code",
   "execution_count": 4,
   "id": "e86def6e-ccba-458b-b9cd-9a0034857255",
   "metadata": {
    "tags": []
   },
   "outputs": [
    {
     "data": {
      "text/html": [
       "<div>\n",
       "<style scoped>\n",
       "    .dataframe tbody tr th:only-of-type {\n",
       "        vertical-align: middle;\n",
       "    }\n",
       "\n",
       "    .dataframe tbody tr th {\n",
       "        vertical-align: top;\n",
       "    }\n",
       "\n",
       "    .dataframe thead th {\n",
       "        text-align: right;\n",
       "    }\n",
       "</style>\n",
       "<table border=\"1\" class=\"dataframe\">\n",
       "  <thead>\n",
       "    <tr style=\"text-align: right;\">\n",
       "      <th></th>\n",
       "      <th>order_id</th>\n",
       "      <th>timestamp</th>\n",
       "      <th>user_id</th>\n",
       "      <th>customer_city</th>\n",
       "      <th>product_category</th>\n",
       "      <th>product_id</th>\n",
       "      <th>quantity</th>\n",
       "      <th>price</th>\n",
       "      <th>review_score</th>\n",
       "    </tr>\n",
       "  </thead>\n",
       "  <tbody>\n",
       "    <tr>\n",
       "      <th>61603</th>\n",
       "      <td>ca3625898fbd48669d50701aba51cd5f</td>\n",
       "      <td>1534039880</td>\n",
       "      <td>c8ed31310fc440a3f8031b177f9842c3</td>\n",
       "      <td>ipua</td>\n",
       "      <td>construction_tools_construction</td>\n",
       "      <td>construction_tools_construction SKU 52</td>\n",
       "      <td>1.0</td>\n",
       "      <td>33.9</td>\n",
       "      <td>3.0</td>\n",
       "    </tr>\n",
       "    <tr>\n",
       "      <th>61604</th>\n",
       "      <td>ca3625898fbd48669d50701aba51cd5f</td>\n",
       "      <td>1534039880</td>\n",
       "      <td>c8ed31310fc440a3f8031b177f9842c3</td>\n",
       "      <td>ipua</td>\n",
       "      <td>construction_tools_construction</td>\n",
       "      <td>construction_tools_construction SKU 281</td>\n",
       "      <td>2.0</td>\n",
       "      <td>159.0</td>\n",
       "      <td>3.0</td>\n",
       "    </tr>\n",
       "    <tr>\n",
       "      <th>61605</th>\n",
       "      <td>ca3625898fbd48669d50701aba51cd5f</td>\n",
       "      <td>1534039880</td>\n",
       "      <td>c8ed31310fc440a3f8031b177f9842c3</td>\n",
       "      <td>ipua</td>\n",
       "      <td>construction_tools_construction</td>\n",
       "      <td>construction_tools_construction SKU 146</td>\n",
       "      <td>1.0</td>\n",
       "      <td>309.0</td>\n",
       "      <td>3.0</td>\n",
       "    </tr>\n",
       "    <tr>\n",
       "      <th>61606</th>\n",
       "      <td>ca3625898fbd48669d50701aba51cd5f</td>\n",
       "      <td>1534039880</td>\n",
       "      <td>c8ed31310fc440a3f8031b177f9842c3</td>\n",
       "      <td>ipua</td>\n",
       "      <td>construction_tools_construction</td>\n",
       "      <td>construction_tools_construction SKU 282</td>\n",
       "      <td>1.0</td>\n",
       "      <td>63.7</td>\n",
       "      <td>3.0</td>\n",
       "    </tr>\n",
       "    <tr>\n",
       "      <th>61607</th>\n",
       "      <td>ca3625898fbd48669d50701aba51cd5f</td>\n",
       "      <td>1534039880</td>\n",
       "      <td>c8ed31310fc440a3f8031b177f9842c3</td>\n",
       "      <td>ipua</td>\n",
       "      <td>construction_tools_construction</td>\n",
       "      <td>construction_tools_construction SKU 239</td>\n",
       "      <td>2.0</td>\n",
       "      <td>56.0</td>\n",
       "      <td>3.0</td>\n",
       "    </tr>\n",
       "    <tr>\n",
       "      <th>61608</th>\n",
       "      <td>ca3625898fbd48669d50701aba51cd5f</td>\n",
       "      <td>1534039880</td>\n",
       "      <td>c8ed31310fc440a3f8031b177f9842c3</td>\n",
       "      <td>ipua</td>\n",
       "      <td>construction_tools_construction</td>\n",
       "      <td>construction_tools_construction SKU 38</td>\n",
       "      <td>1.0</td>\n",
       "      <td>109.9</td>\n",
       "      <td>3.0</td>\n",
       "    </tr>\n",
       "    <tr>\n",
       "      <th>61609</th>\n",
       "      <td>ca3625898fbd48669d50701aba51cd5f</td>\n",
       "      <td>1534039880</td>\n",
       "      <td>c8ed31310fc440a3f8031b177f9842c3</td>\n",
       "      <td>ipua</td>\n",
       "      <td>construction_tools_construction</td>\n",
       "      <td>construction_tools_construction SKU 28</td>\n",
       "      <td>1.0</td>\n",
       "      <td>95.9</td>\n",
       "      <td>3.0</td>\n",
       "    </tr>\n",
       "    <tr>\n",
       "      <th>61610</th>\n",
       "      <td>ca3625898fbd48669d50701aba51cd5f</td>\n",
       "      <td>1534039880</td>\n",
       "      <td>c8ed31310fc440a3f8031b177f9842c3</td>\n",
       "      <td>ipua</td>\n",
       "      <td>construction_tools_construction</td>\n",
       "      <td>construction_tools_construction SKU 29</td>\n",
       "      <td>1.0</td>\n",
       "      <td>95.9</td>\n",
       "      <td>3.0</td>\n",
       "    </tr>\n",
       "  </tbody>\n",
       "</table>\n",
       "</div>"
      ],
      "text/plain": [
       "                               order_id   timestamp  \\\n",
       "61603  ca3625898fbd48669d50701aba51cd5f  1534039880   \n",
       "61604  ca3625898fbd48669d50701aba51cd5f  1534039880   \n",
       "61605  ca3625898fbd48669d50701aba51cd5f  1534039880   \n",
       "61606  ca3625898fbd48669d50701aba51cd5f  1534039880   \n",
       "61607  ca3625898fbd48669d50701aba51cd5f  1534039880   \n",
       "61608  ca3625898fbd48669d50701aba51cd5f  1534039880   \n",
       "61609  ca3625898fbd48669d50701aba51cd5f  1534039880   \n",
       "61610  ca3625898fbd48669d50701aba51cd5f  1534039880   \n",
       "\n",
       "                                user_id customer_city  \\\n",
       "61603  c8ed31310fc440a3f8031b177f9842c3          ipua   \n",
       "61604  c8ed31310fc440a3f8031b177f9842c3          ipua   \n",
       "61605  c8ed31310fc440a3f8031b177f9842c3          ipua   \n",
       "61606  c8ed31310fc440a3f8031b177f9842c3          ipua   \n",
       "61607  c8ed31310fc440a3f8031b177f9842c3          ipua   \n",
       "61608  c8ed31310fc440a3f8031b177f9842c3          ipua   \n",
       "61609  c8ed31310fc440a3f8031b177f9842c3          ipua   \n",
       "61610  c8ed31310fc440a3f8031b177f9842c3          ipua   \n",
       "\n",
       "                      product_category  \\\n",
       "61603  construction_tools_construction   \n",
       "61604  construction_tools_construction   \n",
       "61605  construction_tools_construction   \n",
       "61606  construction_tools_construction   \n",
       "61607  construction_tools_construction   \n",
       "61608  construction_tools_construction   \n",
       "61609  construction_tools_construction   \n",
       "61610  construction_tools_construction   \n",
       "\n",
       "                                    product_id  quantity  price  review_score  \n",
       "61603   construction_tools_construction SKU 52       1.0   33.9           3.0  \n",
       "61604  construction_tools_construction SKU 281       2.0  159.0           3.0  \n",
       "61605  construction_tools_construction SKU 146       1.0  309.0           3.0  \n",
       "61606  construction_tools_construction SKU 282       1.0   63.7           3.0  \n",
       "61607  construction_tools_construction SKU 239       2.0   56.0           3.0  \n",
       "61608   construction_tools_construction SKU 38       1.0  109.9           3.0  \n",
       "61609   construction_tools_construction SKU 28       1.0   95.9           3.0  \n",
       "61610   construction_tools_construction SKU 29       1.0   95.9           3.0  "
      ]
     },
     "execution_count": 4,
     "metadata": {},
     "output_type": "execute_result"
    }
   ],
   "source": [
    "# Filtering the DataFrame to select rows where the 'order_id' column matches a specific value\n",
    "masterdf[masterdf['order_id']=='ca3625898fbd48669d50701aba51cd5f']"
   ]
  },
  {
   "cell_type": "markdown",
   "id": "9f668386-f57b-4bb2-a953-7b4eda12add4",
   "metadata": {},
   "source": [
    "## Generating Metadata for DataFrame with sdv\n",
    "\n",
    "This cell utilizes the sdv library to automatically detect metadata from the provided DataFrame (`masterdf`). It then validates the detected metadata and converts it into a Python dictionary for further use."
   ]
  },
  {
   "cell_type": "code",
   "execution_count": 5,
   "id": "18e97fda-2753-4e93-8aea-6d975183ad5b",
   "metadata": {
    "tags": []
   },
   "outputs": [
    {
     "data": {
      "text/plain": [
       "{'METADATA_SPEC_VERSION': 'SINGLE_TABLE_V1',\n",
       " 'columns': {'order_id': {'sdtype': 'unknown', 'pii': True},\n",
       "  'timestamp': {'sdtype': 'numerical'},\n",
       "  'user_id': {'sdtype': 'unknown', 'pii': True},\n",
       "  'customer_city': {'sdtype': 'city', 'pii': True},\n",
       "  'product_category': {'sdtype': 'categorical'},\n",
       "  'product_id': {'sdtype': 'unknown', 'pii': True},\n",
       "  'quantity': {'sdtype': 'numerical'},\n",
       "  'price': {'sdtype': 'numerical'},\n",
       "  'review_score': {'sdtype': 'numerical'}}}"
      ]
     },
     "execution_count": 5,
     "metadata": {},
     "output_type": "execute_result"
    }
   ],
   "source": [
    "from sdv.metadata import SingleTableMetadata\n",
    "\n",
    "# Creating SingleTableMetadata object\n",
    "metadata = SingleTableMetadata()\n",
    "\n",
    "# Detecting metadata from the DataFrame. As an optional step we can save it to json for reproducibility.\n",
    "metadata.detect_from_dataframe(masterdf)\n",
    "\n",
    "# Validating the detected metadata\n",
    "if metadata.validate() is not None:\n",
    "    print(\"Problems with metadata auto-detection!\")\n",
    "\n",
    "# Converting metadata to a dictionary\n",
    "python_dict = metadata.to_dict()\n",
    "\n",
    "# Displaying the dictionary\n",
    "python_dict"
   ]
  },
  {
   "cell_type": "markdown",
   "id": "add4c65e-ffae-42d2-bcae-7e3483988844",
   "metadata": {},
   "source": [
    "## Extracting Columns from Metadata\n",
    "\n",
    "In this cell, we extract the names of all columns from the metadata obtained using the sdv library. The 'order_id' column is excluded from the list of all columns meant to be converted to categorical."
   ]
  },
  {
   "cell_type": "code",
   "execution_count": 6,
   "id": "7f3a0c8a-3f21-45d2-996f-b804b6be1ba9",
   "metadata": {
    "tags": []
   },
   "outputs": [],
   "source": [
    "# Extracting all column names from metadata\n",
    "all_cols = metadata.get_column_names()\n",
    "\n",
    "# Identifying columns to be converted to categorical by excluding 'order_id'\n",
    "all_cat_cols = list(set(all_cols) - set(['order_id']))"
   ]
  },
  {
   "cell_type": "markdown",
   "id": "b751d8db-df83-47c0-b6fa-13c429ee1a6a",
   "metadata": {},
   "source": [
    "## Generating Synthetic Data with Gaussian Copula Synthesizer and Constraints\n",
    "\n",
    "This cell uses the Gaussian Copula Synthesizer from the sdv library to generate synthetic data based on the provided metadata. Constraints are applied to maintain fixed combinations of certain columns, such as user and product identifiers. The resulting synthetic data is displayed to provide an overview."
   ]
  },
  {
   "cell_type": "code",
   "execution_count": 7,
   "id": "730b2f37-f7ca-4fbd-b70a-3dcaed8bbb2f",
   "metadata": {
    "tags": []
   },
   "outputs": [
    {
     "name": "stderr",
     "output_type": "stream",
     "text": [
      "/home/jovyan/LLM_CRM_PERSO/.venv/lib/python3.10/site-packages/sdv/single_table/base.py:82: UserWarning: We strongly recommend saving the metadata using 'save_to_json' for replicability in future SDV versions.\n",
      "  warnings.warn(\n",
      "Sampling rows: 100%|██████████| 10000000/10000000 [04:48<00:00, 34638.20it/s]\n"
     ]
    },
    {
     "data": {
      "text/html": [
       "<div>\n",
       "<style scoped>\n",
       "    .dataframe tbody tr th:only-of-type {\n",
       "        vertical-align: middle;\n",
       "    }\n",
       "\n",
       "    .dataframe tbody tr th {\n",
       "        vertical-align: top;\n",
       "    }\n",
       "\n",
       "    .dataframe thead th {\n",
       "        text-align: right;\n",
       "    }\n",
       "</style>\n",
       "<table border=\"1\" class=\"dataframe\">\n",
       "  <thead>\n",
       "    <tr style=\"text-align: right;\">\n",
       "      <th></th>\n",
       "      <th>order_id</th>\n",
       "      <th>timestamp</th>\n",
       "      <th>user_id</th>\n",
       "      <th>customer_city</th>\n",
       "      <th>product_category</th>\n",
       "      <th>product_id</th>\n",
       "      <th>quantity</th>\n",
       "      <th>price</th>\n",
       "      <th>review_score</th>\n",
       "    </tr>\n",
       "  </thead>\n",
       "  <tbody>\n",
       "    <tr>\n",
       "      <th>0</th>\n",
       "      <td>sdv-pii-m7p96</td>\n",
       "      <td>1524132612</td>\n",
       "      <td>fd15d3e876d92b03747f4c3cd48d41d8</td>\n",
       "      <td>santa cruz do rio pardo</td>\n",
       "      <td>computers_accessories</td>\n",
       "      <td>computers_accessories SKU 116</td>\n",
       "      <td>1.0</td>\n",
       "      <td>16.99</td>\n",
       "      <td>5.0</td>\n",
       "    </tr>\n",
       "    <tr>\n",
       "      <th>1</th>\n",
       "      <td>sdv-pii-g7lj0</td>\n",
       "      <td>1485027982</td>\n",
       "      <td>bacb93ae220562bbec5b93899bf028d3</td>\n",
       "      <td>alvorada</td>\n",
       "      <td>sports_leisure</td>\n",
       "      <td>sports_leisure SKU 261</td>\n",
       "      <td>1.0</td>\n",
       "      <td>109.00</td>\n",
       "      <td>5.0</td>\n",
       "    </tr>\n",
       "    <tr>\n",
       "      <th>2</th>\n",
       "      <td>sdv-pii-g2nag</td>\n",
       "      <td>1515171090</td>\n",
       "      <td>9e27d2071b688512d1313394991ccac6</td>\n",
       "      <td>botucatu</td>\n",
       "      <td>sports_leisure</td>\n",
       "      <td>sports_leisure SKU 607</td>\n",
       "      <td>1.0</td>\n",
       "      <td>220.00</td>\n",
       "      <td>5.0</td>\n",
       "    </tr>\n",
       "    <tr>\n",
       "      <th>3</th>\n",
       "      <td>sdv-pii-m3eiw</td>\n",
       "      <td>1513341982</td>\n",
       "      <td>d3d7dd472d49050c5f6c1e81f71545f0</td>\n",
       "      <td>tramandai</td>\n",
       "      <td>sports_leisure</td>\n",
       "      <td>sports_leisure SKU 2490</td>\n",
       "      <td>1.0</td>\n",
       "      <td>120.00</td>\n",
       "      <td>5.0</td>\n",
       "    </tr>\n",
       "    <tr>\n",
       "      <th>4</th>\n",
       "      <td>sdv-pii-oxl31</td>\n",
       "      <td>1521017076</td>\n",
       "      <td>ca6a81ca06a8d538dee02d3ce5c0d23e</td>\n",
       "      <td>hortolandia</td>\n",
       "      <td>auto</td>\n",
       "      <td>auto SKU 1102</td>\n",
       "      <td>1.0</td>\n",
       "      <td>284.90</td>\n",
       "      <td>5.0</td>\n",
       "    </tr>\n",
       "  </tbody>\n",
       "</table>\n",
       "</div>"
      ],
      "text/plain": [
       "        order_id   timestamp                           user_id  \\\n",
       "0  sdv-pii-m7p96  1524132612  fd15d3e876d92b03747f4c3cd48d41d8   \n",
       "1  sdv-pii-g7lj0  1485027982  bacb93ae220562bbec5b93899bf028d3   \n",
       "2  sdv-pii-g2nag  1515171090  9e27d2071b688512d1313394991ccac6   \n",
       "3  sdv-pii-m3eiw  1513341982  d3d7dd472d49050c5f6c1e81f71545f0   \n",
       "4  sdv-pii-oxl31  1521017076  ca6a81ca06a8d538dee02d3ce5c0d23e   \n",
       "\n",
       "             customer_city       product_category  \\\n",
       "0  santa cruz do rio pardo  computers_accessories   \n",
       "1                 alvorada         sports_leisure   \n",
       "2                 botucatu         sports_leisure   \n",
       "3                tramandai         sports_leisure   \n",
       "4              hortolandia                   auto   \n",
       "\n",
       "                      product_id  quantity   price  review_score  \n",
       "0  computers_accessories SKU 116       1.0   16.99           5.0  \n",
       "1         sports_leisure SKU 261       1.0  109.00           5.0  \n",
       "2         sports_leisure SKU 607       1.0  220.00           5.0  \n",
       "3        sports_leisure SKU 2490       1.0  120.00           5.0  \n",
       "4                  auto SKU 1102       1.0  284.90           5.0  "
      ]
     },
     "execution_count": 7,
     "metadata": {},
     "output_type": "execute_result"
    }
   ],
   "source": [
    "from sdv.single_table import GaussianCopulaSynthesizer\n",
    "\n",
    "# Updating metadata columns to categorical\n",
    "metadata.update_columns(\n",
    "    column_names=all_cat_cols,\n",
    "    sdtype='categorical',\n",
    ")\n",
    "\n",
    "# Initializing GaussianCopulaSynthesizer with metadata and enforcing min-max values\n",
    "synthesizer = GaussianCopulaSynthesizer(\n",
    "    metadata,\n",
    "    enforce_min_max_values=True,\n",
    ")\n",
    "\n",
    "# Defining user and product constraints\n",
    "user_constraint = {\n",
    "    'constraint_class': 'FixedCombinations',\n",
    "    'constraint_parameters': {\n",
    "        'column_names': ['user_id', 'customer_city']\n",
    "    }\n",
    "}\n",
    "product_constraint = {\n",
    "    'constraint_class': 'FixedCombinations',\n",
    "    'constraint_parameters': {\n",
    "        'column_names': ['product_id', 'product_category']\n",
    "    }\n",
    "}\n",
    "\n",
    "# Adding constraints to the synthesizer\n",
    "synthesizer.add_constraints(constraints=[\n",
    "    user_constraint,\n",
    "    product_constraint\n",
    "])\n",
    "\n",
    "# Fitting the synthesizer to the original data\n",
    "synthesizer.fit(masterdf)\n",
    "\n",
    "# Generating synthetic data\n",
    "synthetic_data = synthesizer.sample(num_rows=10000000)\n",
    "\n",
    "# Displaying the first few rows of synthetic data\n",
    "synthetic_data.head()"
   ]
  },
  {
   "cell_type": "markdown",
   "id": "19cb98a8-04ca-485e-b22b-dc6ea724c8c6",
   "metadata": {},
   "source": [
    "## Loading and Validating Metadata from Python Dictionary\n",
    "\n",
    "In this cell, the metadata for the DataFrame is loaded from a Python dictionary using the sdv library. The loaded metadata is then validated to ensure its integrity. If any issues are detected during the validation process, a corresponding message is printed."
   ]
  },
  {
   "cell_type": "code",
   "execution_count": 8,
   "id": "b7eb1775-7ca8-42e4-94ae-0561837c5846",
   "metadata": {
    "tags": []
   },
   "outputs": [],
   "source": [
    "from sdv.metadata import SingleTableMetadata\n",
    "\n",
    "# Loading metadata from the Python dictionary\n",
    "metadata = SingleTableMetadata.load_from_dict(python_dict)\n",
    "\n",
    "# Validating the loaded metadata\n",
    "if metadata.validate() is not None:\n",
    "    print(\"Problems with resetting metadata detected!\")"
   ]
  },
  {
   "cell_type": "markdown",
   "id": "38cd3fe2-81b3-48bd-a04d-bf9afeca1c99",
   "metadata": {},
   "source": [
    "## Running Diagnostic Evaluation between Real and Synthetic Data\n",
    "\n",
    "In this cell, a diagnostic evaluation is performed to compare the characteristics of the real data (`masterdf`) with the synthetic data (`synthetic_data`) generated using the Gaussian Copula Synthesizer. The evaluation is conducted using the provided metadata."
   ]
  },
  {
   "cell_type": "code",
   "execution_count": 9,
   "id": "7f724f21-9db8-4ed5-b49f-192c73dc9349",
   "metadata": {
    "tags": []
   },
   "outputs": [
    {
     "name": "stdout",
     "output_type": "stream",
     "text": [
      "Generating report ...\n",
      "\n",
      "(1/2) Evaluating Data Validity: |██████████| 9/9 [00:00<00:00, 11.16it/s]|\n",
      "Data Validity Score: 100.0%\n",
      "\n",
      "(2/2) Evaluating Data Structure: |██████████| 1/1 [00:00<00:00, 433.70it/s]|\n",
      "Data Structure Score: 100.0%\n",
      "\n",
      "Overall Score (Average): 100.0%\n",
      "\n"
     ]
    }
   ],
   "source": [
    "from sdv.evaluation.single_table import run_diagnostic\n",
    "\n",
    "# Running diagnostic evaluation\n",
    "diagnostic_report = run_diagnostic(\n",
    "    real_data=masterdf,\n",
    "    synthetic_data=synthetic_data,\n",
    "    metadata=metadata\n",
    ")"
   ]
  },
  {
   "cell_type": "markdown",
   "id": "5de2e229-fa6f-4df0-b35f-1684bcd47e26",
   "metadata": {},
   "source": [
    "## Evaluating the Quality of Synthetic Data\n",
    "\n",
    "This cell assesses the quality of synthetic data generated using the Gaussian Copula Synthesizer by comparing it with the real data (`masterdf`). The evaluation is performed using various quality metrics and the provided metadata."
   ]
  },
  {
   "cell_type": "code",
   "execution_count": 10,
   "id": "e24f9976-2dc6-497c-8c86-2928875ce2f0",
   "metadata": {
    "tags": []
   },
   "outputs": [
    {
     "name": "stdout",
     "output_type": "stream",
     "text": [
      "Generating report ...\n",
      "\n",
      "(1/2) Evaluating Column Shapes: |██████████| 9/9 [00:05<00:00,  1.69it/s]|\n",
      "Column Shapes Score: 99.96%\n",
      "\n",
      "(2/2) Evaluating Column Pair Trends: |██████████| 36/36 [00:27<00:00,  1.31it/s]|\n",
      "Column Pair Trends Score: 97.53%\n",
      "\n",
      "Overall Score (Average): 98.74%\n",
      "\n"
     ]
    }
   ],
   "source": [
    "from sdv.evaluation.single_table import evaluate_quality\n",
    "\n",
    "# Evaluating the quality of synthetic data\n",
    "quality_report = evaluate_quality(\n",
    "    real_data=masterdf,\n",
    "    synthetic_data=synthetic_data,\n",
    "    metadata=metadata\n",
    ")"
   ]
  },
  {
   "cell_type": "code",
   "execution_count": 11,
   "id": "fc9467fd-51f9-45c4-93ba-ebc673a454b2",
   "metadata": {
    "tags": []
   },
   "outputs": [
    {
     "data": {
      "text/html": [
       "<div>\n",
       "<style scoped>\n",
       "    .dataframe tbody tr th:only-of-type {\n",
       "        vertical-align: middle;\n",
       "    }\n",
       "\n",
       "    .dataframe tbody tr th {\n",
       "        vertical-align: top;\n",
       "    }\n",
       "\n",
       "    .dataframe thead th {\n",
       "        text-align: right;\n",
       "    }\n",
       "</style>\n",
       "<table border=\"1\" class=\"dataframe\">\n",
       "  <thead>\n",
       "    <tr style=\"text-align: right;\">\n",
       "      <th></th>\n",
       "      <th>Column</th>\n",
       "      <th>Metric</th>\n",
       "      <th>Score</th>\n",
       "    </tr>\n",
       "  </thead>\n",
       "  <tbody>\n",
       "    <tr>\n",
       "      <th>0</th>\n",
       "      <td>timestamp</td>\n",
       "      <td>KSComplement</td>\n",
       "      <td>0.999641</td>\n",
       "    </tr>\n",
       "    <tr>\n",
       "      <th>1</th>\n",
       "      <td>product_category</td>\n",
       "      <td>TVComplement</td>\n",
       "      <td>0.999159</td>\n",
       "    </tr>\n",
       "    <tr>\n",
       "      <th>2</th>\n",
       "      <td>quantity</td>\n",
       "      <td>KSComplement</td>\n",
       "      <td>0.999773</td>\n",
       "    </tr>\n",
       "    <tr>\n",
       "      <th>3</th>\n",
       "      <td>price</td>\n",
       "      <td>KSComplement</td>\n",
       "      <td>0.999707</td>\n",
       "    </tr>\n",
       "    <tr>\n",
       "      <th>4</th>\n",
       "      <td>review_score</td>\n",
       "      <td>KSComplement</td>\n",
       "      <td>0.999783</td>\n",
       "    </tr>\n",
       "  </tbody>\n",
       "</table>\n",
       "</div>"
      ],
      "text/plain": [
       "             Column        Metric     Score\n",
       "0         timestamp  KSComplement  0.999641\n",
       "1  product_category  TVComplement  0.999159\n",
       "2          quantity  KSComplement  0.999773\n",
       "3             price  KSComplement  0.999707\n",
       "4      review_score  KSComplement  0.999783"
      ]
     },
     "execution_count": 11,
     "metadata": {},
     "output_type": "execute_result"
    }
   ],
   "source": [
    "quality_report.get_details(property_name='Column Shapes')"
   ]
  },
  {
   "cell_type": "markdown",
   "id": "d9bb98ef-566a-4520-8c26-ffdca6bdf1fb",
   "metadata": {
    "tags": []
   },
   "source": [
    "## Creating primary key Order IDs in Synthetic Data\n",
    "\n",
    "This cell anonymizes the order IDs in the synthetic data by combining the 'timestamp' and 'user_id' columns, hashing the combined values using SHA256, and storing the result as the new 'order_id' column. Any duplicate rows in the synthetic data are then removed to ensure data integrity."
   ]
  },
  {
   "cell_type": "code",
   "execution_count": 12,
   "id": "69d89caa-6b3c-45ea-a5ac-590dc5f85883",
   "metadata": {
    "tags": []
   },
   "outputs": [],
   "source": [
    "import hashlib\n",
    "\n",
    "# Combining 'timestamp' and 'user_id' columns and hashing the combined values to create 'order_id'\n",
    "synthetic_data['combined_values'] = synthetic_data['timestamp'].astype(str) + '-' + synthetic_data['user_id']\n",
    "synthetic_data['order_id'] = synthetic_data['combined_values'].apply(lambda x: hashlib.sha256(x.encode()).hexdigest()[:32])\n",
    "\n",
    "# Dropping the 'combined_values' column\n",
    "synthetic_data = synthetic_data.drop(columns=['combined_values'])\n",
    "\n",
    "# Dropping duplicate rows from the synthetic data\n",
    "synthetic_data.drop_duplicates(inplace=True)"
   ]
  },
  {
   "cell_type": "code",
   "execution_count": 17,
   "id": "9418b715-4b3f-48a9-ba5b-ab0aa6dc7ca0",
   "metadata": {
    "tags": []
   },
   "outputs": [
    {
     "data": {
      "text/plain": [
       "timestamp                              1506941793\n",
       "user_id          7c396fd4830fd04220f754e42b4e5bff\n",
       "customer_city                           sao paulo\n",
       "count                                          45\n",
       "Name: 0, dtype: object"
      ]
     },
     "execution_count": 17,
     "metadata": {},
     "output_type": "execute_result"
    }
   ],
   "source": [
    "synthetic_data[['timestamp', 'user_id', 'customer_city']].value_counts().reset_index().loc[0]"
   ]
  },
  {
   "cell_type": "code",
   "execution_count": 18,
   "id": "66061710-6eb9-4d5d-beb7-94534b460822",
   "metadata": {
    "tags": []
   },
   "outputs": [
    {
     "data": {
      "text/html": [
       "<div>\n",
       "<style scoped>\n",
       "    .dataframe tbody tr th:only-of-type {\n",
       "        vertical-align: middle;\n",
       "    }\n",
       "\n",
       "    .dataframe tbody tr th {\n",
       "        vertical-align: top;\n",
       "    }\n",
       "\n",
       "    .dataframe thead th {\n",
       "        text-align: right;\n",
       "    }\n",
       "</style>\n",
       "<table border=\"1\" class=\"dataframe\">\n",
       "  <thead>\n",
       "    <tr style=\"text-align: right;\">\n",
       "      <th></th>\n",
       "      <th>order_id</th>\n",
       "      <th>timestamp</th>\n",
       "      <th>user_id</th>\n",
       "      <th>customer_city</th>\n",
       "      <th>product_category</th>\n",
       "      <th>product_id</th>\n",
       "      <th>quantity</th>\n",
       "      <th>price</th>\n",
       "      <th>review_score</th>\n",
       "    </tr>\n",
       "  </thead>\n",
       "  <tbody>\n",
       "    <tr>\n",
       "      <th>110751</th>\n",
       "      <td>807bc46bd8f8141127cedda2bb9e46da</td>\n",
       "      <td>1506941793</td>\n",
       "      <td>7c396fd4830fd04220f754e42b4e5bff</td>\n",
       "      <td>sao paulo</td>\n",
       "      <td>bed_bath_table</td>\n",
       "      <td>bed_bath_table SKU 33</td>\n",
       "      <td>1.0</td>\n",
       "      <td>109.99</td>\n",
       "      <td>3.0</td>\n",
       "    </tr>\n",
       "    <tr>\n",
       "      <th>196825</th>\n",
       "      <td>807bc46bd8f8141127cedda2bb9e46da</td>\n",
       "      <td>1506941793</td>\n",
       "      <td>7c396fd4830fd04220f754e42b4e5bff</td>\n",
       "      <td>sao paulo</td>\n",
       "      <td>watches_gifts</td>\n",
       "      <td>watches_gifts SKU 21</td>\n",
       "      <td>1.0</td>\n",
       "      <td>45.00</td>\n",
       "      <td>1.0</td>\n",
       "    </tr>\n",
       "    <tr>\n",
       "      <th>517865</th>\n",
       "      <td>ddd6450cc8df3c500dd41340d19e3116</td>\n",
       "      <td>1532464897</td>\n",
       "      <td>7c396fd4830fd04220f754e42b4e5bff</td>\n",
       "      <td>sao paulo</td>\n",
       "      <td>food_drink</td>\n",
       "      <td>food_drink SKU 1</td>\n",
       "      <td>1.0</td>\n",
       "      <td>13.99</td>\n",
       "      <td>5.0</td>\n",
       "    </tr>\n",
       "    <tr>\n",
       "      <th>521382</th>\n",
       "      <td>dcba0d61b94f35b2368988dfa8bb6f0c</td>\n",
       "      <td>1518556719</td>\n",
       "      <td>7c396fd4830fd04220f754e42b4e5bff</td>\n",
       "      <td>sao paulo</td>\n",
       "      <td>bed_bath_table</td>\n",
       "      <td>bed_bath_table SKU 70</td>\n",
       "      <td>1.0</td>\n",
       "      <td>39.00</td>\n",
       "      <td>5.0</td>\n",
       "    </tr>\n",
       "    <tr>\n",
       "      <th>815486</th>\n",
       "      <td>807bc46bd8f8141127cedda2bb9e46da</td>\n",
       "      <td>1506941793</td>\n",
       "      <td>7c396fd4830fd04220f754e42b4e5bff</td>\n",
       "      <td>sao paulo</td>\n",
       "      <td>UNKNOWN</td>\n",
       "      <td>UNKNOWN SKU 4</td>\n",
       "      <td>1.0</td>\n",
       "      <td>689.89</td>\n",
       "      <td>5.0</td>\n",
       "    </tr>\n",
       "    <tr>\n",
       "      <th>...</th>\n",
       "      <td>...</td>\n",
       "      <td>...</td>\n",
       "      <td>...</td>\n",
       "      <td>...</td>\n",
       "      <td>...</td>\n",
       "      <td>...</td>\n",
       "      <td>...</td>\n",
       "      <td>...</td>\n",
       "      <td>...</td>\n",
       "    </tr>\n",
       "    <tr>\n",
       "      <th>9626632</th>\n",
       "      <td>807bc46bd8f8141127cedda2bb9e46da</td>\n",
       "      <td>1506941793</td>\n",
       "      <td>7c396fd4830fd04220f754e42b4e5bff</td>\n",
       "      <td>sao paulo</td>\n",
       "      <td>computers_accessories</td>\n",
       "      <td>computers_accessories SKU 144</td>\n",
       "      <td>1.0</td>\n",
       "      <td>20.99</td>\n",
       "      <td>3.0</td>\n",
       "    </tr>\n",
       "    <tr>\n",
       "      <th>9749406</th>\n",
       "      <td>807bc46bd8f8141127cedda2bb9e46da</td>\n",
       "      <td>1506941793</td>\n",
       "      <td>7c396fd4830fd04220f754e42b4e5bff</td>\n",
       "      <td>sao paulo</td>\n",
       "      <td>audio</td>\n",
       "      <td>audio SKU 7</td>\n",
       "      <td>1.0</td>\n",
       "      <td>25.00</td>\n",
       "      <td>3.0</td>\n",
       "    </tr>\n",
       "    <tr>\n",
       "      <th>9866735</th>\n",
       "      <td>807bc46bd8f8141127cedda2bb9e46da</td>\n",
       "      <td>1506941793</td>\n",
       "      <td>7c396fd4830fd04220f754e42b4e5bff</td>\n",
       "      <td>sao paulo</td>\n",
       "      <td>housewares</td>\n",
       "      <td>housewares SKU 5</td>\n",
       "      <td>1.0</td>\n",
       "      <td>63.90</td>\n",
       "      <td>4.0</td>\n",
       "    </tr>\n",
       "    <tr>\n",
       "      <th>9877666</th>\n",
       "      <td>c2f785e9c847f4e46f7b1263c557d8bf</td>\n",
       "      <td>1511033286</td>\n",
       "      <td>7c396fd4830fd04220f754e42b4e5bff</td>\n",
       "      <td>sao paulo</td>\n",
       "      <td>stationery</td>\n",
       "      <td>stationery SKU 282</td>\n",
       "      <td>1.0</td>\n",
       "      <td>56.00</td>\n",
       "      <td>5.0</td>\n",
       "    </tr>\n",
       "    <tr>\n",
       "      <th>9970015</th>\n",
       "      <td>807bc46bd8f8141127cedda2bb9e46da</td>\n",
       "      <td>1506941793</td>\n",
       "      <td>7c396fd4830fd04220f754e42b4e5bff</td>\n",
       "      <td>sao paulo</td>\n",
       "      <td>bed_bath_table</td>\n",
       "      <td>bed_bath_table SKU 104</td>\n",
       "      <td>1.0</td>\n",
       "      <td>118.90</td>\n",
       "      <td>5.0</td>\n",
       "    </tr>\n",
       "  </tbody>\n",
       "</table>\n",
       "<p>155 rows × 9 columns</p>\n",
       "</div>"
      ],
      "text/plain": [
       "                                 order_id   timestamp  \\\n",
       "110751   807bc46bd8f8141127cedda2bb9e46da  1506941793   \n",
       "196825   807bc46bd8f8141127cedda2bb9e46da  1506941793   \n",
       "517865   ddd6450cc8df3c500dd41340d19e3116  1532464897   \n",
       "521382   dcba0d61b94f35b2368988dfa8bb6f0c  1518556719   \n",
       "815486   807bc46bd8f8141127cedda2bb9e46da  1506941793   \n",
       "...                                   ...         ...   \n",
       "9626632  807bc46bd8f8141127cedda2bb9e46da  1506941793   \n",
       "9749406  807bc46bd8f8141127cedda2bb9e46da  1506941793   \n",
       "9866735  807bc46bd8f8141127cedda2bb9e46da  1506941793   \n",
       "9877666  c2f785e9c847f4e46f7b1263c557d8bf  1511033286   \n",
       "9970015  807bc46bd8f8141127cedda2bb9e46da  1506941793   \n",
       "\n",
       "                                  user_id customer_city  \\\n",
       "110751   7c396fd4830fd04220f754e42b4e5bff     sao paulo   \n",
       "196825   7c396fd4830fd04220f754e42b4e5bff     sao paulo   \n",
       "517865   7c396fd4830fd04220f754e42b4e5bff     sao paulo   \n",
       "521382   7c396fd4830fd04220f754e42b4e5bff     sao paulo   \n",
       "815486   7c396fd4830fd04220f754e42b4e5bff     sao paulo   \n",
       "...                                   ...           ...   \n",
       "9626632  7c396fd4830fd04220f754e42b4e5bff     sao paulo   \n",
       "9749406  7c396fd4830fd04220f754e42b4e5bff     sao paulo   \n",
       "9866735  7c396fd4830fd04220f754e42b4e5bff     sao paulo   \n",
       "9877666  7c396fd4830fd04220f754e42b4e5bff     sao paulo   \n",
       "9970015  7c396fd4830fd04220f754e42b4e5bff     sao paulo   \n",
       "\n",
       "              product_category                     product_id  quantity  \\\n",
       "110751          bed_bath_table          bed_bath_table SKU 33       1.0   \n",
       "196825           watches_gifts           watches_gifts SKU 21       1.0   \n",
       "517865              food_drink               food_drink SKU 1       1.0   \n",
       "521382          bed_bath_table          bed_bath_table SKU 70       1.0   \n",
       "815486                 UNKNOWN                  UNKNOWN SKU 4       1.0   \n",
       "...                        ...                            ...       ...   \n",
       "9626632  computers_accessories  computers_accessories SKU 144       1.0   \n",
       "9749406                  audio                    audio SKU 7       1.0   \n",
       "9866735             housewares               housewares SKU 5       1.0   \n",
       "9877666             stationery             stationery SKU 282       1.0   \n",
       "9970015         bed_bath_table         bed_bath_table SKU 104       1.0   \n",
       "\n",
       "          price  review_score  \n",
       "110751   109.99           3.0  \n",
       "196825    45.00           1.0  \n",
       "517865    13.99           5.0  \n",
       "521382    39.00           5.0  \n",
       "815486   689.89           5.0  \n",
       "...         ...           ...  \n",
       "9626632   20.99           3.0  \n",
       "9749406   25.00           3.0  \n",
       "9866735   63.90           4.0  \n",
       "9877666   56.00           5.0  \n",
       "9970015  118.90           5.0  \n",
       "\n",
       "[155 rows x 9 columns]"
      ]
     },
     "execution_count": 18,
     "metadata": {},
     "output_type": "execute_result"
    }
   ],
   "source": [
    "synthetic_data[synthetic_data[\"user_id\"]==\"7c396fd4830fd04220f754e42b4e5bff\"]"
   ]
  },
  {
   "cell_type": "code",
   "execution_count": 19,
   "id": "aaad4845-07bc-45de-bc7e-7ba322080a99",
   "metadata": {
    "tags": []
   },
   "outputs": [
    {
     "data": {
      "text/plain": [
       "10000000"
      ]
     },
     "execution_count": 19,
     "metadata": {},
     "output_type": "execute_result"
    }
   ],
   "source": [
    "len(synthetic_data)"
   ]
  },
  {
   "cell_type": "markdown",
   "id": "cdeebc33-7ee2-4d0e-b4fb-2a0f5671cbc2",
   "metadata": {},
   "source": [
    "## Saving Synthetic Transaction Data to CSV\n",
    "\n",
    "This cell saves the synthetic transaction data stored in the DataFrame `synthetic_data` to a CSV file named 'all_transaction_data.csv' in the '../data/' directory. The index column is excluded from the CSV file."
   ]
  },
  {
   "cell_type": "code",
   "execution_count": 20,
   "id": "d2e77dee-dca1-4ce0-a582-7fb807d45d24",
   "metadata": {
    "tags": []
   },
   "outputs": [],
   "source": [
    "synthetic_data.to_csv('../data/all_transaction_data.csv', index=False)"
   ]
  },
  {
   "cell_type": "markdown",
   "id": "979dd554-338d-4e07-bd7c-681f440177c0",
   "metadata": {},
   "source": [
    "By leveraging sdv, I've generated synthetic dataset that preserve key statistical properties and relationships present in the original data. However, it's essential to carefully evaluate the quality and integrity of synthetic data before use, ensuring it accurately reflects the underlying patterns of the real-world data. In subsequent notebooks, this dataset will serve as the foundation for constructing rank-based recommendation models. Additionally, it will be harnessed to furnish data corresponding to user queries in later stages."
   ]
  }
 ],
 "metadata": {
  "kernelspec": {
   "display_name": "Python new (.venv)",
   "language": "python",
   "name": ".venv"
  },
  "language_info": {
   "codemirror_mode": {
    "name": "ipython",
    "version": 3
   },
   "file_extension": ".py",
   "mimetype": "text/x-python",
   "name": "python",
   "nbconvert_exporter": "python",
   "pygments_lexer": "ipython3",
   "version": "3.10.13"
  }
 },
 "nbformat": 4,
 "nbformat_minor": 5
}
