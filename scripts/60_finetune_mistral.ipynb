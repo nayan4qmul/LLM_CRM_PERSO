{
 "cells": [
  {
   "cell_type": "markdown",
   "id": "44c41e93-15e4-4ebe-a1bf-24ccb1470805",
   "metadata": {},
   "source": [
    "# References:\n",
    "\n",
    "https://github.com/brevdev/notebooks/blob/main/mistral-finetune-own-data.ipynb\n",
    "\n",
    "https://arxiv.org/abs/2106.09685v2 \n",
    "This is a lossy method but established to provide quite good performance"
   ]
  },
  {
   "cell_type": "markdown",
   "id": "a472d0dc-1cef-4c25-a715-054b02b31fb7",
   "metadata": {},
   "source": [
    "In this notebook, I've taken you through a series of tasks aimed at processing data, training models, and analyzing results. I've set up tracking for training metrics using Weights & Biases, importing necessary libraries, and initializing the environment. Then, I've loaded datasets for training, evaluation, and testing, and formatting prompts for structured text presentation. As part of model preparation, I've configured tokenization and defined functions to generate and tokenize prompts. I also visualized the distribution of sample lengths to gain insights into the data's structure. As part of model optimization techniques, I've included enabling gradient checkpointing and implemented Low Rank Adaptation (LoRA) for efficient training. I've explored the impact of these optimizations on the model's parameter count and architecture. In the inference phase, I showed you how to load a pre-trained model, disable gradient calculation, and generate text based on user prompts. Additionally, I've compared the results from original and generated functions with data for evaluation and better understanding of model assessment and performance."
   ]
  },
  {
   "cell_type": "markdown",
   "id": "7382b297-2cda-46bf-a403-6bad28a416cb",
   "metadata": {},
   "source": [
    "# Setup Weights and Biases Training Metrics Tracking"
   ]
  },
  {
   "cell_type": "code",
   "execution_count": 5,
   "id": "10a71346-ef9c-4967-8699-4e08aafd1df9",
   "metadata": {
    "tags": []
   },
   "outputs": [
    {
     "name": "stderr",
     "output_type": "stream",
     "text": [
      "Failed to detect the name of this notebook, you can set it manually with the WANDB_NOTEBOOK_NAME environment variable to enable code saving.\n",
      "\u001b[34m\u001b[1mwandb\u001b[0m: Currently logged in as: \u001b[33mnayan4qmul\u001b[0m (\u001b[33mnayan4learn\u001b[0m). Use \u001b[1m`wandb login --relogin`\u001b[0m to force relogin\n"
     ]
    },
    {
     "data": {
      "text/html": [
       "Changes to your `wandb` environment variables will be ignored because your `wandb` session has already started. For more information on how to modify your settings with `wandb.init()` arguments, please refer to <a href='https://wandb.me/wandb-init' target=\"_blank\">the W&B docs</a>."
      ],
      "text/plain": [
       "<IPython.core.display.HTML object>"
      ]
     },
     "metadata": {},
     "output_type": "display_data"
    },
    {
     "data": {
      "text/html": [
       "Tracking run with wandb version 0.16.6"
      ],
      "text/plain": [
       "<IPython.core.display.HTML object>"
      ]
     },
     "metadata": {},
     "output_type": "display_data"
    },
    {
     "data": {
      "text/html": [
       "Run data is saved locally in <code>../wandb/run-20240420_213300-ljufcvhb</code>"
      ],
      "text/plain": [
       "<IPython.core.display.HTML object>"
      ]
     },
     "metadata": {},
     "output_type": "display_data"
    },
    {
     "data": {
      "text/html": [
       "Syncing run <strong><a href='https://wandb.ai/nayan4learn/01-finetune-mistral/runs/ljufcvhb' target=\"_blank\">denim-glade-2</a></strong> to <a href='https://wandb.ai/nayan4learn/01-finetune-mistral' target=\"_blank\">Weights & Biases</a> (<a href='https://wandb.me/run' target=\"_blank\">docs</a>)<br/>"
      ],
      "text/plain": [
       "<IPython.core.display.HTML object>"
      ]
     },
     "metadata": {},
     "output_type": "display_data"
    },
    {
     "data": {
      "text/html": [
       " View project at <a href='https://wandb.ai/nayan4learn/01-finetune-mistral' target=\"_blank\">https://wandb.ai/nayan4learn/01-finetune-mistral</a>"
      ],
      "text/plain": [
       "<IPython.core.display.HTML object>"
      ]
     },
     "metadata": {},
     "output_type": "display_data"
    },
    {
     "data": {
      "text/html": [
       " View run at <a href='https://wandb.ai/nayan4learn/01-finetune-mistral/runs/ljufcvhb' target=\"_blank\">https://wandb.ai/nayan4learn/01-finetune-mistral/runs/ljufcvhb</a>"
      ],
      "text/plain": [
       "<IPython.core.display.HTML object>"
      ]
     },
     "metadata": {},
     "output_type": "display_data"
    },
    {
     "data": {
      "text/html": [
       "<button onClick=\"this.nextSibling.style.display='block';this.style.display='none';\">Display W&B run</button><iframe src='https://wandb.ai/nayan4learn/01-finetune-mistral/runs/ljufcvhb?jupyter=true' style='border:none;width:100%;height:420px;display:none;'></iframe>"
      ],
      "text/plain": [
       "<wandb.sdk.wandb_run.Run at 0x7f664f836860>"
      ]
     },
     "execution_count": 5,
     "metadata": {},
     "output_type": "execute_result"
    }
   ],
   "source": [
    "##### WARNING #####\n",
    "# Ignore the below warning for now as it doesn't affect the functionality of wandb metric collection in any way.\n",
    "# Failed to detect the name of this notebook, you can set it manually with the WANDB_NOTEBOOK_NAME environment variable to enable code saving.\n",
    "##### ####### #####\n",
    "\n",
    "# Import necessary libraries\n",
    "import wandb\n",
    "import os\n",
    "\n",
    "# Log in to Weights & Biases\n",
    "wandb.login()\n",
    "\n",
    "# Specify Weights & Biases project and notebook name\n",
    "wandb_project = \"01-finetune-mistral\"\n",
    "wandb_notebook_name = \"01_finetune_mistral.ipynb\"\n",
    "\n",
    "# Set environment variables for Weights & Biases project and notebook name\n",
    "if len(wandb_project) > 0:\n",
    "    os.environ[\"WANDB_PROJECT\"] = wandb_project\n",
    "    os.environ[\"WANDB_NOTEBOOK_NAME\"] = wandb_notebook_name\n",
    "\n",
    "# Initialize Weights & Biases run\n",
    "wandb.init(\n",
    "    # set the wandb project where this run will be logged\n",
    "    project=wandb_project,\n",
    "    dir=\"../\",\n",
    ")"
   ]
  },
  {
   "cell_type": "markdown",
   "id": "95a669f6-e10e-4eee-8f26-47f42f441f56",
   "metadata": {},
   "source": [
    "# Loading Datasets"
   ]
  },
  {
   "cell_type": "code",
   "execution_count": 2,
   "id": "7f249571-0336-42bc-848f-4e25a3912bda",
   "metadata": {
    "tags": []
   },
   "outputs": [],
   "source": [
    "from datasets import load_dataset\n",
    "\n",
    "# Load training dataset\n",
    "train_dataset = load_dataset('json', data_files='../data/train_CRM_data.json', split='train')\n",
    "\n",
    "# Load evaluation dataset\n",
    "eval_dataset = load_dataset('json', data_files='../data/val_CRM_data.json', split='train')\n",
    "\n",
    "# Load test dataset\n",
    "test_dataset = load_dataset('json', data_files='../data/test_CRM_data.json', split='train')"
   ]
  },
  {
   "cell_type": "markdown",
   "id": "5666f4c9-9973-4a1d-983d-054a0b11fa3b",
   "metadata": {},
   "source": [
    "# Formatting Prompts"
   ]
  },
  {
   "cell_type": "code",
   "execution_count": 3,
   "id": "7cd6c8ca-849e-43bf-a600-0d251bd70f82",
   "metadata": {
    "tags": []
   },
   "outputs": [
    {
     "name": "stdout",
     "output_type": "stream",
     "text": [
      "\n",
      "Raw message:\n",
      "\n",
      "[{'content': '\\nYou are a Python function generator. Users will ask you questions in English, \\nand you will produce a Python function as answer to the question based on the provided CONTEXT.\\n\\nCONTEXT:\\nPandas DataFrame df containing transaction data with columns order_id, user_id, item_id, timestamp, score.\\r\\norder_id takes string datatype and identifies the order.\\r\\nuser_id takes string datatype and identifies the customer.\\r\\nitem_id takes string datatype that identifies the product.\\r\\ntimestamp takes timestamp datatype and represents the datetimestamp of transaction.\\r\\nscore takes float datatype and represents the score of the transaction.\\r\\nNote that a customer can make multiple transactions for a product but the customer product pair will be just one entry for each order.\\r\\nPandas DataFrame customer_dfcontaining customer data with columns user_id, customer_city.\\r\\nuser_id takes string datatype and identifies the customer.\\r\\ncustomer_city takes string datatype and represents the city where the customer resides.\\r\\nNote that df can be joined with customer_df on user_id.\\r\\nPandas DataFrame product_dfcontaining product data with columns item_id, product_category.\\r\\nitem_id takes string datatype that identifies the product.\\r\\nproduct_category takes string datatype and represents the product category in the product hierarchy.\\r\\nNote that df can be joined with product_df on item_id.\\n', 'role': 'system'}, {'content': \"What are the top 5 products recommended for user 'user123' based on their purchase history?\", 'role': 'user'}, {'content': 'def promote_similar_products(df, customer_df, product_df, user_id=\\'user123\\', n=5):\\\\n    \"\"\"\\\\n    Promotes similar products to a given user based on their purchase history.\\\\n    Parameters:\\\\n        df (DataFrame): Transaction data DataFrame with columns \\'order_id\\', \\'user_id\\', \\'item_id\\', \\'timestamp\\', \\'score\\'.\\\\n        customer_df (DataFrame): Customer data DataFrame with columns \\'user_id\\', \\'customer_city\\'.\\\\n        product_df (DataFrame): Product data DataFrame with columns \\'item_id\\', \\'product_category\\'.\\\\n        user_id (str): ID of the user for whom to promote similar products.\\\\n        n (int): Number of similar products to promote.\\\\n    Returns:\\\\n        list: List of recommended product IDs.\\\\n    \"\"\"\\\\n    user_products = df[df[\\'user_id\\'] == user_id][\\'item_id\\'].unique()\\\\n    user_product_categories = product_df[product_df[\\'item_id\\'].isin(user_products)][\\'product_category\\'].unique()\\\\n    similar_products = product_df[product_df[\\'product_category\\'].isin(user_product_categories) & ~product_df[\\'item_id\\'].isin(user_products)]\\\\n    recommended_products = (df[df[\\'item_id\\'].isin(similar_products[\\'item_id\\'])]\\\\n                            .groupby(\\'item_id\\')\\\\n                            .size()\\\\n                            .reset_index(name=\\'count\\')\\\\n                            .sort_values(by=\\'count\\', ascending=False)\\\\n                            .head(n))\\\\n    return recommended_products[\\'item_id\\'].tolist()\\\\n', 'role': 'assistant'}]\n",
      "\n",
      "Formatted message:\n",
      "\n",
      "### Question: What are the top 5 products recommended for user 'user123' based on their purchase history?\n",
      "\n",
      "### Context: \n",
      "You are a Python function generator. Users will ask you questions in English, \n",
      "and you will produce a Python function as answer to the question based on the provided CONTEXT.\n",
      "\n",
      "CONTEXT:\n",
      "Pandas DataFrame df containing transaction data with columns order_id, user_id, item_id, timestamp, score.\n",
      "order_id takes string datatype and identifies the order.\n",
      "user_id takes string datatype and identifies the customer.\n",
      "item_id takes string datatype that identifies the product.\n",
      "timestamp takes timestamp datatype and represents the datetimestamp of transaction.\n",
      "score takes float datatype and represents the score of the transaction.\n",
      "Note that a customer can make multiple transactions for a product but the customer product pair will be just one entry for each order.\n",
      "Pandas DataFrame customer_dfcontaining customer data with columns user_id, customer_city.\n",
      "user_id takes string datatype and identifies the customer.\n",
      "customer_city takes string datatype and represents the city where the customer resides.\n",
      "Note that df can be joined with customer_df on user_id.\n",
      "Pandas DataFrame product_dfcontaining product data with columns item_id, product_category.\n",
      "item_id takes string datatype that identifies the product.\n",
      "product_category takes string datatype and represents the product category in the product hierarchy.\n",
      "Note that df can be joined with product_df on item_id.\n",
      "\n",
      "### Answer: \n",
      "def promote_similar_products(df, customer_df, product_df, user_id='user123', n=5):\\n    \"\"\"\\n    Promotes similar products to a given user based on their purchase history.\\n    Parameters:\\n        df (DataFrame): Transaction data DataFrame with columns 'order_id', 'user_id', 'item_id', 'timestamp', 'score'.\\n        customer_df (DataFrame): Customer data DataFrame with columns 'user_id', 'customer_city'.\\n        product_df (DataFrame): Product data DataFrame with columns 'item_id', 'product_category'.\\n        user_id (str): ID of the user for whom to promote similar products.\\n        n (int): Number of similar products to promote.\\n    Returns:\\n        list: List of recommended product IDs.\\n    \"\"\"\\n    user_products = df[df['user_id'] == user_id]['item_id'].unique()\\n    user_product_categories = product_df[product_df['item_id'].isin(user_products)]['product_category'].unique()\\n    similar_products = product_df[product_df['product_category'].isin(user_product_categories) & ~product_df['item_id'].isin(user_products)]\\n    recommended_products = (df[df['item_id'].isin(similar_products['item_id'])]\\n                            .groupby('item_id')\\n                            .size()\\n                            .reset_index(name='count')\\n                            .sort_values(by='count', ascending=False)\\n                            .head(n))\\n    return recommended_products['item_id'].tolist()\\n\n",
      "\n"
     ]
    }
   ],
   "source": [
    "def formatting_func(message):\n",
    "    \"\"\"\n",
    "    Formats a message containing question, context, and answer into a structured text format.\n",
    "\n",
    "    Args:\n",
    "        message (list): A list containing dictionaries for question, context, and answer.\n",
    "\n",
    "    Returns:\n",
    "        str: Formatted text containing the question, context, and answer.\n",
    "    \"\"\"\n",
    "    # Extracting question, context, and answer from the message\n",
    "    question = message[1]['content']\n",
    "    context = message[0]['content']\n",
    "    answer = message[2]['content']\n",
    "\n",
    "    # Formatting the extracted information into text format\n",
    "    text_format = f\"\"\"\n",
    "### Question: {question}\n",
    "\n",
    "### Context: {context}\n",
    "### Answer: \n",
    "{answer}\n",
    "    \"\"\"\n",
    "\n",
    "    return text_format.strip()\n",
    "\n",
    "# Example usage\n",
    "print(f\"\"\"\n",
    "Raw message:\n",
    "\n",
    "{train_dataset[0]['messages']}\n",
    "\n",
    "Formatted message:\n",
    "\n",
    "{formatting_func(train_dataset[0]['messages'])}\n",
    "\"\"\")"
   ]
  },
  {
   "cell_type": "markdown",
   "id": "cbb1fba1-dda5-4724-b534-42d9e391c5f4",
   "metadata": {},
   "source": [
    "# Setup Accelerator - Optional"
   ]
  },
  {
   "cell_type": "code",
   "execution_count": 4,
   "id": "fbe447e5-dcf4-455a-af8f-f8bfa2d441de",
   "metadata": {
    "tags": []
   },
   "outputs": [],
   "source": [
    "# Import necessary libraries\n",
    "from accelerate import (\n",
    "    FullyShardedDataParallelPlugin, \n",
    "    Accelerator\n",
    ")\n",
    "from torch.distributed.fsdp.fully_sharded_data_parallel import (\n",
    "    FullOptimStateDictConfig, \n",
    "    FullStateDictConfig\n",
    ")\n",
    "\n",
    "# Create FullyShardedDataParallelPlugin instance with configuration\n",
    "fsdp_plugin = FullyShardedDataParallelPlugin(\n",
    "    state_dict_config=FullStateDictConfig(\n",
    "        offload_to_cpu=True, \n",
    "        rank0_only=False\n",
    "    ),\n",
    "    optim_state_dict_config=FullOptimStateDictConfig(\n",
    "        offload_to_cpu=True, \n",
    "        rank0_only=False\n",
    "    ),\n",
    ")\n",
    "\n",
    "# Create Accelerator instance with FullyShardedDataParallelPlugin\n",
    "accelerator = Accelerator(fsdp_plugin=fsdp_plugin)"
   ]
  },
  {
   "cell_type": "markdown",
   "id": "bca68e43-305c-4f71-b3bb-f0836a25127e",
   "metadata": {
    "tags": []
   },
   "source": [
    "# Loading Base Model"
   ]
  },
  {
   "cell_type": "code",
   "execution_count": 6,
   "id": "d4086c41-9d05-4497-b934-fce06f1806b9",
   "metadata": {
    "tags": []
   },
   "outputs": [
    {
     "data": {
      "application/vnd.jupyter.widget-view+json": {
       "model_id": "de04f5d1a22f4c5aa1e388efd6bcfacc",
       "version_major": 2,
       "version_minor": 0
      },
      "text/plain": [
       "Loading checkpoint shards:   0%|          | 0/2 [00:00<?, ?it/s]"
      ]
     },
     "metadata": {},
     "output_type": "display_data"
    }
   ],
   "source": [
    "# Import necessary libraries\n",
    "import torch\n",
    "from transformers import (\n",
    "    AutoTokenizer, \n",
    "    AutoModelForCausalLM, \n",
    "    BitsAndBytesConfig\n",
    ")\n",
    "\n",
    "# Define base model ID and BitsAndBytesConfig\n",
    "base_model_id = \"mistralai/Mistral-7B-v0.1\"\n",
    "bnb_config = BitsAndBytesConfig(\n",
    "    load_in_4bit=True,\n",
    "    bnb_4bit_use_double_quant=True,\n",
    "    bnb_4bit_quant_type=\"nf4\",\n",
    "    bnb_4bit_compute_dtype=torch.bfloat16\n",
    ")\n",
    "\n",
    "# Load the base model with specified quantization config\n",
    "model = AutoModelForCausalLM.from_pretrained(\n",
    "    base_model_id, \n",
    "    quantization_config=bnb_config, \n",
    "    device_map=\"auto\"\n",
    ")"
   ]
  },
  {
   "cell_type": "markdown",
   "id": "1c6ee54e-88e0-437f-9881-d9658b708f62",
   "metadata": {
    "tags": []
   },
   "source": [
    "# Setting up Tokenizer"
   ]
  },
  {
   "cell_type": "code",
   "execution_count": 7,
   "id": "e75f8292-1f6e-4e0a-a862-901bd090652d",
   "metadata": {
    "tags": []
   },
   "outputs": [],
   "source": [
    "# Initialize tokenizer with base model ID\n",
    "tokenizer = AutoTokenizer.from_pretrained(\n",
    "    base_model_id,\n",
    "    padding_side=\"left\", # Pad on the left side\n",
    "    add_eos_token=True,  # Add end-of-sequence token\n",
    "    add_bos_token=True,  # Add beginning-of-sequence token\n",
    ")\n",
    "\n",
    "# Set pad token to end-of-sequence token\n",
    "tokenizer.pad_token = tokenizer.eos_token"
   ]
  },
  {
   "cell_type": "markdown",
   "id": "5352a244-65bc-4eae-9adb-8764018c650d",
   "metadata": {},
   "source": [
    "# Defining Function to Generate and Tokenize Prompt"
   ]
  },
  {
   "cell_type": "code",
   "execution_count": 8,
   "id": "f58d8e98-96ba-4e7b-9960-da419b9e7527",
   "metadata": {
    "tags": []
   },
   "outputs": [],
   "source": [
    "def generate_and_tokenize_prompt(prompt):\n",
    "    \"\"\"\n",
    "    Generates and tokenizes a prompt using the provided tokenizer.\n",
    "\n",
    "    Args:\n",
    "        prompt (list): A list containing dictionaries for question, context, and answer.\n",
    "\n",
    "    Returns:\n",
    "        list: Tokenized prompt.\n",
    "    \"\"\"\n",
    "    return tokenizer(formatting_func(prompt))\n",
    "\n",
    "# Tokenize training dataset\n",
    "tokenized_train_dataset = list(map(lambda record: generate_and_tokenize_prompt(record['messages']), train_dataset))\n",
    "\n",
    "# Tokenize validation dataset\n",
    "tokenized_val_dataset = list(map(lambda record: generate_and_tokenize_prompt(record['messages']), eval_dataset))"
   ]
  },
  {
   "cell_type": "markdown",
   "id": "90e70d39-effb-40b3-b3ad-e9269e589ad3",
   "metadata": {},
   "source": [
    "# Plotting the Distribution of Sample Lengths"
   ]
  },
  {
   "cell_type": "code",
   "execution_count": 9,
   "id": "69e9298e-7105-4558-9916-9504e206c506",
   "metadata": {
    "tags": []
   },
   "outputs": [
    {
     "name": "stdout",
     "output_type": "stream",
     "text": [
      "370\n"
     ]
    },
    {
     "data": {
      "image/png": "[encoded data removed]",
      "text/plain": [
       "<Figure size 1000x600 with 1 Axes>"
      ]
     },
     "metadata": {},
     "output_type": "display_data"
    }
   ],
   "source": [
    "import matplotlib.pyplot as plt\n",
    "\n",
    "def plot_data_lengths(tokenized_train_dataset, tokenized_val_dataset):\n",
    "    \"\"\"\n",
    "    Plot the distribution of sample lengths.\n",
    "\n",
    "    Args:\n",
    "        tokenized_train_dataset (list): Tokenized training dataset.\n",
    "        tokenized_val_dataset (list): Tokenized validation dataset.\n",
    "    \"\"\"\n",
    "    # Combine lengths of training and validation datasets\n",
    "    lengths = [len(x['input_ids']) for x in tokenized_train_dataset]\n",
    "    lengths += [len(x['input_ids']) for x in tokenized_val_dataset]\n",
    "    print(len(lengths))\n",
    "\n",
    "    # Plotting the histogram\n",
    "    plt.figure(figsize=(10, 6))\n",
    "    plt.hist(lengths, bins=20, alpha=0.7, color='blue')\n",
    "    plt.xlabel('Length of input_ids')\n",
    "    plt.ylabel('Frequency')\n",
    "    plt.title('Distribution of Lengths of input_ids')\n",
    "    plt.show()\n",
    "\n",
    "# Call the function with tokenized datasets\n",
    "plot_data_lengths(tokenized_train_dataset, tokenized_val_dataset)"
   ]
  },
  {
   "cell_type": "markdown",
   "id": "adca366e-24dd-4764-a2fd-0ee7101cd35b",
   "metadata": {},
   "source": [
    "# Reformatting Prompt and Tokenizing with Truncation"
   ]
  },
  {
   "cell_type": "code",
   "execution_count": 10,
   "id": "8c622d28-8333-46ef-b58f-5c3626bf7aea",
   "metadata": {
    "tags": []
   },
   "outputs": [
    {
     "name": "stdout",
     "output_type": "stream",
     "text": [
      "370\n"
     ]
    },
    {
     "data": {
      "image/png": "[encoded data removed]",
      "text/plain": [
       "<Figure size 1000x600 with 1 Axes>"
      ]
     },
     "metadata": {},
     "output_type": "display_data"
    }
   ],
   "source": [
    "max_length = 1024 # This was an appropriate max length for my dataset\n",
    "\n",
    "# Reformat prompt and tokenize each message with truncation\n",
    "def generate_and_tokenize_prompt_with_trunc(prompt):\n",
    "    \"\"\"\n",
    "    Reformat prompt and tokenize each message with truncation.\n",
    "\n",
    "    Args:\n",
    "        prompt (list): A list containing dictionaries for question, context, and answer.\n",
    "\n",
    "    Returns:\n",
    "        dict: Tokenized prompt with truncation and padding.\n",
    "    \"\"\"\n",
    "    # Tokenize prompt with truncation and padding\n",
    "    result = tokenizer(\n",
    "        formatting_func(prompt),\n",
    "        truncation=True,\n",
    "        max_length=max_length,\n",
    "        padding=\"max_length\",\n",
    "    )\n",
    "    \n",
    "    # Set labels to input_ids for CausalLM\n",
    "    result[\"labels\"] = result[\"input_ids\"].copy()\n",
    "    return result\n",
    "\n",
    "# Tokenize training dataset with truncation and padding\n",
    "tokenized_train_dataset = list(map(lambda record: generate_and_tokenize_prompt_with_trunc(record['messages']), train_dataset))\n",
    "\n",
    "# Tokenize validation dataset with truncation and padding\n",
    "tokenized_val_dataset = list(map(lambda record: generate_and_tokenize_prompt_with_trunc(record['messages']), eval_dataset))\n",
    "\n",
    "# Plot the distribution of lengths\n",
    "plot_data_lengths(tokenized_train_dataset, tokenized_val_dataset)"
   ]
  },
  {
   "cell_type": "markdown",
   "id": "0ad14bb9-a8bc-471b-a001-7132669e5ba6",
   "metadata": {},
   "source": [
    "# Checking Base Model Performance - Getting the Complete Prompt"
   ]
  },
  {
   "cell_type": "code",
   "execution_count": 11,
   "id": "2304b2e7-021d-42ee-aa19-0625be77bd9f",
   "metadata": {
    "tags": []
   },
   "outputs": [
    {
     "name": "stdout",
     "output_type": "stream",
     "text": [
      "\n",
      "Complete message:\n",
      "\n",
      "### Question: What is the correlation between transaction scores and customer city, as well as product category during peak hours, specifically from 8 AM to 10 AM?\n",
      "\n",
      "### Context: \n",
      "You are a Python function generator. Users will ask you questions in English, \n",
      "and you will produce a Python function as answer to the question based on the provided CONTEXT.\n",
      "\n",
      "CONTEXT:\n",
      "Pandas DataFrame df containing transaction data with columns order_id, user_id, item_id, timestamp, score.\n",
      "order_id takes string datatype and identifies the order.\n",
      "user_id takes string datatype and identifies the customer.\n",
      "item_id takes string datatype that identifies the product.\n",
      "timestamp takes timestamp datatype and represents the datetimestamp of transaction.\n",
      "score takes float datatype and represents the score of the transaction.\n",
      "Note that a customer can make multiple transactions for a product but the customer product pair will be just one entry for each order.\n",
      "Pandas DataFrame customer_dfcontaining customer data with columns user_id, customer_city.\n",
      "user_id takes string datatype and identifies the customer.\n",
      "customer_city takes string datatype and represents the city where the customer resides.\n",
      "Note that df can be joined with customer_df on user_id.\n",
      "Pandas DataFrame product_dfcontaining product data with columns item_id, product_category.\n",
      "item_id takes string datatype that identifies the product.\n",
      "product_category takes string datatype and represents the product category in the product hierarchy.\n",
      "Note that df can be joined with product_df on item_id.\n",
      "\n",
      "### Answer: \n",
      "def correlate_score_with_category_and_peak_hours(df, customer_df, product_df, peak_hours=[8, 9, 10]):\\n    df = pd.merge(df, customer_df, on='user_id', how='left')\\n    df = pd.merge(df, product_df, on='item_id', how='left')\\n    peak_hour_transactions = df[df['timestamp'].dt.hour.isin(peak_hours)]\\n    city_scores = peak_hour_transactions.groupby('customer_city')['score'].mean()\\n    category_scores = peak_hour_transactions.groupby('product_category')['score'].mean()\\n    city_correlation = peak_hour_transactions.groupby('customer_city')['score'].corr(city_scores)\\n    category_correlation = peak_hour_transactions.groupby('product_category')['score'].corr(category_scores)\\n    return city_correlation, category_correlation\\n\n",
      "\n",
      "Prompt for text-generation:\n",
      "\n",
      "### Question: What is the correlation between transaction scores and customer city, as well as product category during peak hours, specifically from 8 AM to 10 AM?\n",
      "\n",
      "### Context: \n",
      "You are a Python function generator. Users will ask you questions in English, \n",
      "and you will produce a Python function as answer to the question based on the provided CONTEXT.\n",
      "\n",
      "CONTEXT:\n",
      "Pandas DataFrame df containing transaction data with columns order_id, user_id, item_id, timestamp, score.\n",
      "order_id takes string datatype and identifies the order.\n",
      "user_id takes string datatype and identifies the customer.\n",
      "item_id takes string datatype that identifies the product.\n",
      "timestamp takes timestamp datatype and represents the datetimestamp of transaction.\n",
      "score takes float datatype and represents the score of the transaction.\n",
      "Note that a customer can make multiple transactions for a product but the customer product pair will be just one entry for each order.\n",
      "Pandas DataFrame customer_dfcontaining customer data with columns user_id, customer_city.\n",
      "user_id takes string datatype and identifies the customer.\n",
      "customer_city takes string datatype and represents the city where the customer resides.\n",
      "Note that df can be joined with customer_df on user_id.\n",
      "Pandas DataFrame product_dfcontaining product data with columns item_id, product_category.\n",
      "item_id takes string datatype that identifies the product.\n",
      "product_category takes string datatype and represents the product category in the product hierarchy.\n",
      "Note that df can be joined with product_df on item_id.\n",
      "\n",
      "### Answer:\n",
      "\n"
     ]
    }
   ],
   "source": [
    "prompt = formatting_func(eval_dataset[0]['messages'])\n",
    "\n",
    "# Find the index of \"### Answer:\"\n",
    "index_answer = prompt.find(\"### Answer:\")\n",
    "\n",
    "# Extract the prompt for text generation up to \"### Answer:\"\n",
    "eval_prompt = prompt[:index_answer + len(\"### Answer:\")].strip()\n",
    "\n",
    "# Print the complete message and the prompt for text generation\n",
    "print(f\"\"\"\n",
    "Complete message:\n",
    "\n",
    "{prompt}\n",
    "\n",
    "Prompt for text-generation:\n",
    "\n",
    "{eval_prompt}\n",
    "\"\"\")"
   ]
  },
  {
   "cell_type": "markdown",
   "id": "0c73d112-992c-43f3-861d-9b0996850a47",
   "metadata": {},
   "source": [
    "# Initializing Evaluation Tokenizer"
   ]
  },
  {
   "cell_type": "code",
   "execution_count": 12,
   "id": "2e3bafa4-cc55-489c-8092-e0eeff5192aa",
   "metadata": {
    "tags": []
   },
   "outputs": [
    {
     "data": {
      "text/plain": [
       "MistralForCausalLM(\n",
       "  (model): MistralModel(\n",
       "    (embed_tokens): Embedding(32000, 4096)\n",
       "    (layers): ModuleList(\n",
       "      (0-31): 32 x MistralDecoderLayer(\n",
       "        (self_attn): MistralAttention(\n",
       "          (q_proj): Linear4bit(in_features=4096, out_features=4096, bias=False)\n",
       "          (k_proj): Linear4bit(in_features=4096, out_features=1024, bias=False)\n",
       "          (v_proj): Linear4bit(in_features=4096, out_features=1024, bias=False)\n",
       "          (o_proj): Linear4bit(in_features=4096, out_features=4096, bias=False)\n",
       "          (rotary_emb): MistralRotaryEmbedding()\n",
       "        )\n",
       "        (mlp): MistralMLP(\n",
       "          (gate_proj): Linear4bit(in_features=4096, out_features=14336, bias=False)\n",
       "          (up_proj): Linear4bit(in_features=4096, out_features=14336, bias=False)\n",
       "          (down_proj): Linear4bit(in_features=14336, out_features=4096, bias=False)\n",
       "          (act_fn): SiLU()\n",
       "        )\n",
       "        (input_layernorm): MistralRMSNorm()\n",
       "        (post_attention_layernorm): MistralRMSNorm()\n",
       "      )\n",
       "    )\n",
       "    (norm): MistralRMSNorm()\n",
       "  )\n",
       "  (lm_head): Linear(in_features=4096, out_features=32000, bias=False)\n",
       ")"
      ]
     },
     "execution_count": 12,
     "metadata": {},
     "output_type": "execute_result"
    }
   ],
   "source": [
    "# Initialize evaluation tokenizer without padding or eos token\n",
    "eval_tokenizer = AutoTokenizer.from_pretrained(\n",
    "    base_model_id,\n",
    "    add_bos_token=True, # Add beginning-of-sequence token\n",
    ")\n",
    "\n",
    "# Tokenize the prompt and convert to PyTorch tensors\n",
    "model_input = eval_tokenizer(\n",
    "    eval_prompt, \n",
    "    return_tensors=\"pt\" # Return PyTorch tensors\n",
    ").to(\"cuda\") # Move tensors to GPU if available\n",
    "\n",
    "# Set the model to evaluation mode\n",
    "model.eval()"
   ]
  },
  {
   "cell_type": "markdown",
   "id": "f03e1185-f091-40c4-8145-59ca04e70f4c",
   "metadata": {},
   "source": [
    "# Generating Text with Base Model"
   ]
  },
  {
   "cell_type": "code",
   "execution_count": 13,
   "id": "4009dcda-1c73-4326-84c0-fa9999a7813c",
   "metadata": {
    "tags": []
   },
   "outputs": [
    {
     "name": "stdout",
     "output_type": "stream",
     "text": [
      "### Question: What is the correlation between transaction scores and customer city, as well as product category during peak hours, specifically from 8 AM to 10 AM?\n",
      "\n",
      "### Context: \n",
      "You are a Python function generator. Users will ask you questions in English, \n",
      "and you will produce a Python function as answer to the question based on the provided CONTEXT.\n",
      "\n",
      "CONTEXT:\n",
      "Pandas DataFrame df containing transaction data with columns order_id, user_id, item_id, timestamp, score.\n",
      "order_id takes string datatype and identifies the order.\n",
      "user_id takes string datatype and identifies the customer.\n",
      "item_id takes string datatype that identifies the product.\n",
      "timestamp takes timestamp datatype and represents the datetimestamp of transaction.\n",
      "score takes float datatype and represents the score of the transaction.\n",
      "Note that a customer can make multiple transactions for a product but the customer product pair will be just one entry for each order.\n",
      "Pandas DataFrame customer_dfcontaining customer data with columns user_id, customer_city.\n",
      "user_id takes string datatype and identifies the customer.\n",
      "customer_city takes string datatype and represents the city where the customer resides.\n",
      "Note that df can be joined with customer_df on user_id.\n",
      "Pandas DataFrame product_dfcontaining product data with columns item_id, product_category.\n",
      "item_id takes string datatype that identifies the product.\n",
      "product_category takes string datatype and represents the product category in the product hierarchy.\n",
      "Note that df can be joined with product_df on item_id.\n",
      "\n",
      "### Answer:\n",
      "```python\n",
      "def get_function(question):\n",
      "    # Write your code here\n",
      "    import pandas as pd\n",
      "    import numpy as np\n",
      "    import datetime\n",
      "    import re\n",
      "    import math\n",
      "    import random\n",
      "    import matplotlib.pyplot as plt\n",
      "    import seaborn as sns\n",
      "    import warnings\n",
      "    warnings.filterwarnings(\"ignore\")\n",
      "    def get_transaction_scores():\n",
      "        df = pd.read_csv('data/transactions.csv')\n",
      "        df['timestamp'] = pd.to_datetime(df['timestamp'])\n",
      "        df['hour'] = df['timestamp'].dt.hour\n",
      "        df['day'] = df['timestamp'].dt.date\n",
      "        df['weekday'] = df['timestamp'].dt.weekday\n",
      "        df['month'] = df['timestamp'].dt.month\n",
      "        df['year'] = df['timestamp'].dt.year\n",
      "        df['time_of_day'] = df['timestamp'].dt.strftime(\"%H:%M:%S\")\n",
      "        return df\n",
      "\n",
      "    def get_customers():\n",
      "        customer_df = pd.read_csv('data/customers.csv')\n",
      "        return customer_df\n",
      "\n",
      "    def get_products():\n",
      "        product_df = pd.read_csv('data/products.csv')\n",
      "        return product_df\n",
      "\n",
      "    def join_tables():\n",
      "        df = get_transaction_scores()\n",
      "        customer_df = get_customers()\n",
      "        product_df = get_products()\n",
      "        df = df.merge(customer_df, how='left', left_on=['user_id'], right_on=['user_id'])\n",
      "        df = df.merge(product_df, how='left', left_on=['item_id'], right_on=['item_id'])\n",
      "        return df\n",
      "\n",
      "    def filter_peak_hours():\n",
      "        df = join_tables()\n",
      "        df = df[df['hour'] >= 8]\n",
      "        df = df[df['hour'] <= 10]\n",
      "        return df\n",
      "\n",
      "    def group_by_city_and_product_category():\n",
      "        df = filter_peak_hours()\n",
      "        df = df.groupby(['customer_city','product_category'])['score'].mean().reset_index()\n",
      "        return df\n",
      "\n",
      "    def plot_correlation():\n",
      "        df = group_by_city_and_product_category()\n",
      "        fig, ax = plt.subplots(figsize=(12,6))\n",
      "        sns.barplot(x=\"product_category\", y=\"score\", hue=\"customer_city\", data=df)\n",
      "        plt.show()\n",
      "\n",
      "    if 'What is the correlation' in question:\n",
      "        plot_correlation()\n",
      "    else:\n",
      "        print(\"Invalid question.\")\n",
      "\n",
      "get_function(question)\n"
     ]
    }
   ],
   "source": [
    "# Disable gradient calculation during inference\n",
    "with torch.no_grad():\n",
    "    # Generate text based on the model input\n",
    "    generated_tokens = model.generate(\n",
    "        **model_input,  # Pass model input\n",
    "        max_new_tokens=1024,  # Maximum number of new tokens to generate\n",
    "        repetition_penalty=1.15,  # Repetition penalty to avoid repetition\n",
    "        pad_token_id=eval_tokenizer.eos_token_id  # Set pad token ID\n",
    "    )[0]  # Get the first generated sequence\n",
    "\n",
    "    # Decode the generated tokens into text, skipping special tokens\n",
    "    generated_text = eval_tokenizer.decode(\n",
    "        generated_tokens,  # Generated tokens\n",
    "        skip_special_tokens=True  # Skip special tokens like padding and eos\n",
    "    )\n",
    "\n",
    "    # Print the generated text\n",
    "    print(generated_text)"
   ]
  },
  {
   "cell_type": "markdown",
   "id": "6227277c-16a1-4caa-bc3e-589cdc63e17d",
   "metadata": {},
   "source": [
    "# Setting up LoRA - \"Low Rank Adaptation\""
   ]
  },
  {
   "cell_type": "code",
   "execution_count": 14,
   "id": "761a9bc7-c0e4-4566-b86b-fadd6c157e8c",
   "metadata": {
    "tags": []
   },
   "outputs": [
    {
     "name": "stdout",
     "output_type": "stream",
     "text": [
      "MistralForCausalLM(\n",
      "  (model): MistralModel(\n",
      "    (embed_tokens): Embedding(32000, 4096)\n",
      "    (layers): ModuleList(\n",
      "      (0-31): 32 x MistralDecoderLayer(\n",
      "        (self_attn): MistralAttention(\n",
      "          (q_proj): Linear4bit(in_features=4096, out_features=4096, bias=False)\n",
      "          (k_proj): Linear4bit(in_features=4096, out_features=1024, bias=False)\n",
      "          (v_proj): Linear4bit(in_features=4096, out_features=1024, bias=False)\n",
      "          (o_proj): Linear4bit(in_features=4096, out_features=4096, bias=False)\n",
      "          (rotary_emb): MistralRotaryEmbedding()\n",
      "        )\n",
      "        (mlp): MistralMLP(\n",
      "          (gate_proj): Linear4bit(in_features=4096, out_features=14336, bias=False)\n",
      "          (up_proj): Linear4bit(in_features=4096, out_features=14336, bias=False)\n",
      "          (down_proj): Linear4bit(in_features=14336, out_features=4096, bias=False)\n",
      "          (act_fn): SiLU()\n",
      "        )\n",
      "        (input_layernorm): MistralRMSNorm()\n",
      "        (post_attention_layernorm): MistralRMSNorm()\n",
      "      )\n",
      "    )\n",
      "    (norm): MistralRMSNorm()\n",
      "  )\n",
      "  (lm_head): Linear(in_features=4096, out_features=32000, bias=False)\n",
      ")\n"
     ]
    }
   ],
   "source": [
    "# Import necessary library\n",
    "from peft import prepare_model_for_kbit_training\n",
    "\n",
    "# Enable gradient checkpointing\n",
    "model.gradient_checkpointing_enable()\n",
    "\n",
    "# Prepare the model for k-bit training with LoRA\n",
    "model = prepare_model_for_kbit_training(model)\n",
    "\n",
    "def print_trainable_parameters(model):\n",
    "    \"\"\"\n",
    "    Prints the number of trainable parameters in the model.\n",
    "    \"\"\"\n",
    "    trainable_params = 0\n",
    "    all_param = 0\n",
    "    \n",
    "    # Iterate over model parameters\n",
    "    for _, param in model.named_parameters():\n",
    "        all_param += param.numel()\n",
    "        \n",
    "        # Check if the parameter requires gradient\n",
    "        if param.requires_grad:\n",
    "            trainable_params += param.numel()\n",
    "    \n",
    "    # Print the number of trainable parameters and their percentage\n",
    "    print(\n",
    "        f\"trainable params: {trainable_params} || all params: {all_param} || trainable%: {100 * trainable_params / all_param}\"\n",
    "    )\n",
    "\n",
    "# Call the function to print trainable parameters\n",
    "print_trainable_parameters(model)\n",
    "\n",
    "# Print the model\n",
    "print(model)"
   ]
  },
  {
   "cell_type": "markdown",
   "id": "13c16cc4-3115-4726-8a5f-3990625b19bb",
   "metadata": {},
   "source": [
    "# Defining LoRA Configuration"
   ]
  },
  {
   "cell_type": "code",
   "execution_count": 15,
   "id": "564c93e3-adef-483e-b240-0b7e242e8b61",
   "metadata": {
    "tags": []
   },
   "outputs": [
    {
     "name": "stdout",
     "output_type": "stream",
     "text": [
      "trainable params: 170082304 || all params: 3922153472 || trainable%: 4.336452033664837\n"
     ]
    }
   ],
   "source": [
    "# Import necessary libraries\n",
    "from peft import LoraConfig, get_peft_model\n",
    "\n",
    "# Define LoRA configuration\n",
    "config = LoraConfig(\n",
    "    r=64,                  # Rank parameter\n",
    "    lora_alpha=16,         # Alpha parameter\n",
    "    target_modules=[\n",
    "        \"q_proj\",\n",
    "        \"k_proj\",\n",
    "        \"v_proj\",\n",
    "        \"o_proj\",\n",
    "        \"gate_proj\",\n",
    "        \"up_proj\",\n",
    "        \"down_proj\",\n",
    "        \"lm_head\",\n",
    "    ],                     # Target modules for low-rank adaptation\n",
    "    bias=\"none\",           # Disable bias\n",
    "    lora_dropout=0.05,     # Conventional Dropout rate for LoRA\n",
    "    task_type=\"CAUSAL_LM\", # Task type\n",
    ")\n",
    "\n",
    "# Update the model with LoRA configuration\n",
    "model = get_peft_model(model, config)\n",
    "\n",
    "# Print the number of trainable parameters\n",
    "print_trainable_parameters(model)\n",
    "\n",
    "# Print the model\n",
    "print(model)"
   ]
  },
  {
   "cell_type": "markdown",
   "id": "21f11ddf-5f16-4d4f-acf1-9d77ca61350a",
   "metadata": {},
   "source": [
    "# Enable Parallelisation if Multiple GPUs Available"
   ]
  },
  {
   "cell_type": "code",
   "execution_count": 17,
   "id": "05736c78-8738-4172-8f72-55d18480cbc3",
   "metadata": {
    "tags": []
   },
   "outputs": [],
   "source": [
    "if torch.cuda.device_count() > 1:\n",
    "    \n",
    "    # Enable parallelization\n",
    "    model.is_parallelizable = True\n",
    "    model.model_parallel = True"
   ]
  },
  {
   "cell_type": "markdown",
   "id": "34ac90db-b34e-4d77-b66e-313e9012d990",
   "metadata": {},
   "source": [
    "# Use Accelerator"
   ]
  },
  {
   "cell_type": "code",
   "execution_count": 18,
   "id": "6a7dd845-fb73-459c-ad4b-03efe7bc4f38",
   "metadata": {
    "tags": []
   },
   "outputs": [],
   "source": [
    "model = accelerator.prepare_model(model)"
   ]
  },
  {
   "cell_type": "markdown",
   "id": "de646185-e95e-45ab-8997-eccf25a417a0",
   "metadata": {},
   "source": [
    "# Training model"
   ]
  },
  {
   "cell_type": "code",
   "execution_count": 19,
   "id": "91c0ade8-1155-4939-b450-db65df45cef9",
   "metadata": {
    "tags": []
   },
   "outputs": [
    {
     "name": "stderr",
     "output_type": "stream",
     "text": [
      "You're using a LlamaTokenizerFast tokenizer. Please note that with a fast tokenizer, using the `__call__` method is faster than using a method to encode the text followed by a call to the `pad` method to get a padded encoding.\n"
     ]
    },
    {
     "data": {
      "text/html": [
       "\n",
       "    <div>\n",
       "      \n",
       "      <progress value='500' max='500' style='width:300px; height:20px; vertical-align: middle;'></progress>\n",
       "      [500/500 14:27, Epoch 3/4]\n",
       "    </div>\n",
       "    <table border=\"1\" class=\"dataframe\">\n",
       "  <thead>\n",
       " <tr style=\"text-align: left;\">\n",
       "      <th>Step</th>\n",
       "      <th>Training Loss</th>\n",
       "      <th>Validation Loss</th>\n",
       "    </tr>\n",
       "  </thead>\n",
       "  <tbody>\n",
       "    <tr>\n",
       "      <td>25</td>\n",
       "      <td>0.832600</td>\n",
       "      <td>0.366647</td>\n",
       "    </tr>\n",
       "    <tr>\n",
       "      <td>50</td>\n",
       "      <td>0.260800</td>\n",
       "      <td>0.214074</td>\n",
       "    </tr>\n",
       "    <tr>\n",
       "      <td>75</td>\n",
       "      <td>0.202300</td>\n",
       "      <td>0.193150</td>\n",
       "    </tr>\n",
       "    <tr>\n",
       "      <td>100</td>\n",
       "      <td>0.179300</td>\n",
       "      <td>0.179275</td>\n",
       "    </tr>\n",
       "    <tr>\n",
       "      <td>125</td>\n",
       "      <td>0.177500</td>\n",
       "      <td>0.171954</td>\n",
       "    </tr>\n",
       "    <tr>\n",
       "      <td>150</td>\n",
       "      <td>0.179300</td>\n",
       "      <td>0.167746</td>\n",
       "    </tr>\n",
       "    <tr>\n",
       "      <td>175</td>\n",
       "      <td>0.150200</td>\n",
       "      <td>0.163398</td>\n",
       "    </tr>\n",
       "    <tr>\n",
       "      <td>200</td>\n",
       "      <td>0.140300</td>\n",
       "      <td>0.160591</td>\n",
       "    </tr>\n",
       "    <tr>\n",
       "      <td>225</td>\n",
       "      <td>0.121200</td>\n",
       "      <td>0.160815</td>\n",
       "    </tr>\n",
       "    <tr>\n",
       "      <td>250</td>\n",
       "      <td>0.141100</td>\n",
       "      <td>0.158014</td>\n",
       "    </tr>\n",
       "    <tr>\n",
       "      <td>275</td>\n",
       "      <td>0.150500</td>\n",
       "      <td>0.156851</td>\n",
       "    </tr>\n",
       "    <tr>\n",
       "      <td>300</td>\n",
       "      <td>0.139500</td>\n",
       "      <td>0.154924</td>\n",
       "    </tr>\n",
       "    <tr>\n",
       "      <td>325</td>\n",
       "      <td>0.141100</td>\n",
       "      <td>0.152879</td>\n",
       "    </tr>\n",
       "    <tr>\n",
       "      <td>350</td>\n",
       "      <td>0.117100</td>\n",
       "      <td>0.153161</td>\n",
       "    </tr>\n",
       "    <tr>\n",
       "      <td>375</td>\n",
       "      <td>0.100500</td>\n",
       "      <td>0.153014</td>\n",
       "    </tr>\n",
       "    <tr>\n",
       "      <td>400</td>\n",
       "      <td>0.120500</td>\n",
       "      <td>0.151446</td>\n",
       "    </tr>\n",
       "    <tr>\n",
       "      <td>425</td>\n",
       "      <td>0.109900</td>\n",
       "      <td>0.152020</td>\n",
       "    </tr>\n",
       "    <tr>\n",
       "      <td>450</td>\n",
       "      <td>0.113900</td>\n",
       "      <td>0.151816</td>\n",
       "    </tr>\n",
       "    <tr>\n",
       "      <td>475</td>\n",
       "      <td>0.105800</td>\n",
       "      <td>0.151485</td>\n",
       "    </tr>\n",
       "    <tr>\n",
       "      <td>500</td>\n",
       "      <td>0.110900</td>\n",
       "      <td>0.150847</td>\n",
       "    </tr>\n",
       "  </tbody>\n",
       "</table><p>"
      ],
      "text/plain": [
       "<IPython.core.display.HTML object>"
      ]
     },
     "metadata": {},
     "output_type": "display_data"
    },
    {
     "name": "stderr",
     "output_type": "stream",
     "text": [
      "/home/jovyan/LLM_CRM_PERSO/.venv/lib/python3.10/site-packages/peft/utils/save_and_load.py:139: UserWarning: Setting `save_embedding_layers` to `True` as embedding layers found in `target_modules`.\n",
      "  warnings.warn(\"Setting `save_embedding_layers` to `True` as embedding layers found in `target_modules`.\")\n",
      "/home/jovyan/LLM_CRM_PERSO/.venv/lib/python3.10/site-packages/peft/utils/save_and_load.py:139: UserWarning: Setting `save_embedding_layers` to `True` as embedding layers found in `target_modules`.\n",
      "  warnings.warn(\"Setting `save_embedding_layers` to `True` as embedding layers found in `target_modules`.\")\n",
      "/home/jovyan/LLM_CRM_PERSO/.venv/lib/python3.10/site-packages/peft/utils/save_and_load.py:139: UserWarning: Setting `save_embedding_layers` to `True` as embedding layers found in `target_modules`.\n",
      "  warnings.warn(\"Setting `save_embedding_layers` to `True` as embedding layers found in `target_modules`.\")\n",
      "/home/jovyan/LLM_CRM_PERSO/.venv/lib/python3.10/site-packages/peft/utils/save_and_load.py:139: UserWarning: Setting `save_embedding_layers` to `True` as embedding layers found in `target_modules`.\n",
      "  warnings.warn(\"Setting `save_embedding_layers` to `True` as embedding layers found in `target_modules`.\")\n",
      "/home/jovyan/LLM_CRM_PERSO/.venv/lib/python3.10/site-packages/peft/utils/save_and_load.py:139: UserWarning: Setting `save_embedding_layers` to `True` as embedding layers found in `target_modules`.\n",
      "  warnings.warn(\"Setting `save_embedding_layers` to `True` as embedding layers found in `target_modules`.\")\n",
      "/home/jovyan/LLM_CRM_PERSO/.venv/lib/python3.10/site-packages/peft/utils/save_and_load.py:139: UserWarning: Setting `save_embedding_layers` to `True` as embedding layers found in `target_modules`.\n",
      "  warnings.warn(\"Setting `save_embedding_layers` to `True` as embedding layers found in `target_modules`.\")\n",
      "/home/jovyan/LLM_CRM_PERSO/.venv/lib/python3.10/site-packages/peft/utils/save_and_load.py:139: UserWarning: Setting `save_embedding_layers` to `True` as embedding layers found in `target_modules`.\n",
      "  warnings.warn(\"Setting `save_embedding_layers` to `True` as embedding layers found in `target_modules`.\")\n",
      "/home/jovyan/LLM_CRM_PERSO/.venv/lib/python3.10/site-packages/peft/utils/save_and_load.py:139: UserWarning: Setting `save_embedding_layers` to `True` as embedding layers found in `target_modules`.\n",
      "  warnings.warn(\"Setting `save_embedding_layers` to `True` as embedding layers found in `target_modules`.\")\n",
      "/home/jovyan/LLM_CRM_PERSO/.venv/lib/python3.10/site-packages/peft/utils/save_and_load.py:139: UserWarning: Setting `save_embedding_layers` to `True` as embedding layers found in `target_modules`.\n",
      "  warnings.warn(\"Setting `save_embedding_layers` to `True` as embedding layers found in `target_modules`.\")\n",
      "/home/jovyan/LLM_CRM_PERSO/.venv/lib/python3.10/site-packages/peft/utils/save_and_load.py:139: UserWarning: Setting `save_embedding_layers` to `True` as embedding layers found in `target_modules`.\n",
      "  warnings.warn(\"Setting `save_embedding_layers` to `True` as embedding layers found in `target_modules`.\")\n",
      "/home/jovyan/LLM_CRM_PERSO/.venv/lib/python3.10/site-packages/peft/utils/save_and_load.py:139: UserWarning: Setting `save_embedding_layers` to `True` as embedding layers found in `target_modules`.\n",
      "  warnings.warn(\"Setting `save_embedding_layers` to `True` as embedding layers found in `target_modules`.\")\n",
      "/home/jovyan/LLM_CRM_PERSO/.venv/lib/python3.10/site-packages/peft/utils/save_and_load.py:139: UserWarning: Setting `save_embedding_layers` to `True` as embedding layers found in `target_modules`.\n",
      "  warnings.warn(\"Setting `save_embedding_layers` to `True` as embedding layers found in `target_modules`.\")\n",
      "/home/jovyan/LLM_CRM_PERSO/.venv/lib/python3.10/site-packages/peft/utils/save_and_load.py:139: UserWarning: Setting `save_embedding_layers` to `True` as embedding layers found in `target_modules`.\n",
      "  warnings.warn(\"Setting `save_embedding_layers` to `True` as embedding layers found in `target_modules`.\")\n",
      "/home/jovyan/LLM_CRM_PERSO/.venv/lib/python3.10/site-packages/peft/utils/save_and_load.py:139: UserWarning: Setting `save_embedding_layers` to `True` as embedding layers found in `target_modules`.\n",
      "  warnings.warn(\"Setting `save_embedding_layers` to `True` as embedding layers found in `target_modules`.\")\n",
      "/home/jovyan/LLM_CRM_PERSO/.venv/lib/python3.10/site-packages/peft/utils/save_and_load.py:139: UserWarning: Setting `save_embedding_layers` to `True` as embedding layers found in `target_modules`.\n",
      "  warnings.warn(\"Setting `save_embedding_layers` to `True` as embedding layers found in `target_modules`.\")\n",
      "/home/jovyan/LLM_CRM_PERSO/.venv/lib/python3.10/site-packages/peft/utils/save_and_load.py:139: UserWarning: Setting `save_embedding_layers` to `True` as embedding layers found in `target_modules`.\n",
      "  warnings.warn(\"Setting `save_embedding_layers` to `True` as embedding layers found in `target_modules`.\")\n",
      "/home/jovyan/LLM_CRM_PERSO/.venv/lib/python3.10/site-packages/peft/utils/save_and_load.py:139: UserWarning: Setting `save_embedding_layers` to `True` as embedding layers found in `target_modules`.\n",
      "  warnings.warn(\"Setting `save_embedding_layers` to `True` as embedding layers found in `target_modules`.\")\n",
      "/home/jovyan/LLM_CRM_PERSO/.venv/lib/python3.10/site-packages/peft/utils/save_and_load.py:139: UserWarning: Setting `save_embedding_layers` to `True` as embedding layers found in `target_modules`.\n",
      "  warnings.warn(\"Setting `save_embedding_layers` to `True` as embedding layers found in `target_modules`.\")\n",
      "/home/jovyan/LLM_CRM_PERSO/.venv/lib/python3.10/site-packages/peft/utils/save_and_load.py:139: UserWarning: Setting `save_embedding_layers` to `True` as embedding layers found in `target_modules`.\n",
      "  warnings.warn(\"Setting `save_embedding_layers` to `True` as embedding layers found in `target_modules`.\")\n",
      "/home/jovyan/LLM_CRM_PERSO/.venv/lib/python3.10/site-packages/peft/utils/save_and_load.py:139: UserWarning: Setting `save_embedding_layers` to `True` as embedding layers found in `target_modules`.\n",
      "  warnings.warn(\"Setting `save_embedding_layers` to `True` as embedding layers found in `target_modules`.\")\n"
     ]
    },
    {
     "data": {
      "text/plain": [
       "TrainOutput(global_step=500, training_loss=0.17971011972427367, metrics={'train_runtime': 868.944, 'train_samples_per_second': 1.151, 'train_steps_per_second': 0.575, 'total_flos': 4.45986826616832e+16, 'train_loss': 0.17971011972427367, 'epoch': 3.03})"
      ]
     },
     "execution_count": 19,
     "metadata": {},
     "output_type": "execute_result"
    }
   ],
   "source": [
    "##### WARNING #####\n",
    "# Ignore the below warning probably generated by the data_collator\n",
    "# You're using a LlamaTokenizerFast tokenizer. \n",
    "# Please note that with a fast tokenizer, using the `__call__` method is faster than using a method to encode the text followed by a call to the `pad` method to get a padded encoding.\n",
    "#\n",
    "# Ignore the below warning based on the Lora config setup.\n",
    "# UserWarning: Setting `save_embedding_layers` to `True` as embedding layers found in `target_modules`.\n",
    "#  warnings.warn(\"Setting `save_embedding_layers` to `True` as embedding layers found in `target_modules`.\")\n",
    "##### ####### #####\n",
    "\n",
    "# Import necessary libraries\n",
    "import transformers\n",
    "from datetime import datetime\n",
    "import shutil\n",
    "import os\n",
    "\n",
    "# Define iteration string, project name, base model name, and run name\n",
    "iter_str = \"01\"\n",
    "project = \"finetune\"\n",
    "base_model_name = \"mistral\"\n",
    "run_name = iter_str + \"-\" + project + \"-\" + base_model_name\n",
    "output_dir = \"../models/\" + run_name\n",
    "\n",
    "# Remove output directory if it exists\n",
    "if os.path.exists(output_dir):\n",
    "    shutil.rmtree(output_dir)\n",
    "\n",
    "# Initialize the Trainer\n",
    "trainer = transformers.Trainer(\n",
    "    model=model,\n",
    "    train_dataset=tokenized_train_dataset,\n",
    "    eval_dataset=tokenized_val_dataset,\n",
    "    args=transformers.TrainingArguments(\n",
    "        output_dir=output_dir,\n",
    "        warmup_steps=1,\n",
    "        per_device_train_batch_size=2,\n",
    "        gradient_accumulation_steps=1,\n",
    "        gradient_checkpointing=True,\n",
    "        gradient_checkpointing_kwargs={\"use_reentrant\":True},\n",
    "        max_steps=500,\n",
    "        learning_rate=2.5e-5,                                              # Want a small lr for finetuning\n",
    "        bf16=True,\n",
    "        optim=\"paged_adamw_8bit\",\n",
    "        logging_steps=25,                                                  # When to start reporting loss\n",
    "        logging_dir=\"./logs\",                                              # Directory for storing logs\n",
    "        save_strategy=\"steps\",                                             # Save the model checkpoint every logging step\n",
    "        save_steps=25,                                                     # Save checkpoints every 25 steps\n",
    "        evaluation_strategy=\"steps\",                                       # Evaluate the model every logging step\n",
    "        eval_steps=25,                                                     # Evaluate and save checkpoints every 25 steps\n",
    "        do_eval=True,                                                      # Perform evaluation at the end of training\n",
    "        report_to=\"wandb\",                                                 # Comment this out if you don't want to use weights & baises\n",
    "        run_name=f\"{run_name}-{datetime.now().strftime('%Y-%m-%d-%H-%M')}\" # Name of the W&B run (optional)\n",
    "    ),\n",
    "    data_collator=transformers.DataCollatorForLanguageModeling(\n",
    "        tokenizer, \n",
    "        mlm=False\n",
    "    ),\n",
    ")\n",
    "\n",
    "# Disable cache\n",
    "model.config.use_cache = False                                             # silence the warnings. Please re-enable for inference!\n",
    "\n",
    "# Start model training\n",
    "trainer.train()"
   ]
  },
  {
   "cell_type": "markdown",
   "id": "f6b2807b-58f6-4242-8464-58c4c136d338",
   "metadata": {},
   "source": [
    "# Loading Base Model for Inference"
   ]
  },
  {
   "cell_type": "code",
   "execution_count": 20,
   "id": "6030559b-f7da-4d27-ba5a-f0176d587a3a",
   "metadata": {},
   "outputs": [
    {
     "data": {
      "application/vnd.jupyter.widget-view+json": {
       "model_id": "3d9e9e7741e4412f846ee8b547e1a97b",
       "version_major": 2,
       "version_minor": 0
      },
      "text/plain": [
       "Loading checkpoint shards:   0%|          | 0/2 [00:00<?, ?it/s]"
      ]
     },
     "metadata": {},
     "output_type": "display_data"
    }
   ],
   "source": [
    "# Import necessary libraries\n",
    "import torch\n",
    "from transformers import (\n",
    "    AutoTokenizer, \n",
    "    AutoModelForCausalLM, \n",
    "    BitsAndBytesConfig\n",
    ")\n",
    "\n",
    "# Define Mistral's pretrained model ID\n",
    "base_model_id = \"mistralai/Mistral-7B-v0.1\"\n",
    "\n",
    "# Define BitsAndBytesConfig for Mistral's model\n",
    "bnb_config = BitsAndBytesConfig(\n",
    "    load_in_4bit=True,\n",
    "    bnb_4bit_use_double_quant=True,\n",
    "    bnb_4bit_quant_type=\"nf4\",\n",
    "    bnb_4bit_compute_dtype=torch.bfloat16\n",
    ")\n",
    "\n",
    "# Load Mistral's pretrained model for causal language modeling\n",
    "base_model = AutoModelForCausalLM.from_pretrained(\n",
    "    base_model_id, \n",
    "    quantization_config=bnb_config, \n",
    "    device_map=\"auto\"\n",
    ")\n",
    "\n",
    "# Load Mistral's tokenizer\n",
    "eval_tokenizer = AutoTokenizer.from_pretrained(\n",
    "    base_model_id, \n",
    "    add_bos_token=True,     # Add beginning-of-sequence token\n",
    "    trust_remote_code=True  # Trust remote code for tokenization\n",
    ")"
   ]
  },
  {
   "cell_type": "markdown",
   "id": "885fb57a-123e-4b9f-b2c0-5710b5546831",
   "metadata": {},
   "source": [
    "# Loading Fine-Tuned Model from Checkpoint"
   ]
  },
  {
   "cell_type": "code",
   "execution_count": 21,
   "id": "ad4002f2-c936-474b-a6b6-ed411b0cd916",
   "metadata": {
    "tags": []
   },
   "outputs": [],
   "source": [
    "from peft import PeftModel\n",
    "\n",
    "# Load the weights from the checkpoint directory\n",
    "ft_model = PeftModel.from_pretrained(base_model, \"../models/01-finetune-mistral/checkpoint-150\")"
   ]
  },
  {
   "cell_type": "markdown",
   "id": "768a45c7-83ba-4f80-9ceb-7f806e85f86b",
   "metadata": {},
   "source": [
    "# Loading Datasets and Setting Up Evaluation"
   ]
  },
  {
   "cell_type": "code",
   "execution_count": 22,
   "id": "44767a88-2a29-40a7-b95a-3e158711f5b2",
   "metadata": {
    "tags": []
   },
   "outputs": [
    {
     "data": {
      "text/plain": [
       "PeftModelForCausalLM(\n",
       "  (base_model): LoraModel(\n",
       "    (model): MistralForCausalLM(\n",
       "      (model): MistralModel(\n",
       "        (embed_tokens): Embedding(32000, 4096)\n",
       "        (layers): ModuleList(\n",
       "          (0-31): 32 x MistralDecoderLayer(\n",
       "            (self_attn): MistralAttention(\n",
       "              (q_proj): lora.Linear4bit(\n",
       "                (base_layer): Linear4bit(in_features=4096, out_features=4096, bias=False)\n",
       "                (lora_dropout): ModuleDict(\n",
       "                  (default): Dropout(p=0.05, inplace=False)\n",
       "                )\n",
       "                (lora_A): ModuleDict(\n",
       "                  (default): Linear(in_features=4096, out_features=64, bias=False)\n",
       "                )\n",
       "                (lora_B): ModuleDict(\n",
       "                  (default): Linear(in_features=64, out_features=4096, bias=False)\n",
       "                )\n",
       "                (lora_embedding_A): ParameterDict()\n",
       "                (lora_embedding_B): ParameterDict()\n",
       "              )\n",
       "              (k_proj): lora.Linear4bit(\n",
       "                (base_layer): Linear4bit(in_features=4096, out_features=1024, bias=False)\n",
       "                (lora_dropout): ModuleDict(\n",
       "                  (default): Dropout(p=0.05, inplace=False)\n",
       "                )\n",
       "                (lora_A): ModuleDict(\n",
       "                  (default): Linear(in_features=4096, out_features=64, bias=False)\n",
       "                )\n",
       "                (lora_B): ModuleDict(\n",
       "                  (default): Linear(in_features=64, out_features=1024, bias=False)\n",
       "                )\n",
       "                (lora_embedding_A): ParameterDict()\n",
       "                (lora_embedding_B): ParameterDict()\n",
       "              )\n",
       "              (v_proj): lora.Linear4bit(\n",
       "                (base_layer): Linear4bit(in_features=4096, out_features=1024, bias=False)\n",
       "                (lora_dropout): ModuleDict(\n",
       "                  (default): Dropout(p=0.05, inplace=False)\n",
       "                )\n",
       "                (lora_A): ModuleDict(\n",
       "                  (default): Linear(in_features=4096, out_features=64, bias=False)\n",
       "                )\n",
       "                (lora_B): ModuleDict(\n",
       "                  (default): Linear(in_features=64, out_features=1024, bias=False)\n",
       "                )\n",
       "                (lora_embedding_A): ParameterDict()\n",
       "                (lora_embedding_B): ParameterDict()\n",
       "              )\n",
       "              (o_proj): lora.Linear4bit(\n",
       "                (base_layer): Linear4bit(in_features=4096, out_features=4096, bias=False)\n",
       "                (lora_dropout): ModuleDict(\n",
       "                  (default): Dropout(p=0.05, inplace=False)\n",
       "                )\n",
       "                (lora_A): ModuleDict(\n",
       "                  (default): Linear(in_features=4096, out_features=64, bias=False)\n",
       "                )\n",
       "                (lora_B): ModuleDict(\n",
       "                  (default): Linear(in_features=64, out_features=4096, bias=False)\n",
       "                )\n",
       "                (lora_embedding_A): ParameterDict()\n",
       "                (lora_embedding_B): ParameterDict()\n",
       "              )\n",
       "              (rotary_emb): MistralRotaryEmbedding()\n",
       "            )\n",
       "            (mlp): MistralMLP(\n",
       "              (gate_proj): lora.Linear4bit(\n",
       "                (base_layer): Linear4bit(in_features=4096, out_features=14336, bias=False)\n",
       "                (lora_dropout): ModuleDict(\n",
       "                  (default): Dropout(p=0.05, inplace=False)\n",
       "                )\n",
       "                (lora_A): ModuleDict(\n",
       "                  (default): Linear(in_features=4096, out_features=64, bias=False)\n",
       "                )\n",
       "                (lora_B): ModuleDict(\n",
       "                  (default): Linear(in_features=64, out_features=14336, bias=False)\n",
       "                )\n",
       "                (lora_embedding_A): ParameterDict()\n",
       "                (lora_embedding_B): ParameterDict()\n",
       "              )\n",
       "              (up_proj): lora.Linear4bit(\n",
       "                (base_layer): Linear4bit(in_features=4096, out_features=14336, bias=False)\n",
       "                (lora_dropout): ModuleDict(\n",
       "                  (default): Dropout(p=0.05, inplace=False)\n",
       "                )\n",
       "                (lora_A): ModuleDict(\n",
       "                  (default): Linear(in_features=4096, out_features=64, bias=False)\n",
       "                )\n",
       "                (lora_B): ModuleDict(\n",
       "                  (default): Linear(in_features=64, out_features=14336, bias=False)\n",
       "                )\n",
       "                (lora_embedding_A): ParameterDict()\n",
       "                (lora_embedding_B): ParameterDict()\n",
       "              )\n",
       "              (down_proj): lora.Linear4bit(\n",
       "                (base_layer): Linear4bit(in_features=14336, out_features=4096, bias=False)\n",
       "                (lora_dropout): ModuleDict(\n",
       "                  (default): Dropout(p=0.05, inplace=False)\n",
       "                )\n",
       "                (lora_A): ModuleDict(\n",
       "                  (default): Linear(in_features=14336, out_features=64, bias=False)\n",
       "                )\n",
       "                (lora_B): ModuleDict(\n",
       "                  (default): Linear(in_features=64, out_features=4096, bias=False)\n",
       "                )\n",
       "                (lora_embedding_A): ParameterDict()\n",
       "                (lora_embedding_B): ParameterDict()\n",
       "              )\n",
       "              (act_fn): SiLU()\n",
       "            )\n",
       "            (input_layernorm): MistralRMSNorm()\n",
       "            (post_attention_layernorm): MistralRMSNorm()\n",
       "          )\n",
       "        )\n",
       "        (norm): MistralRMSNorm()\n",
       "      )\n",
       "      (lm_head): lora.Linear(\n",
       "        (base_layer): Linear(in_features=4096, out_features=32000, bias=False)\n",
       "        (lora_dropout): ModuleDict(\n",
       "          (default): Dropout(p=0.05, inplace=False)\n",
       "        )\n",
       "        (lora_A): ModuleDict(\n",
       "          (default): Linear(in_features=4096, out_features=64, bias=False)\n",
       "        )\n",
       "        (lora_B): ModuleDict(\n",
       "          (default): Linear(in_features=64, out_features=32000, bias=False)\n",
       "        )\n",
       "        (lora_embedding_A): ParameterDict()\n",
       "        (lora_embedding_B): ParameterDict()\n",
       "      )\n",
       "    )\n",
       "  )\n",
       ")"
      ]
     },
     "execution_count": 22,
     "metadata": {},
     "output_type": "execute_result"
    }
   ],
   "source": [
    "from datasets import load_dataset\n",
    "\n",
    "# Load training, validation, and test datasets\n",
    "train_dataset = load_dataset('json', data_files='../data/train_CRM_data.json', split='train')\n",
    "eval_dataset = load_dataset('json', data_files='../data/val_CRM_data.json', split='train')\n",
    "test_dataset = load_dataset('json', data_files='../data/test_CRM_data.json', split='train')\n",
    "\n",
    "# Formatting prompts\n",
    "def formatting_func(message):\n",
    "    \"\"\"\n",
    "    Formats a message containing question, context, and answer into a structured text format.\n",
    "\n",
    "    Args:\n",
    "        message (list): A list containing dictionaries for question, context, and answer.\n",
    "\n",
    "    Returns:\n",
    "        str: Formatted text containing the question, context, and answer.\n",
    "    \"\"\"\n",
    "    \n",
    "    # Extracting question, context, and answer from the message\n",
    "    question = message[1]['content']\n",
    "    context = message[0]['content']\n",
    "    answer = message[2]['content']\n",
    "\n",
    "    # Formatting the extracted information into text format\n",
    "    text_format = f\"\"\"\n",
    "### Question: {question}\n",
    "\n",
    "### Context: {context}\n",
    "### Answer: \n",
    "{answer}\n",
    "    \"\"\"\n",
    "\n",
    "    return text_format.strip()\n",
    "\n",
    "# check base model performance\n",
    "prompt = formatting_func(eval_dataset[0]['messages'])\n",
    "\n",
    "# Find the index of \"### Answer:\"\n",
    "index_answer = prompt.find(\"### Answer:\")\n",
    "\n",
    "# Extract the string up to \"### Answer:\"\n",
    "eval_prompt = prompt[:index_answer + len(\"### Answer:\")].strip()\n",
    "\n",
    "# Init an eval tokenizer that doesn't add padding or eos token\n",
    "eval_tokenizer = AutoTokenizer.from_pretrained(\n",
    "    base_model_id,\n",
    "    add_bos_token=True,\n",
    ")\n",
    "\n",
    "# Tokenize the evaluation prompt and prepare model input for inference\n",
    "model_input = eval_tokenizer(\n",
    "    eval_prompt, \n",
    "    return_tensors=\"pt\"\n",
    ").to(\"cuda\")  # Move tensors to GPU if available\n",
    "\n",
    "# Set the model to evaluation mode\n",
    "ft_model.eval()"
   ]
  },
  {
   "cell_type": "markdown",
   "id": "03fa5039-ad62-4b4e-9258-0ca75ef0d220",
   "metadata": {},
   "source": [
    "# Generating Text with Fine-Tuned Model"
   ]
  },
  {
   "cell_type": "code",
   "execution_count": 23,
   "id": "5d65ff34-0511-464a-abb2-e72e45530c97",
   "metadata": {
    "tags": []
   },
   "outputs": [
    {
     "name": "stdout",
     "output_type": "stream",
     "text": [
      "### Question: What is the correlation between transaction scores and customer city, as well as product category during peak hours, specifically from 8 AM to 10 AM?\n",
      "\n",
      "### Context: \n",
      "You are a Python function generator. Users will ask you questions in English, \n",
      "and you will produce a Python function as answer to the question based on the provided CONTEXT.\n",
      "\n",
      "CONTEXT:\n",
      "Pandas DataFrame df containing transaction data with columns order_id, user_id, item_id, timestamp, score.\n",
      "order_id takes string datatype and identifies the order.\n",
      "user_id takes string datatype and identifies the customer.\n",
      "item_id takes string datatype that identifies the product.\n",
      "timestamp takes timestamp datatype and represents the datetimestamp of transaction.\n",
      "score takes float datatype and represents the score of the transaction.\n",
      "Note that a customer can make multiple transactions for a product but the customer product pair will be just one entry for each order.\n",
      "Pandas DataFrame customer_dfcontaining customer data with columns user_id, customer_city.\n",
      "user_id takes string datatype and identifies the customer.\n",
      "customer_city takes string datatype and represents the city where the customer resides.\n",
      "Note that df can be joined with customer_df on user_id.\n",
      "Pandas DataFrame product_dfcontaining product data with columns item_id, product_category.\n",
      "item_id takes string datatype that identifies the product.\n",
      "product_category takes string datatype and represents the product category in the product hierarchy.\n",
      "Note that df can be joined with product_df on item_id.\n",
      "\n",
      "### Answer: \n",
      "def correlate_transaction_scores(df, customer_df, product_df, time_window=pd.Timedelta('8h')):\\n    merged_df = pd.merge(df, customer_df, on='user_id')\\n    merged_df = pd.merge(merged_df, product_df, on='item_id')\\n    merged_df['time'] = merged_df['timestamp'].dt.hour\\n    filtered_df = merged_df[(merged_df['time'] >= 8) & (merged_df['time'] < 10)]\\n    return filtered_df[['customer_city', 'product_category', 'score']].corr()\\n\n",
      "print(correlate_transaction_scores(df, customer_df, product_df))\n",
      "\n",
      "### Explanation: \n",
      "This Python function answers the question by calculating the correlation between transaction scores and customer city, as well as product category during peak hours, specifically from 8 AM to 10 AM. The function takes Pandas DataFrames representing transaction data, customer data, and product data as input.\\n\\nThe function first merges the transaction data with customer data using the user ID column and then merges it with product data using the item ID column. It then extracts the hour of the day from the timestamp column and filters out transactions occurring within the specified time window of 8 AM to 10 AM. Finally, it returns the correlation matrix between customer city, product category, and transaction scores during this time period.\\n\\nNote that the function assumes that the transaction data contains information about the customer's city and product category. If these details are not available in the transaction data, they should be added before running the function.\\n\\nHere's an example usage of the function:\\n\\n```python\\nimport pandas as pd\\ndf = pd.DataFrame(\\n    {'order_id': ['o1', 'o2', 'o3'], 'user_id': ['u1', 'u2', 'u3'], 'item_id': ['p1', 'p2', 'p3'], 'timestamp': ['2023-05-01 09:00:00', '2023-05-01 10:00:00', '2023-05-01 11:00:00'], 'score': [4.5, 3.7, 2.8]}\\n)\\ncustomer_df = pd.DataFrame(\\n    {'user_id': ['u1', 'u2', 'u3'], 'customer_city': ['New York', 'London', 'Paris']}\\n)\\nproduct_df = pd.DataFrame(\\n    {'item_id': ['p1', 'p2', 'p3'], 'product_category': ['Electronics', 'Fashion', 'Home Decor']}\\n)\\ncorrelation_matrix = correlate_transaction_scores(df, customer_df, product_df)\\nprint(correlation_matrix)\\n```\\nThis code creates sample transaction data, customer data, and product data and passes them to the function. The output of the function is a correlation matrix showing the relationship between customer city, product category, and transaction scores during peak hours.\\n\\nIn summary, the Python function provides a way to analyze the correlation between transaction scores and customer city, as well as product category during peak hours, which can help identify trends or patterns in customer behavior and product performance.\\n\n"
     ]
    }
   ],
   "source": [
    "# Disable gradient calculation during inference\n",
    "with torch.no_grad():\n",
    "    # Generate text based on the model input\n",
    "    generated_tokens = ft_model.generate(\n",
    "        **model_input,  # Pass model input\n",
    "        max_new_tokens=1024,  # Maximum number of new tokens to generate\n",
    "        repetition_penalty=1.15,  # Repetition penalty to avoid repetition\n",
    "        pad_token_id=eval_tokenizer.eos_token_id  # Set pad token ID\n",
    "    )[0]  # Get the first generated sequence\n",
    "\n",
    "    # Decode the generated tokens into text, skipping special tokens\n",
    "    generated_text = eval_tokenizer.decode(\n",
    "        generated_tokens,  # Generated tokens\n",
    "        skip_special_tokens=True  # Skip special tokens like padding and eos\n",
    "    )\n",
    "\n",
    "    # Print the generated text\n",
    "    print(generated_text)"
   ]
  },
  {
   "cell_type": "markdown",
   "id": "94d2c834-536d-49b6-914b-2c3e78610f70",
   "metadata": {},
   "source": [
    "# Comparing Generated and Original Solutions"
   ]
  },
  {
   "cell_type": "code",
   "execution_count": 24,
   "id": "c87a52a8-2f9c-4ef0-b764-a8f6e7ee7bb4",
   "metadata": {
    "tags": []
   },
   "outputs": [
    {
     "name": "stdout",
     "output_type": "stream",
     "text": [
      "### Answer: \n",
      "def correlate_score_with_category_and_peak_hours(df, customer_df, product_df, peak_hours=[8, 9, 10]):\\n    df = pd.merge(df, customer_df, on='user_id', how='left')\\n    df = pd.merge(df, product_df, on='item_id', how='left')\\n    peak_hour_transactions = df[df['timestamp'].dt.hour.isin(peak_hours)]\\n    city_scores = peak_hour_transactions.groupby('customer_city')['score'].mean()\\n    category_scores = peak_hour_transactions.groupby('product_category')['score'].mean()\\n    city_correlation = peak_hour_transactions.groupby('customer_city')['score'].corr(city_scores)\\n    category_correlation = peak_hour_transactions.groupby('product_category')['score'].corr(category_scores)\\n    return city_correlation, category_correlation\\n\n"
     ]
    }
   ],
   "source": [
    "print(prompt[index_answer:].strip()) ### Original solution - Ground truth"
   ]
  },
  {
   "cell_type": "code",
   "execution_count": 25,
   "id": "75710583-c1e0-496f-b714-f36b7300c8eb",
   "metadata": {
    "tags": []
   },
   "outputs": [
    {
     "name": "stdout",
     "output_type": "stream",
     "text": [
      "Generated Solution:\n",
      "\n",
      "def correlate_transaction_scores(df, customer_df, product_df):\n",
      "    merged_df = pd.merge(df, customer_df, on='user_id')\n",
      "    merged_df = pd.merge(merged_df, product_df, on='item_id')\n",
      "    merged_df['hour'] = merged_df['timestamp'].dt.hour\n",
      "    hourly_transactions = merged_df[merged_df['hour'] >= 8]\n",
      "    hourly_transactions['peak_hours'] = (hourly_transactions['hour'] >= 8) & (hourly_transactions['hour'] < 10)\n",
      "    if 'peak_hours' not in hourly_transactions.columns:\n",
      "        hourly_transactions['peak_hours'] = False\n",
      "    return hourly_transactions.groupby(['customer_city', 'product_category', 'peak_hours'])['score'].mean().unstack()\n",
      "\n",
      "correlate_transaction_scores(df, customer_df, product_df).plot(kind='bar', stacked=True, figsize=(12, 6))\n",
      "plt.title('Correlation Between Transaction Scores and Customer City/Product Category During Peak Hours')\n",
      "plt.xlabel('Customer City/Product Category')\n",
      "plt.ylabel('Average Score')\n",
      "plt.legend(loc='best')\n",
      "plt.show()\n"
     ]
    }
   ],
   "source": [
    "print(\"Generated Solution:\\n\")\n",
    "print(\"\"\"def correlate_transaction_scores(df, customer_df, product_df):\\n    merged_df = pd.merge(df, customer_df, on='user_id')\\n    merged_df = pd.merge(merged_df, product_df, on='item_id')\\n    merged_df['hour'] = merged_df['timestamp'].dt.hour\\n    hourly_transactions = merged_df[merged_df['hour'] >= 8]\\n    hourly_transactions['peak_hours'] = (hourly_transactions['hour'] >= 8) & (hourly_transactions['hour'] < 10)\\n    if 'peak_hours' not in hourly_transactions.columns:\\n        hourly_transactions['peak_hours'] = False\\n    return hourly_transactions.groupby(['customer_city', 'product_category', 'peak_hours'])['score'].mean().unstack()\\n\n",
    "correlate_transaction_scores(df, customer_df, product_df).plot(kind='bar', stacked=True, figsize=(12, 6))\\nplt.title('Correlation Between Transaction Scores and Customer City/Product Category During Peak Hours')\\nplt.xlabel('Customer City/Product Category')\\nplt.ylabel('Average Score')\\nplt.legend(loc='best')\\nplt.show()\"\"\")"
   ]
  },
  {
   "cell_type": "code",
   "execution_count": 26,
   "id": "a63b6ca2-f073-403f-9cee-5e2659c228b0",
   "metadata": {
    "tags": []
   },
   "outputs": [
    {
     "name": "stdout",
     "output_type": "stream",
     "text": [
      "Original Solution:\n",
      "\n",
      "def correlate_score_with_category_and_peak_hours(df, customer_df, product_df, peak_hours=[8, 9, 10]):\n",
      "    df = pd.merge(df, customer_df, on='user_id', how='left')\n",
      "    df = pd.merge(df, product_df, on='item_id', how='left')\n",
      "    peak_hour_transactions = df[df['timestamp'].dt.hour.isin(peak_hours)]\n",
      "    city_scores = peak_hour_transactions.groupby('customer_city')['score'].mean()\n",
      "    category_scores = peak_hour_transactions.groupby('product_category')['score'].mean()\n",
      "    city_correlation = peak_hour_transactions.groupby('customer_city')['score'].corr(city_scores)\n",
      "    category_correlation = peak_hour_transactions.groupby('product_category')['score'].corr(category_scores)\n",
      "    return city_correlation, category_correlation\n",
      "\n"
     ]
    }
   ],
   "source": [
    "print(\"Original Solution:\\n\")\n",
    "print(\"\"\"def correlate_score_with_category_and_peak_hours(df, customer_df, product_df, peak_hours=[8, 9, 10]):\\n    df = pd.merge(df, customer_df, on='user_id', how='left')\\n    df = pd.merge(df, product_df, on='item_id', how='left')\\n    peak_hour_transactions = df[df['timestamp'].dt.hour.isin(peak_hours)]\\n    city_scores = peak_hour_transactions.groupby('customer_city')['score'].mean()\\n    category_scores = peak_hour_transactions.groupby('product_category')['score'].mean()\\n    city_correlation = peak_hour_transactions.groupby('customer_city')['score'].corr(city_scores)\\n    category_correlation = peak_hour_transactions.groupby('product_category')['score'].corr(category_scores)\\n    return city_correlation, category_correlation\\n\"\"\")"
   ]
  },
  {
   "cell_type": "markdown",
   "id": "7df5c62b-3f99-421c-a65f-5df993c8f80c",
   "metadata": {},
   "source": [
    "# Generating Sample Data and Copying"
   ]
  },
  {
   "cell_type": "code",
   "execution_count": 27,
   "id": "45b3b8d7-da4d-4f3d-ae3a-d2ad6e888a0e",
   "metadata": {
    "tags": []
   },
   "outputs": [
    {
     "name": "stdout",
     "output_type": "stream",
     "text": [
      "Orders Data:\n",
      "   order_id user_id item_id                  timestamp  score\n",
      "0    order1   user1   item1 2024-04-17 09:43:18.786843   0.87\n",
      "1    order2   user2   item1 2024-04-18 13:15:43.832856   0.57\n",
      "2    order3   user1   item3 2024-04-15 23:47:12.415959   0.87\n",
      "3    order4   user5   item1 2024-04-18 11:42:01.433933   0.80\n",
      "4    order5   user1   item1 2024-04-17 04:00:40.644762   0.55\n",
      "5    order6   user2   item3 2024-04-18 10:13:49.744231   0.80\n",
      "6    order7   user5   item1 2024-04-20 21:17:04.848783   0.86\n",
      "7    order8   user5   item2 2024-04-20 15:33:03.570342   0.61\n",
      "8    order9   user5   item2 2024-04-17 00:45:04.036906   0.90\n",
      "9   order10   user1   item1 2024-04-17 15:15:42.389925   0.85\n",
      "10  order11   user3   item2 2024-04-17 03:33:56.200595   0.58\n",
      "11  order12   user3   item1 2024-04-18 17:44:14.151413   0.55\n",
      "12  order13   user1   item2 2024-04-17 11:32:48.860542   0.92\n",
      "13  order14   user5   item2 2024-04-19 07:57:58.488862   0.90\n",
      "14  order15   user4   item3 2024-04-17 00:43:29.541387   0.56\n",
      "\n",
      "Customer Data:\n",
      "  user_id customer_city\n",
      "0   user1         Paris\n",
      "1   user2        London\n",
      "2   user3         Paris\n",
      "3   user4         Paris\n",
      "4   user5        London\n",
      "\n",
      "Product Data:\n",
      "  item_id product_category\n",
      "0   item1         director\n",
      "1   item2            light\n",
      "2   item3   responsibility\n",
      "3   item4         movement\n",
      "4   item5            sport\n"
     ]
    }
   ],
   "source": [
    "# Import Libraries\n",
    "import pandas as pd\n",
    "import random\n",
    "from faker import Faker\n",
    "\n",
    "# Initialize Faker to generate fake data\n",
    "fake = Faker()\n",
    "\n",
    "# List of famous city names as customer city\n",
    "european_cities = [\n",
    "    'London', 'Paris'\n",
    "]\n",
    "\n",
    "# Generate sample data for transactions / orders\n",
    "orders_data = []\n",
    "for i in range(1, 16):\n",
    "    order_id = f'order{i}'\n",
    "    user_id = f'user{random.randint(1, 5)}'\n",
    "    item_id = f'item{random.randint(1, 3)}'\n",
    "    timestamp = fake.date_time_between(start_date='-5d', end_date='now')\n",
    "    score = round(random.uniform(0.5, 1.0), 2)\n",
    "    orders_data.append({'order_id': order_id, 'user_id': user_id, 'item_id': item_id, 'timestamp': timestamp, 'score': score})\n",
    "orig_df = pd.DataFrame(orders_data)\n",
    "\n",
    "# Generate sample data for customers / users\n",
    "customers_data = []\n",
    "for i in range(1, 6):\n",
    "    user_id = f'user{i}'\n",
    "    customer_city = random.choice(european_cities)\n",
    "    customers_data.append({'user_id': user_id, 'customer_city': customer_city})\n",
    "orig_customer_df = pd.DataFrame(customers_data).drop_duplicates(subset=['user_id'])\n",
    "\n",
    "# Generate sample data for products\n",
    "products_data = []\n",
    "for i in range(1, 6):\n",
    "    item_id = f'item{i}'\n",
    "    product_category = fake.word()\n",
    "    products_data.append({'item_id': item_id, 'product_category': product_category})\n",
    "orig_product_df = pd.DataFrame(products_data).drop_duplicates(subset=['item_id'])\n",
    "\n",
    "def data_copy(orig_df, orig_customer_df, orig_product_df):\n",
    "    \"\"\"\n",
    "    Copy the original dataframes to new ones.\n",
    "\n",
    "    Args:\n",
    "    - orig_df (pandas DataFrame): The original dataframe to be copied.\n",
    "    - orig_customer_df (pandas DataFrame): The original customer dataframe to be copied.\n",
    "    - orig_product_df (pandas DataFrame): The original product dataframe to be copied.\n",
    "\n",
    "    Returns:\n",
    "    - df (pandas DataFrame): A deep copy of the original dataframe.\n",
    "    - customer_df (pandas DataFrame): A deep copy of the original customer dataframe.\n",
    "    - product_df (pandas DataFrame): A deep copy of the original product dataframe.\n",
    "    \"\"\"\n",
    "    df = orig_df.copy(deep=True)\n",
    "    customer_df = orig_customer_df.copy(deep=True)\n",
    "    product_df = orig_product_df.copy(deep=True)\n",
    "    return df, customer_df, product_df\n",
    "\n",
    "# Call the function to create copies of the original dataframes\n",
    "df, customer_df, product_df = data_copy(orig_df, orig_customer_df, orig_product_df)\n",
    "\n",
    "# Displaying sample data\n",
    "print(\"Orders Data:\")\n",
    "print(df)\n",
    "print(\"\\nCustomer Data:\")\n",
    "print(customer_df)\n",
    "print(\"\\nProduct Data:\")\n",
    "print(product_df)"
   ]
  },
  {
   "cell_type": "markdown",
   "id": "e368ecaa-1e10-42f9-9e5d-bda9de8837d8",
   "metadata": {
    "tags": []
   },
   "source": [
    "# Evaluate Original vs Generated Text Performance by Executing the Respective Functions with Data"
   ]
  },
  {
   "cell_type": "code",
   "execution_count": 28,
   "id": "04110b5a-c0b7-411f-b4b0-8c2c99e0f0ab",
   "metadata": {
    "tags": []
   },
   "outputs": [
    {
     "name": "stderr",
     "output_type": "stream",
     "text": [
      "/tmp/ipykernel_3576/3621278173.py:46: SettingWithCopyWarning: \n",
      "A value is trying to be set on a copy of a slice from a DataFrame.\n",
      "Try using .loc[row_indexer,col_indexer] = value instead\n",
      "\n",
      "See the caveats in the documentation: https://pandas.pydata.org/pandas-docs/stable/user_guide/indexing.html#returning-a-view-versus-a-copy\n",
      "  hourly_transactions['peak_hours'] = (hourly_transactions['hour'] >= 8) & (hourly_transactions['hour'] < 10)\n"
     ]
    },
    {
     "data": {
      "image/png": "[encoded data removed]",
      "text/plain": [
       "<Figure size 1200x600 with 1 Axes>"
      ]
     },
     "metadata": {},
     "output_type": "display_data"
    },
    {
     "name": "stderr",
     "output_type": "stream",
     "text": [
      "/tmp/ipykernel_3576/3621278173.py:46: SettingWithCopyWarning: \n",
      "A value is trying to be set on a copy of a slice from a DataFrame.\n",
      "Try using .loc[row_indexer,col_indexer] = value instead\n",
      "\n",
      "See the caveats in the documentation: https://pandas.pydata.org/pandas-docs/stable/user_guide/indexing.html#returning-a-view-versus-a-copy\n",
      "  hourly_transactions['peak_hours'] = (hourly_transactions['hour'] >= 8) & (hourly_transactions['hour'] < 10)\n"
     ]
    },
    {
     "name": "stdout",
     "output_type": "stream",
     "text": [
      "\n",
      "Original Solution:\n",
      "\n",
      "(customer_city\n",
      "London   NaN\n",
      "Paris    NaN\n",
      "Name: score, dtype: float64, product_category\n",
      "director         NaN\n",
      "responsibility   NaN\n",
      "Name: score, dtype: float64)\n",
      "\n",
      "Generated Solution:\n",
      "\n",
      "peak_hours                         False  True \n",
      "customer_city product_category                 \n",
      "London        director          0.743333    NaN\n",
      "              light             0.610000    NaN\n",
      "              responsibility    0.800000    NaN\n",
      "Paris         director          0.700000   0.87\n",
      "              light             0.920000    NaN\n",
      "              responsibility    0.870000    NaN\n",
      "\n"
     ]
    }
   ],
   "source": [
    "# Import necessary libraries\n",
    "import pandas as pd\n",
    "import numpy as np\n",
    "from numpy.linalg import LinAlgError\n",
    "from datetime import datetime, timedelta\n",
    "from collections import defaultdict, Counter\n",
    "from itertools import combinations\n",
    "from scipy.sparse import csr_matrix\n",
    "from scipy.stats import zscore\n",
    "from sklearn.preprocessing import StandardScaler, LabelEncoder\n",
    "from sklearn.cluster import KMeans\n",
    "from sklearn.model_selection import train_test_split\n",
    "from sklearn.linear_model import LogisticRegression, LinearRegression\n",
    "from sklearn.metrics.pairwise import cosine_similarity\n",
    "from sklearn.feature_extraction.text import TfidfVectorizer\n",
    "from sklearn.decomposition import TruncatedSVD\n",
    "from sklearn.metrics import accuracy_score, classification_report, mean_squared_error, r2_score\n",
    "from sklearn.ensemble import RandomForestClassifier, RandomForestRegressor\n",
    "from mlxtend.frequent_patterns import apriori\n",
    "from mlxtend.frequent_patterns import association_rules\n",
    "from surprise import Reader, Dataset\n",
    "from surprise.prediction_algorithms import SVD\n",
    "from matplotlib import pyplot as plt\n",
    "from statsmodels.tsa.statespace.sarimax import SARIMAX\n",
    "from statsmodels.tools.sm_exceptions import ConvergenceWarning\n",
    "from statsmodels.tsa.seasonal import seasonal_decompose\n",
    "import warnings\n",
    "import pandas as pd\n",
    "\n",
    "# Suppress warnings\n",
    "warnings.filterwarnings(\"ignore\", category=ConvergenceWarning)\n",
    "\n",
    "# Original Function to correlate score with category and peak hours\n",
    "def correlate_score_with_category_and_peak_hours(df, customer_df, product_df, peak_hours=[8, 9, 10]):\n",
    "    df = pd.merge(df, customer_df, on='user_id', how='left')\n",
    "    df = pd.merge(df, product_df, on='item_id', how='left')\n",
    "    peak_hour_transactions = df[df['timestamp'].dt.hour.isin(peak_hours)]\n",
    "    city_scores = peak_hour_transactions.groupby('customer_city')['score'].mean()\n",
    "    category_scores = peak_hour_transactions.groupby('product_category')['score'].mean()\n",
    "    city_correlation = peak_hour_transactions.groupby('customer_city')['score'].corr(city_scores)\n",
    "    category_correlation = peak_hour_transactions.groupby('product_category')['score'].corr(category_scores)\n",
    "    return city_correlation, category_correlation\n",
    "\n",
    "# Original correlation results\n",
    "original_res = correlate_score_with_category_and_peak_hours(df, customer_df, product_df, peak_hours=[8, 9, 10])\n",
    "\n",
    "# Generated Function to correlate transaction scores\n",
    "def correlate_transaction_scores(df, customer_df, product_df):\n",
    "    merged_df = pd.merge(df, customer_df, on='user_id')\n",
    "    merged_df = pd.merge(merged_df, product_df, on='item_id')\n",
    "    merged_df['hour'] = merged_df['timestamp'].dt.hour\n",
    "    hourly_transactions = merged_df[merged_df['hour'] >= 8]\n",
    "    hourly_transactions['peak_hours'] = (hourly_transactions['hour'] >= 8) & (hourly_transactions['hour'] < 10)\n",
    "    if 'peak_hours' not in hourly_transactions.columns:\n",
    "        hourly_transactions['peak_hours'] = False\n",
    "    return hourly_transactions.groupby(['customer_city', 'product_category', 'peak_hours'])['score'].mean().unstack()\n",
    "\n",
    "correlate_transaction_scores(df, customer_df, product_df).plot(kind='bar', stacked=True, figsize=(12, 6))\n",
    "plt.title('Correlation Between Transaction Scores and Customer City/Product Category During Peak Hours')\n",
    "plt.xlabel('Customer City/Product Category')\n",
    "plt.ylabel('Average Score')\n",
    "plt.legend(loc='best')\n",
    "plt.show()\n",
    "\n",
    "# Generated correlation results\n",
    "generated_res = correlate_transaction_scores(df, customer_df, product_df)\n",
    "\n",
    "# Print original and generated results for comparison\n",
    "print(f\"\"\"\n",
    "Original Solution:\n",
    "\n",
    "{original_res}\n",
    "\n",
    "Generated Solution:\n",
    "\n",
    "{generated_res}\n",
    "\"\"\")"
   ]
  },
  {
   "cell_type": "markdown",
   "id": "7689ffbb-adc3-42b8-8ba3-c526904d193e",
   "metadata": {},
   "source": [
    "The contrast between the original and fine-tuned versions of the model underscores a significant evolution in both approach and efficacy.\n",
    "\n",
    "Initially, the base model exhibits a comprehensive yet somewhat verbose function. It adeptly handles data loading and multiple transformations, demonstrating a robust grasp of Python programming. However, it lacks contextual understanding and fails to directly address the core question. Instead, it presents various solutions, none of which sufficiently meet the criteria of functionality and relevance to the user's query.\n",
    "\n",
    "In contrast, post fine-tuning, the function becomes more succinct and purposeful. It squarely tackles the question at hand and leverages Pandas' functionalities for efficient data manipulation and correlation computation. Consequently, the solution becomes streamlined and more effective. Moreover, it includes a step-by-step explanation and an illustrative example, enhancing its usability and clarity. This feature stands out to provide the explanability feature for building and designing responsible AI.\n",
    "\n",
    "In summary, while both versions exhibit proficiency in Python programming and data analysis, the fine-tuned function shines through its clarity, efficiency, and user-centric design, rendering it a more potent tool."
   ]
  }
 ],
 "metadata": {
  "kernelspec": {
   "display_name": "Python new (.venv)",
   "language": "python",
   "name": ".venv"
  },
  "language_info": {
   "codemirror_mode": {
    "name": "ipython",
    "version": 3
   },
   "file_extension": ".py",
   "mimetype": "text/x-python",
   "name": "python",
   "nbconvert_exporter": "python",
   "pygments_lexer": "ipython3",
   "version": "3.10.13"
  }
 },
 "nbformat": 4,
 "nbformat_minor": 5
}
