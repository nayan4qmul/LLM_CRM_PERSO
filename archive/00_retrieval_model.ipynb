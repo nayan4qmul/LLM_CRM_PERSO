{
 "cells": [
  {
   "cell_type": "markdown",
   "metadata": {
    "id": "E6Z0WH3Lp1s6"
   },
   "source": [
    "References:\n",
    "\n",
    "Blogpost - https://medium.com/codex/tensorflow-deep-learning-recommenders-on-retail-dataset-ce0c50aff5fa\n",
    "\n",
    "Source Dataset Citation - \n",
    "Olist, and André Sionek. (2018). Brazilian E-Commerce Public Dataset by Olist [Data set]. Kaggle. https://doi.org/10.34740/KAGGLE/DSV/195341"
   ]
  },
  {
   "cell_type": "code",
   "execution_count": 1,
   "metadata": {
    "id": "nOv6hdWuZOE1"
   },
   "outputs": [
    {
     "name": "stderr",
     "output_type": "stream",
     "text": [
      "2024-04-21 18:33:02.462902: W tensorflow/compiler/tf2tensorrt/utils/py_utils.cc:38] TF-TRT Warning: Could not find TensorRT\n"
     ]
    }
   ],
   "source": [
    "##### WARNING #####\n",
    "# Ignore below warning for now as it keeps coming even after installing tensorrt manually\n",
    "# W tensorflow/compiler/tf2tensorrt/utils/py_utils.cc:38] TF-TRT Warning: Could not find TensorRT\n",
    "##### ####### #####\n",
    "\n",
    "# Import libraries\n",
    "import os\n",
    "import pandas as pd\n",
    "import numpy as np\n",
    "from typing import Dict, Text\n",
    "import matplotlib.pyplot as plt\n",
    "\n",
    "os.environ['TF_ENABLE_ONEDNN_OPTS'] = '0'\n",
    "os.environ['TF_CPP_MIN_LOG_LEVEL'] = '1'\n",
    "os.environ['TF_USE_LEGACY_KERAS'] = '1'\n",
    "\n",
    "import tensorflow as tf\n",
    "import tensorflow_recommenders as tfrs"
   ]
  },
  {
   "cell_type": "markdown",
   "metadata": {
    "id": "qaY5LQ7P5iPN"
   },
   "source": [
    "**Data Pre-processing**"
   ]
  },
  {
   "cell_type": "code",
   "execution_count": 2,
   "metadata": {
    "colab": {
     "base_uri": "https://localhost:8080/",
     "height": 143
    },
    "executionInfo": {
     "elapsed": 507,
     "status": "ok",
     "timestamp": 1706460889447,
     "user": {
      "displayName": "nayan patra",
      "userId": "14931987797111771528"
     },
     "user_tz": 0
    },
    "id": "eQeGu54a5g5i",
    "outputId": "2a33b240-5764-46a2-dcb0-852941e68dd6"
   },
   "outputs": [
    {
     "data": {
      "text/html": [
       "<div>\n",
       "<style scoped>\n",
       "    .dataframe tbody tr th:only-of-type {\n",
       "        vertical-align: middle;\n",
       "    }\n",
       "\n",
       "    .dataframe tbody tr th {\n",
       "        vertical-align: top;\n",
       "    }\n",
       "\n",
       "    .dataframe thead th {\n",
       "        text-align: right;\n",
       "    }\n",
       "</style>\n",
       "<table border=\"1\" class=\"dataframe\">\n",
       "  <thead>\n",
       "    <tr style=\"text-align: right;\">\n",
       "      <th></th>\n",
       "      <th>order_id</th>\n",
       "      <th>timestamp</th>\n",
       "      <th>user_id</th>\n",
       "      <th>customer_city</th>\n",
       "      <th>product_category</th>\n",
       "      <th>product_id</th>\n",
       "      <th>quantity</th>\n",
       "      <th>price</th>\n",
       "      <th>review_score</th>\n",
       "    </tr>\n",
       "  </thead>\n",
       "  <tbody>\n",
       "    <tr>\n",
       "      <th>0</th>\n",
       "      <td>e481f51cbdc54678b7cc49136f2d6af7</td>\n",
       "      <td>1506941793</td>\n",
       "      <td>7c396fd4830fd04220f754e42b4e5bff</td>\n",
       "      <td>sao paulo</td>\n",
       "      <td>housewares</td>\n",
       "      <td>housewares SKU 0</td>\n",
       "      <td>1.0</td>\n",
       "      <td>29.99</td>\n",
       "      <td>4.0</td>\n",
       "    </tr>\n",
       "    <tr>\n",
       "      <th>1</th>\n",
       "      <td>53cdb2fc8bc7dce0b6741e2150273451</td>\n",
       "      <td>1532464897</td>\n",
       "      <td>af07308b275d755c9edb36a90c618231</td>\n",
       "      <td>barreiras</td>\n",
       "      <td>perfumery</td>\n",
       "      <td>perfumery SKU 0</td>\n",
       "      <td>1.0</td>\n",
       "      <td>118.70</td>\n",
       "      <td>4.0</td>\n",
       "    </tr>\n",
       "    <tr>\n",
       "      <th>2</th>\n",
       "      <td>47770eb9100c2d0c44946d9cf07ec65d</td>\n",
       "      <td>1533717529</td>\n",
       "      <td>3a653a41f6f9fc3d2a113cf8398680e8</td>\n",
       "      <td>vianopolis</td>\n",
       "      <td>auto</td>\n",
       "      <td>auto SKU 0</td>\n",
       "      <td>1.0</td>\n",
       "      <td>159.90</td>\n",
       "      <td>5.0</td>\n",
       "    </tr>\n",
       "  </tbody>\n",
       "</table>\n",
       "</div>"
      ],
      "text/plain": [
       "                           order_id   timestamp  \\\n",
       "0  e481f51cbdc54678b7cc49136f2d6af7  1506941793   \n",
       "1  53cdb2fc8bc7dce0b6741e2150273451  1532464897   \n",
       "2  47770eb9100c2d0c44946d9cf07ec65d  1533717529   \n",
       "\n",
       "                            user_id customer_city product_category  \\\n",
       "0  7c396fd4830fd04220f754e42b4e5bff     sao paulo       housewares   \n",
       "1  af07308b275d755c9edb36a90c618231     barreiras        perfumery   \n",
       "2  3a653a41f6f9fc3d2a113cf8398680e8    vianopolis             auto   \n",
       "\n",
       "         product_id  quantity   price  review_score  \n",
       "0  housewares SKU 0       1.0   29.99           4.0  \n",
       "1   perfumery SKU 0       1.0  118.70           4.0  \n",
       "2        auto SKU 0       1.0  159.90           5.0  "
      ]
     },
     "execution_count": 2,
     "metadata": {},
     "output_type": "execute_result"
    }
   ],
   "source": [
    "masterdf = pd.read_csv(\n",
    "    '../data/clean_olist_data.csv'\n",
    ")\n",
    "\n",
    "masterdf.head(3)"
   ]
  },
  {
   "cell_type": "code",
   "execution_count": 3,
   "metadata": {
    "id": "dMlANXby6zoP"
   },
   "outputs": [],
   "source": [
    "masterdf[['user_id',\n",
    "          'product_id',\n",
    "          ]] = masterdf[['user_id','product_id']].astype(str)"
   ]
  },
  {
   "cell_type": "code",
   "execution_count": 4,
   "metadata": {
    "id": "1x1lmaHh64iz"
   },
   "outputs": [],
   "source": [
    "masterdf['quantity'] = masterdf['quantity'].astype(float)"
   ]
  },
  {
   "cell_type": "code",
   "execution_count": 5,
   "metadata": {
    "colab": {
     "base_uri": "https://localhost:8080/",
     "height": 206
    },
    "executionInfo": {
     "elapsed": 20,
     "status": "ok",
     "timestamp": 1706460889448,
     "user": {
      "displayName": "nayan patra",
      "userId": "14931987797111771528"
     },
     "user_tz": 0
    },
    "id": "k74-xQan67Gn",
    "outputId": "ac9d4878-87b7-447a-af6f-9ec33122689b"
   },
   "outputs": [
    {
     "data": {
      "text/html": [
       "<div>\n",
       "<style scoped>\n",
       "    .dataframe tbody tr th:only-of-type {\n",
       "        vertical-align: middle;\n",
       "    }\n",
       "\n",
       "    .dataframe tbody tr th {\n",
       "        vertical-align: top;\n",
       "    }\n",
       "\n",
       "    .dataframe thead th {\n",
       "        text-align: right;\n",
       "    }\n",
       "</style>\n",
       "<table border=\"1\" class=\"dataframe\">\n",
       "  <thead>\n",
       "    <tr style=\"text-align: right;\">\n",
       "      <th></th>\n",
       "      <th>order_id</th>\n",
       "      <th>timestamp</th>\n",
       "      <th>user_id</th>\n",
       "      <th>customer_city</th>\n",
       "      <th>product_category</th>\n",
       "      <th>product_id</th>\n",
       "      <th>quantity</th>\n",
       "      <th>price</th>\n",
       "      <th>review_score</th>\n",
       "    </tr>\n",
       "  </thead>\n",
       "  <tbody>\n",
       "    <tr>\n",
       "      <th>0</th>\n",
       "      <td>e481f51cbdc54678b7cc49136f2d6af7</td>\n",
       "      <td>1506941793</td>\n",
       "      <td>7c396fd4830fd04220f754e42b4e5bff</td>\n",
       "      <td>sao paulo</td>\n",
       "      <td>housewares</td>\n",
       "      <td>housewares SKU 0</td>\n",
       "      <td>1.0</td>\n",
       "      <td>29.99</td>\n",
       "      <td>4.0</td>\n",
       "    </tr>\n",
       "    <tr>\n",
       "      <th>1</th>\n",
       "      <td>53cdb2fc8bc7dce0b6741e2150273451</td>\n",
       "      <td>1532464897</td>\n",
       "      <td>af07308b275d755c9edb36a90c618231</td>\n",
       "      <td>barreiras</td>\n",
       "      <td>perfumery</td>\n",
       "      <td>perfumery SKU 0</td>\n",
       "      <td>1.0</td>\n",
       "      <td>118.70</td>\n",
       "      <td>4.0</td>\n",
       "    </tr>\n",
       "    <tr>\n",
       "      <th>2</th>\n",
       "      <td>47770eb9100c2d0c44946d9cf07ec65d</td>\n",
       "      <td>1533717529</td>\n",
       "      <td>3a653a41f6f9fc3d2a113cf8398680e8</td>\n",
       "      <td>vianopolis</td>\n",
       "      <td>auto</td>\n",
       "      <td>auto SKU 0</td>\n",
       "      <td>1.0</td>\n",
       "      <td>159.90</td>\n",
       "      <td>5.0</td>\n",
       "    </tr>\n",
       "    <tr>\n",
       "      <th>3</th>\n",
       "      <td>949d5b44dbf5de918fe9c16f97b45f8a</td>\n",
       "      <td>1511033286</td>\n",
       "      <td>7c142cf63193a1473d2e66489a9ae977</td>\n",
       "      <td>sao goncalo do amarante</td>\n",
       "      <td>pet_shop</td>\n",
       "      <td>pet_shop SKU 0</td>\n",
       "      <td>1.0</td>\n",
       "      <td>45.00</td>\n",
       "      <td>5.0</td>\n",
       "    </tr>\n",
       "    <tr>\n",
       "      <th>4</th>\n",
       "      <td>ad21c59c0840e6cb83a9ceb5573f8159</td>\n",
       "      <td>1518556719</td>\n",
       "      <td>72632f0f9dd73dfee390c9b22eb56dd6</td>\n",
       "      <td>santo andre</td>\n",
       "      <td>stationery</td>\n",
       "      <td>stationery SKU 0</td>\n",
       "      <td>1.0</td>\n",
       "      <td>19.90</td>\n",
       "      <td>5.0</td>\n",
       "    </tr>\n",
       "  </tbody>\n",
       "</table>\n",
       "</div>"
      ],
      "text/plain": [
       "                           order_id   timestamp  \\\n",
       "0  e481f51cbdc54678b7cc49136f2d6af7  1506941793   \n",
       "1  53cdb2fc8bc7dce0b6741e2150273451  1532464897   \n",
       "2  47770eb9100c2d0c44946d9cf07ec65d  1533717529   \n",
       "3  949d5b44dbf5de918fe9c16f97b45f8a  1511033286   \n",
       "4  ad21c59c0840e6cb83a9ceb5573f8159  1518556719   \n",
       "\n",
       "                            user_id            customer_city product_category  \\\n",
       "0  7c396fd4830fd04220f754e42b4e5bff                sao paulo       housewares   \n",
       "1  af07308b275d755c9edb36a90c618231                barreiras        perfumery   \n",
       "2  3a653a41f6f9fc3d2a113cf8398680e8               vianopolis             auto   \n",
       "3  7c142cf63193a1473d2e66489a9ae977  sao goncalo do amarante         pet_shop   \n",
       "4  72632f0f9dd73dfee390c9b22eb56dd6              santo andre       stationery   \n",
       "\n",
       "         product_id  quantity   price  review_score  \n",
       "0  housewares SKU 0       1.0   29.99           4.0  \n",
       "1   perfumery SKU 0       1.0  118.70           4.0  \n",
       "2        auto SKU 0       1.0  159.90           5.0  \n",
       "3    pet_shop SKU 0       1.0   45.00           5.0  \n",
       "4  stationery SKU 0       1.0   19.90           5.0  "
      ]
     },
     "execution_count": 5,
     "metadata": {},
     "output_type": "execute_result"
    }
   ],
   "source": [
    "masterdf.head()"
   ]
  },
  {
   "cell_type": "code",
   "execution_count": 6,
   "metadata": {
    "colab": {
     "base_uri": "https://localhost:8080/",
     "height": 206
    },
    "executionInfo": {
     "elapsed": 285,
     "status": "ok",
     "timestamp": 1706460889714,
     "user": {
      "displayName": "nayan patra",
      "userId": "14931987797111771528"
     },
     "user_tz": 0
    },
    "id": "3oWIUMzL7ICz",
    "outputId": "5ed2e843-be2a-48c1-ec1f-5976c286ebb7"
   },
   "outputs": [
    {
     "data": {
      "text/html": [
       "<div>\n",
       "<style scoped>\n",
       "    .dataframe tbody tr th:only-of-type {\n",
       "        vertical-align: middle;\n",
       "    }\n",
       "\n",
       "    .dataframe tbody tr th {\n",
       "        vertical-align: top;\n",
       "    }\n",
       "\n",
       "    .dataframe thead th {\n",
       "        text-align: right;\n",
       "    }\n",
       "</style>\n",
       "<table border=\"1\" class=\"dataframe\">\n",
       "  <thead>\n",
       "    <tr style=\"text-align: right;\">\n",
       "      <th></th>\n",
       "      <th>user_id</th>\n",
       "      <th>product_id</th>\n",
       "      <th>quantity</th>\n",
       "    </tr>\n",
       "  </thead>\n",
       "  <tbody>\n",
       "    <tr>\n",
       "      <th>0</th>\n",
       "      <td>0000366f3b9a7992bf8c76cfdf3221e2</td>\n",
       "      <td>bed_bath_table SKU 513</td>\n",
       "      <td>1.0</td>\n",
       "    </tr>\n",
       "    <tr>\n",
       "      <th>1</th>\n",
       "      <td>0000b849f77a49e4a4ce2b2a4ca5be3f</td>\n",
       "      <td>health_beauty SKU 497</td>\n",
       "      <td>1.0</td>\n",
       "    </tr>\n",
       "    <tr>\n",
       "      <th>2</th>\n",
       "      <td>0000f46a3911fa3c0805444483337064</td>\n",
       "      <td>stationery SKU 374</td>\n",
       "      <td>1.0</td>\n",
       "    </tr>\n",
       "    <tr>\n",
       "      <th>3</th>\n",
       "      <td>0000f6ccb0745a6a4b88665a16c9f078</td>\n",
       "      <td>telephony SKU 1014</td>\n",
       "      <td>1.0</td>\n",
       "    </tr>\n",
       "    <tr>\n",
       "      <th>4</th>\n",
       "      <td>0004aac84e0df4da2b147fca70cf8255</td>\n",
       "      <td>telephony SKU 701</td>\n",
       "      <td>1.0</td>\n",
       "    </tr>\n",
       "  </tbody>\n",
       "</table>\n",
       "</div>"
      ],
      "text/plain": [
       "                            user_id              product_id  quantity\n",
       "0  0000366f3b9a7992bf8c76cfdf3221e2  bed_bath_table SKU 513       1.0\n",
       "1  0000b849f77a49e4a4ce2b2a4ca5be3f   health_beauty SKU 497       1.0\n",
       "2  0000f46a3911fa3c0805444483337064      stationery SKU 374       1.0\n",
       "3  0000f6ccb0745a6a4b88665a16c9f078      telephony SKU 1014       1.0\n",
       "4  0004aac84e0df4da2b147fca70cf8255       telephony SKU 701       1.0"
      ]
     },
     "execution_count": 6,
     "metadata": {},
     "output_type": "execute_result"
    }
   ],
   "source": [
    "interactions_dict = masterdf.groupby(['user_id', 'product_id'])[ 'quantity'].sum().reset_index()\n",
    "interactions_dict.head()"
   ]
  },
  {
   "cell_type": "code",
   "execution_count": 7,
   "metadata": {
    "colab": {
     "base_uri": "https://localhost:8080/"
    },
    "executionInfo": {
     "elapsed": 27,
     "status": "ok",
     "timestamp": 1706460889714,
     "user": {
      "displayName": "nayan patra",
      "userId": "14931987797111771528"
     },
     "user_tz": 0
    },
    "id": "HXgS5Q0R7Ptb",
    "outputId": "7e7a283d-4015-42a0-b283-20dc6f106e85"
   },
   "outputs": [
    {
     "data": {
      "text/plain": [
       "{'user_id': array(['0000366f3b9a7992bf8c76cfdf3221e2',\n",
       "        '0000b849f77a49e4a4ce2b2a4ca5be3f',\n",
       "        '0000f46a3911fa3c0805444483337064', ...,\n",
       "        'ffff371b4d645b6ecea244b27531430a',\n",
       "        'ffff5962728ec6157033ef9805bacc48',\n",
       "        'ffffd2657e2aad2907e67c3e9daecbeb'], dtype=object),\n",
       " 'product_id': array(['bed_bath_table SKU 513', 'health_beauty SKU 497',\n",
       "        'stationery SKU 374', ..., 'auto SKU 1086', 'watches_gifts SKU 7',\n",
       "        'perfumery SKU 24'], dtype=object),\n",
       " 'quantity': array([1., 1., 1., ..., 1., 1., 1.])}"
      ]
     },
     "execution_count": 7,
     "metadata": {},
     "output_type": "execute_result"
    }
   ],
   "source": [
    "interactions_dict = {name: np.array(value) for name, value in interactions_dict.items()}\n",
    "interactions_dict"
   ]
  },
  {
   "cell_type": "code",
   "execution_count": 8,
   "metadata": {
    "colab": {
     "base_uri": "https://localhost:8080/"
    },
    "executionInfo": {
     "elapsed": 25,
     "status": "ok",
     "timestamp": 1706460889714,
     "user": {
      "displayName": "nayan patra",
      "userId": "14931987797111771528"
     },
     "user_tz": 0
    },
    "id": "Q_R883ha7f4o",
    "outputId": "344d3ba0-19dd-44ce-8c27-7cec7b5dc92e"
   },
   "outputs": [
    {
     "name": "stderr",
     "output_type": "stream",
     "text": [
      "2024-04-21 18:33:12.663342: W tensorflow/core/common_runtime/gpu/gpu_device.cc:2251] Cannot dlopen some GPU libraries. Please make sure the missing libraries mentioned above are installed properly if you would like to use GPU. Follow the guide at https://www.tensorflow.org/install/gpu for how to download and setup the required libraries for your platform.\n",
      "Skipping registering GPU devices...\n"
     ]
    },
    {
     "data": {
      "text/plain": [
       "<_TensorSliceDataset element_spec={'user_id': TensorSpec(shape=(), dtype=tf.string, name=None), 'product_id': TensorSpec(shape=(), dtype=tf.string, name=None), 'quantity': TensorSpec(shape=(), dtype=tf.float64, name=None)}>"
      ]
     },
     "execution_count": 8,
     "metadata": {},
     "output_type": "execute_result"
    }
   ],
   "source": [
    "interactions = tf.data.Dataset.from_tensor_slices(interactions_dict)\n",
    "interactions"
   ]
  },
  {
   "cell_type": "code",
   "execution_count": 9,
   "metadata": {
    "colab": {
     "base_uri": "https://localhost:8080/",
     "height": 206
    },
    "executionInfo": {
     "elapsed": 25,
     "status": "ok",
     "timestamp": 1706460889715,
     "user": {
      "displayName": "nayan patra",
      "userId": "14931987797111771528"
     },
     "user_tz": 0
    },
    "id": "mZY2fGTO773f",
    "outputId": "64ee4595-1465-43f8-bbe6-000e566b9782"
   },
   "outputs": [
    {
     "data": {
      "text/html": [
       "<div>\n",
       "<style scoped>\n",
       "    .dataframe tbody tr th:only-of-type {\n",
       "        vertical-align: middle;\n",
       "    }\n",
       "\n",
       "    .dataframe tbody tr th {\n",
       "        vertical-align: top;\n",
       "    }\n",
       "\n",
       "    .dataframe thead th {\n",
       "        text-align: right;\n",
       "    }\n",
       "</style>\n",
       "<table border=\"1\" class=\"dataframe\">\n",
       "  <thead>\n",
       "    <tr style=\"text-align: right;\">\n",
       "      <th></th>\n",
       "      <th>product_id</th>\n",
       "    </tr>\n",
       "  </thead>\n",
       "  <tbody>\n",
       "    <tr>\n",
       "      <th>0</th>\n",
       "      <td>housewares SKU 0</td>\n",
       "    </tr>\n",
       "    <tr>\n",
       "      <th>1</th>\n",
       "      <td>perfumery SKU 0</td>\n",
       "    </tr>\n",
       "    <tr>\n",
       "      <th>2</th>\n",
       "      <td>auto SKU 0</td>\n",
       "    </tr>\n",
       "    <tr>\n",
       "      <th>3</th>\n",
       "      <td>pet_shop SKU 0</td>\n",
       "    </tr>\n",
       "    <tr>\n",
       "      <th>4</th>\n",
       "      <td>stationery SKU 0</td>\n",
       "    </tr>\n",
       "  </tbody>\n",
       "</table>\n",
       "</div>"
      ],
      "text/plain": [
       "         product_id\n",
       "0  housewares SKU 0\n",
       "1   perfumery SKU 0\n",
       "2        auto SKU 0\n",
       "3    pet_shop SKU 0\n",
       "4  stationery SKU 0"
      ]
     },
     "execution_count": 9,
     "metadata": {},
     "output_type": "execute_result"
    }
   ],
   "source": [
    "items_dict = masterdf[['product_id']].drop_duplicates()\n",
    "items_dict.head()"
   ]
  },
  {
   "cell_type": "code",
   "execution_count": 10,
   "metadata": {
    "colab": {
     "base_uri": "https://localhost:8080/"
    },
    "executionInfo": {
     "elapsed": 24,
     "status": "ok",
     "timestamp": 1706460889715,
     "user": {
      "displayName": "nayan patra",
      "userId": "14931987797111771528"
     },
     "user_tz": 0
    },
    "id": "uCYfroMl8GDP",
    "outputId": "77ee2417-0d65-43c6-9b79-75a42f8ccec6"
   },
   "outputs": [
    {
     "data": {
      "text/plain": [
       "{'product_id': array(['housewares SKU 0', 'perfumery SKU 0', 'auto SKU 0', ...,\n",
       "        'musical_instruments SKU 288', 'health_beauty SKU 2442',\n",
       "        'health_beauty SKU 2443'], dtype=object)}"
      ]
     },
     "execution_count": 10,
     "metadata": {},
     "output_type": "execute_result"
    }
   ],
   "source": [
    "items_dict = {name: np.array(value) for name, value in items_dict.items()}\n",
    "items_dict"
   ]
  },
  {
   "cell_type": "code",
   "execution_count": 11,
   "metadata": {
    "colab": {
     "base_uri": "https://localhost:8080/"
    },
    "executionInfo": {
     "elapsed": 22,
     "status": "ok",
     "timestamp": 1706460889715,
     "user": {
      "displayName": "nayan patra",
      "userId": "14931987797111771528"
     },
     "user_tz": 0
    },
    "id": "w4PD5-5i8KSE",
    "outputId": "6beaf785-263f-4206-fbe0-9ef286c093a8"
   },
   "outputs": [
    {
     "data": {
      "text/plain": [
       "<_TensorSliceDataset element_spec={'product_id': TensorSpec(shape=(), dtype=tf.string, name=None)}>"
      ]
     },
     "execution_count": 11,
     "metadata": {},
     "output_type": "execute_result"
    }
   ],
   "source": [
    "items = tf.data.Dataset.from_tensor_slices(items_dict)\n",
    "items"
   ]
  },
  {
   "cell_type": "code",
   "execution_count": 12,
   "metadata": {
    "colab": {
     "base_uri": "https://localhost:8080/"
    },
    "executionInfo": {
     "elapsed": 20,
     "status": "ok",
     "timestamp": 1706460889715,
     "user": {
      "displayName": "nayan patra",
      "userId": "14931987797111771528"
     },
     "user_tz": 0
    },
    "id": "3XN-rrNx8NSi",
    "outputId": "e1817f04-ce77-448d-81b5-4f410b315e75"
   },
   "outputs": [
    {
     "data": {
      "text/plain": [
       "<_MapDataset element_spec={'user_id': TensorSpec(shape=(), dtype=tf.string, name=None), 'product_id': TensorSpec(shape=(), dtype=tf.string, name=None), 'quantity': TensorSpec(shape=(), dtype=tf.float32, name=None)}>"
      ]
     },
     "execution_count": 12,
     "metadata": {},
     "output_type": "execute_result"
    }
   ],
   "source": [
    "interactions = interactions.map(lambda x: {\n",
    "    'user_id' : x['user_id'],\n",
    "    'product_id' : x['product_id'],\n",
    "    'quantity' : float(x['quantity']),\n",
    "\n",
    "})\n",
    "interactions"
   ]
  },
  {
   "cell_type": "code",
   "execution_count": 13,
   "metadata": {
    "colab": {
     "base_uri": "https://localhost:8080/"
    },
    "executionInfo": {
     "elapsed": 239,
     "status": "ok",
     "timestamp": 1706460889936,
     "user": {
      "displayName": "nayan patra",
      "userId": "14931987797111771528"
     },
     "user_tz": 0
    },
    "id": "IBjtRPUz8gvA",
    "outputId": "fcfcdccb-4092-404e-9fa9-153f091fffdb"
   },
   "outputs": [
    {
     "data": {
      "text/plain": [
       "<_MapDataset element_spec=TensorSpec(shape=(), dtype=tf.string, name=None)>"
      ]
     },
     "execution_count": 13,
     "metadata": {},
     "output_type": "execute_result"
    }
   ],
   "source": [
    "items = items.map(lambda x: x['product_id'])\n",
    "items"
   ]
  },
  {
   "cell_type": "code",
   "execution_count": 14,
   "metadata": {
    "colab": {
     "base_uri": "https://localhost:8080/"
    },
    "executionInfo": {
     "elapsed": 8,
     "status": "ok",
     "timestamp": 1706460889937,
     "user": {
      "displayName": "nayan patra",
      "userId": "14931987797111771528"
     },
     "user_tz": 0
    },
    "id": "01r3Ny698mtQ",
    "outputId": "6600f77f-06c7-4efc-cfe8-6ad4646a2aaf"
   },
   "outputs": [
    {
     "name": "stderr",
     "output_type": "stream",
     "text": [
      "2024-04-21 18:33:25.178645: W tensorflow/core/framework/local_rendezvous.cc:404] Local rendezvous is aborting with status: OUT_OF_RANGE: End of sequence\n"
     ]
    },
    {
     "data": {
      "text/plain": [
       "array([b'UNKNOWN SKU 0', b'UNKNOWN SKU 1', b'UNKNOWN SKU 10', ...,\n",
       "       b'watches_gifts SKU 997', b'watches_gifts SKU 998',\n",
       "       b'watches_gifts SKU 999'], dtype=object)"
      ]
     },
     "execution_count": 14,
     "metadata": {},
     "output_type": "execute_result"
    }
   ],
   "source": [
    "unique_item_titles = np.unique(np.concatenate(list(items.batch(1000))))\n",
    "unique_item_titles"
   ]
  },
  {
   "cell_type": "code",
   "execution_count": 15,
   "metadata": {
    "colab": {
     "base_uri": "https://localhost:8080/"
    },
    "executionInfo": {
     "elapsed": 3266,
     "status": "ok",
     "timestamp": 1706460893197,
     "user": {
      "displayName": "nayan patra",
      "userId": "14931987797111771528"
     },
     "user_tz": 0
    },
    "id": "bvjSVTia80Fs",
    "outputId": "7caec9b9-ef17-46ff-ffd0-29b572bbf4b4"
   },
   "outputs": [
    {
     "name": "stderr",
     "output_type": "stream",
     "text": [
      "2024-04-21 18:33:29.711631: W tensorflow/core/framework/local_rendezvous.cc:404] Local rendezvous is aborting with status: OUT_OF_RANGE: End of sequence\n"
     ]
    },
    {
     "data": {
      "text/plain": [
       "array([b'0000366f3b9a7992bf8c76cfdf3221e2',\n",
       "       b'0000b849f77a49e4a4ce2b2a4ca5be3f',\n",
       "       b'0000f46a3911fa3c0805444483337064', ...,\n",
       "       b'ffff371b4d645b6ecea244b27531430a',\n",
       "       b'ffff5962728ec6157033ef9805bacc48',\n",
       "       b'ffffd2657e2aad2907e67c3e9daecbeb'], dtype=object)"
      ]
     },
     "execution_count": 15,
     "metadata": {},
     "output_type": "execute_result"
    }
   ],
   "source": [
    "unique_user_ids = np.unique(np.concatenate(list(interactions.batch(1_000).map(lambda x: x[\"user_id\"]))))\n",
    "unique_user_ids"
   ]
  },
  {
   "cell_type": "code",
   "execution_count": 16,
   "metadata": {
    "id": "6tYGo5mZ9NKh"
   },
   "outputs": [],
   "source": [
    "tf.random.set_seed(42)\n",
    "shuffled = interactions.shuffle(100_000, seed=42, reshuffle_each_iteration=False)\n",
    "\n",
    "train = shuffled.take(60_000)\n",
    "test = shuffled.skip(60_000).take(20_000)"
   ]
  },
  {
   "cell_type": "markdown",
   "metadata": {
    "id": "AxvT882mxveM"
   },
   "source": [
    "**Retrieval model**\n",
    "\n",
    "Retrieval task selects an initial set of candidate among all possible choices. The objective is to eliminate candidate that a user may not be interested. Retrieval task can deal with millions of candidate and only returns a handful of items, therefore it can save computational power and memory."
   ]
  },
  {
   "cell_type": "code",
   "execution_count": 17,
   "metadata": {
    "id": "gS5Mmkaf_X9s"
   },
   "outputs": [],
   "source": [
    "class RetailModel(tfrs.Model):\n",
    "\n",
    "    def __init__(self, user_model, item_model):\n",
    "        super().__init__()\n",
    "\n",
    "        ### Candidate model (item)\n",
    "        ### This is Keras preprocessing layers to first convert user ids to integers,\n",
    "        ### and then convert those to user embeddings via an Embedding layer.\n",
    "        ### We use the list of unique user ids we computed earlier as a vocabulary:\n",
    "        item_model = tf.keras.Sequential([\n",
    "                                        tf.keras.layers.experimental.preprocessing.StringLookup(\n",
    "                                        vocabulary=unique_item_titles, mask_token=None),\n",
    "                                        tf.keras.layers.Embedding(len(unique_item_titles) + 1, embedding_dimension)\n",
    "                                        ])\n",
    "        ### we pass the embedding layer into item model\n",
    "        self.item_model: tf.keras.Model = item_model\n",
    "\n",
    "        ### Query model (users)\n",
    "        user_model = tf.keras.Sequential([\n",
    "                                        tf.keras.layers.experimental.preprocessing.StringLookup(\n",
    "                                        vocabulary=unique_user_ids, mask_token=None),\n",
    "                                        # We add an additional embedding to account for unknown tokens.\n",
    "                                        tf.keras.layers.Embedding(len(unique_user_ids) + 1, embedding_dimension)\n",
    "                                        ])\n",
    "        self.user_model: tf.keras.Model = user_model\n",
    "\n",
    "        ### for retrieval model. we take top-k accuracy as metrics\n",
    "        metrics = tfrs.metrics.FactorizedTopK(\n",
    "                                            candidates=items.batch(128).map(item_model)\n",
    "        )\n",
    "\n",
    "        # define the task, which is retrieval                                    )\n",
    "        task = tfrs.tasks.Retrieval(\n",
    "                                    metrics=metrics\n",
    "                                    )\n",
    "\n",
    "        self.task: tf.keras.layers.Layer = task\n",
    "\n",
    "    def compute_loss(self, features: Dict[Text, tf.Tensor], training=False) -> tf.Tensor:\n",
    "        # We pick out the user features and pass them into the user model.\n",
    "        user_embeddings = self.user_model(features[\"user_id\"])\n",
    "        # And pick out the movie features and pass them into the movie model,\n",
    "        # getting embeddings back.\n",
    "        positive_movie_embeddings = self.item_model(features[\"product_id\"])\n",
    "\n",
    "        # The task computes the loss and the metrics.\n",
    "        return self.task(user_embeddings, positive_movie_embeddings)"
   ]
  },
  {
   "cell_type": "code",
   "execution_count": 19,
   "metadata": {
    "colab": {
     "base_uri": "https://localhost:8080/"
    },
    "executionInfo": {
     "elapsed": 2484767,
     "status": "ok",
     "timestamp": 1706463489404,
     "user": {
      "displayName": "nayan patra",
      "userId": "14931987797111771528"
     },
     "user_tz": 0
    },
    "id": "t_x6m50oAHrl",
    "outputId": "16c174d4-ff50-4818-d710-31113ae5ed2a"
   },
   "outputs": [
    {
     "name": "stdout",
     "output_type": "stream",
     "text": [
      "Epoch 1/10\n",
      "8/8 [==============================] - 288s 34s/step - factorized_top_k/top_1_categorical_accuracy: 9.0000e-04 - factorized_top_k/top_5_categorical_accuracy: 0.0037 - factorized_top_k/top_10_categorical_accuracy: 0.0050 - factorized_top_k/top_50_categorical_accuracy: 0.0101 - factorized_top_k/top_100_categorical_accuracy: 0.0139 - loss: 62067.2344 - regularization_loss: 0.0000e+00 - total_loss: 62067.2344\n",
      "Epoch 2/10\n",
      "8/8 [==============================] - 271s 33s/step - factorized_top_k/top_1_categorical_accuracy: 0.0443 - factorized_top_k/top_5_categorical_accuracy: 0.1319 - factorized_top_k/top_10_categorical_accuracy: 0.1843 - factorized_top_k/top_50_categorical_accuracy: 0.3852 - factorized_top_k/top_100_categorical_accuracy: 0.5137 - loss: 61842.9540 - regularization_loss: 0.0000e+00 - total_loss: 61842.9540\n",
      "Epoch 3/10\n",
      "8/8 [==============================] - 265s 33s/step - factorized_top_k/top_1_categorical_accuracy: 0.1061 - factorized_top_k/top_5_categorical_accuracy: 0.2464 - factorized_top_k/top_10_categorical_accuracy: 0.2992 - factorized_top_k/top_50_categorical_accuracy: 0.5076 - factorized_top_k/top_100_categorical_accuracy: 0.6624 - loss: 60806.5938 - regularization_loss: 0.0000e+00 - total_loss: 60806.5938\n",
      "Epoch 4/10\n",
      "8/8 [==============================] - 208s 26s/step - factorized_top_k/top_1_categorical_accuracy: 0.2025 - factorized_top_k/top_5_categorical_accuracy: 0.3965 - factorized_top_k/top_10_categorical_accuracy: 0.4356 - factorized_top_k/top_50_categorical_accuracy: 0.5470 - factorized_top_k/top_100_categorical_accuracy: 0.6142 - loss: 47751.1962 - regularization_loss: 0.0000e+00 - total_loss: 47751.1962\n",
      "Epoch 7/10\n",
      "8/8 [==============================] - 208s 26s/step - factorized_top_k/top_1_categorical_accuracy: 0.2175 - factorized_top_k/top_5_categorical_accuracy: 0.4502 - factorized_top_k/top_10_categorical_accuracy: 0.4838 - factorized_top_k/top_50_categorical_accuracy: 0.5824 - factorized_top_k/top_100_categorical_accuracy: 0.6353 - loss: 42793.2702 - regularization_loss: 0.0000e+00 - total_loss: 42793.2702\n",
      "Epoch 8/10\n",
      "8/8 [==============================] - 207s 25s/step - factorized_top_k/top_1_categorical_accuracy: 0.2474 - factorized_top_k/top_5_categorical_accuracy: 0.5023 - factorized_top_k/top_10_categorical_accuracy: 0.5315 - factorized_top_k/top_50_categorical_accuracy: 0.6166 - factorized_top_k/top_100_categorical_accuracy: 0.6737 - loss: 38278.6656 - regularization_loss: 0.0000e+00 - total_loss: 38278.6656\n",
      "Epoch 9/10\n",
      "8/8 [==============================] - 209s 26s/step - factorized_top_k/top_1_categorical_accuracy: 0.2552 - factorized_top_k/top_5_categorical_accuracy: 0.5499 - factorized_top_k/top_10_categorical_accuracy: 0.5798 - factorized_top_k/top_50_categorical_accuracy: 0.6538 - factorized_top_k/top_100_categorical_accuracy: 0.7188 - loss: 34276.9709 - regularization_loss: 0.0000e+00 - total_loss: 34276.9709\n",
      "Epoch 10/10\n",
      "8/8 [==============================] - 206s 25s/step - factorized_top_k/top_1_categorical_accuracy: 0.2996 - factorized_top_k/top_5_categorical_accuracy: 0.5960 - factorized_top_k/top_10_categorical_accuracy: 0.6170 - factorized_top_k/top_50_categorical_accuracy: 0.7118 - factorized_top_k/top_100_categorical_accuracy: 0.7411 - loss: 30763.0972 - regularization_loss: 0.0000e+00 - total_loss: 30763.0972\n",
      "5/5 [==============================] - 71s 13s/step - factorized_top_k/top_1_categorical_accuracy: 2.0000e-04 - factorized_top_k/top_5_categorical_accuracy: 0.0033 - factorized_top_k/top_10_categorical_accuracy: 0.0051 - factorized_top_k/top_50_categorical_accuracy: 0.0153 - factorized_top_k/top_100_categorical_accuracy: 0.0249 - loss: 32905.7546 - regularization_loss: 0.0000e+00 - total_loss: 32905.7546\n"
     ]
    },
    {
     "data": {
      "text/plain": [
       "{'factorized_top_k/top_1_categorical_accuracy': 0.00019999999494757503,\n",
       " 'factorized_top_k/top_5_categorical_accuracy': 0.0032500000670552254,\n",
       " 'factorized_top_k/top_10_categorical_accuracy': 0.005100000184029341,\n",
       " 'factorized_top_k/top_50_categorical_accuracy': 0.015300000086426735,\n",
       " 'factorized_top_k/top_100_categorical_accuracy': 0.024900000542402267,\n",
       " 'loss': 29916.30078125,\n",
       " 'regularization_loss': 0,\n",
       " 'total_loss': 29916.30078125}"
      ]
     },
     "execution_count": 19,
     "metadata": {},
     "output_type": "execute_result"
    }
   ],
   "source": [
    "### Fitting and evaluating\n",
    "\n",
    "### we choose the dimensionality of the query and candicate representation.\n",
    "embedding_dimension = 32\n",
    "\n",
    "## we pass the model, which is the same model we created in the query and candidate tower, into the model\n",
    "item_model = tf.keras.Sequential([\n",
    "                                tf.keras.layers.experimental.preprocessing.StringLookup(\n",
    "                                vocabulary=unique_item_titles, mask_token=None),\n",
    "                                tf.keras.layers.Embedding(len(unique_item_titles) + 1, embedding_dimension)\n",
    "                                ])\n",
    "\n",
    "user_model = tf.keras.Sequential([\n",
    "                                tf.keras.layers.experimental.preprocessing.StringLookup(\n",
    "                                vocabulary=unique_user_ids, mask_token=None),\n",
    "                                # We add an additional embedding to account for unknown tokens.\n",
    "                                tf.keras.layers.Embedding(len(unique_user_ids) + 1, embedding_dimension)\n",
    "                                ])\n",
    "\n",
    "model = RetailModel(user_model, item_model)\n",
    "\n",
    "# a smaller learning rate may make the model move slower and prone to overfitting, so we stick to 0.1\n",
    "# other optimizers, such as SGD and Adam, are listed here https://www.tensorflow.org/api_docs/python/tf/keras/optimizers\n",
    "model.compile(optimizer=tf.keras.optimizers.Adagrad(learning_rate=0.1))\n",
    "\n",
    "cached_train = train.shuffle(100_000).batch(8192).cache()\n",
    "cached_test = test.batch(4096).cache()\n",
    "\n",
    "## fit the model with ten epochs\n",
    "model_hist = model.fit(cached_train, epochs=10)\n",
    "\n",
    "#evaluate the model\n",
    "model.evaluate(cached_test, return_dict=True)"
   ]
  },
  {
   "cell_type": "code",
   "execution_count": null,
   "metadata": {
    "colab": {
     "base_uri": "https://localhost:8080/",
     "height": 489
    },
    "executionInfo": {
     "elapsed": 1250,
     "status": "ok",
     "timestamp": 1706463621353,
     "user": {
      "displayName": "nayan patra",
      "userId": "14931987797111771528"
     },
     "user_tz": 0
    },
    "id": "fl5aLPI3BhNy",
    "outputId": "2a32577d-879d-4ee7-eee5-c884773593c6"
   },
   "outputs": [
    {
     "data": {
      "text/plain": [
       "<matplotlib.legend.Legend at 0x7f5e701b0e80>"
      ]
     },
     "execution_count": 20,
     "metadata": {},
     "output_type": "execute_result"
    },
    {
     "data": {
      "image/png": "[encoded data removed]",
      "text/plain": [
       "<Figure size 640x480 with 1 Axes>"
      ]
     },
     "metadata": {},
     "output_type": "display_data"
    }
   ],
   "source": [
    "# num_validation_runs = len(one_layer_history.history[\"val_factorized_top_k/top_100_categorical_accuracy\"])\n",
    "epochs = [i for i in range(10)]\n",
    "\n",
    "plt.plot(epochs, model_hist.history[\"factorized_top_k/top_100_categorical_accuracy\"], label=\"accuracy\")\n",
    "plt.title(\"Accuracy vs epoch\")\n",
    "plt.xlabel(\"epoch\")\n",
    "plt.ylabel(\"Top-100 accuracy\");\n",
    "plt.legend()"
   ]
  },
  {
   "cell_type": "code",
   "execution_count": null,
   "metadata": {
    "id": "MQpVZmGYCJZE"
   },
   "outputs": [],
   "source": [
    "# Create a model that takes in raw query features, and\n",
    "index = tfrs.layers.factorized_top_k.BruteForce(model.user_model)\n",
    "# index"
   ]
  },
  {
   "cell_type": "code",
   "execution_count": null,
   "metadata": {
    "colab": {
     "base_uri": "https://localhost:8080/"
    },
    "executionInfo": {
     "elapsed": 855,
     "status": "ok",
     "timestamp": 1706464568212,
     "user": {
      "displayName": "nayan patra",
      "userId": "14931987797111771528"
     },
     "user_tz": 0
    },
    "id": "cCH4K05ECLhy",
    "outputId": "c8cb7952-8fc6-47c8-d70b-cf8bae69ac86"
   },
   "outputs": [
    {
     "name": "stderr",
     "output_type": "stream",
     "text": [
      "2024-04-21 19:14:46.899974: W tensorflow/core/framework/local_rendezvous.cc:404] Local rendezvous is aborting with status: OUT_OF_RANGE: End of sequence\n"
     ]
    },
    {
     "data": {
      "text/plain": [
       "<tensorflow_recommenders.layers.factorized_top_k.BruteForce at 0x7f5db0769540>"
      ]
     },
     "execution_count": 22,
     "metadata": {},
     "output_type": "execute_result"
    }
   ],
   "source": [
    "# recommends movies out of the entire movies dataset.\n",
    "index.index_from_dataset(items.batch(100).map(lambda title: (title, model.item_model(title))))"
   ]
  },
  {
   "cell_type": "code",
   "execution_count": null,
   "metadata": {
    "colab": {
     "base_uri": "https://localhost:8080/"
    },
    "executionInfo": {
     "elapsed": 9,
     "status": "ok",
     "timestamp": 1706464661658,
     "user": {
      "displayName": "nayan patra",
      "userId": "14931987797111771528"
     },
     "user_tz": 0
    },
    "id": "M1hIDiJRCNru",
    "outputId": "14bc1908-8ea7-4e2a-ddfd-f751ed55efc4"
   },
   "outputs": [
    {
     "name": "stdout",
     "output_type": "stream",
     "text": [
      "Recommendations for user 20: [b'health_beauty SKU 493' b'pet_shop SKU 111' b'drinks SKU 7']\n"
     ]
    }
   ],
   "source": [
    "# Get recommendations.\n",
    "_, titles = index(np.array([\"42\"]))\n",
    "print(f\"Recommendations for user %s: {titles[0, :3]}\" %(20))"
   ]
  },
  {
   "cell_type": "markdown",
   "metadata": {
    "id": "X6J4hP2bxwOT"
   },
   "source": [
    "**Ranking model**\n",
    "\n",
    "Ranking, on the other hand, takes the output of retrieval task and select a few best possible items, ranking them from top to bottom. It normally returns a probability score for each item, and sort them from highest score to lowest."
   ]
  },
  {
   "cell_type": "markdown",
   "metadata": {
    "id": "CrduZ6fuxyur"
   },
   "source": [
    "Other approaches that may be implemented:"
   ]
  },
  {
   "cell_type": "markdown",
   "metadata": {
    "id": "CrduZ6fuxyur"
   },
   "source": [
    "- Adding text and timestamp embedding"
   ]
  },
  {
   "cell_type": "markdown",
   "metadata": {
    "id": "0XNeG3box0q7"
   },
   "source": [
    "- Multitask recommendation, combining retrieval and ranking"
   ]
  },
  {
   "cell_type": "markdown",
   "metadata": {
    "id": "nbY4zzy7x2jv"
   },
   "source": [
    "- Add more features using Cross Network"
   ]
  }
 ],
 "metadata": {
  "colab": {
   "authorship_tag": "ABX9TyOPYV2X8YzgLBIf+1qidq0l",
   "provenance": []
  },
  "kernelspec": {
   "display_name": "Python new (.venv)",
   "language": "python",
   "name": ".venv"
  },
  "language_info": {
   "codemirror_mode": {
    "name": "ipython",
    "version": 3
   },
   "file_extension": ".py",
   "mimetype": "text/x-python",
   "name": "python",
   "nbconvert_exporter": "python",
   "pygments_lexer": "ipython3",
   "version": "3.10.13"
  }
 },
 "nbformat": 4,
 "nbformat_minor": 4
}
