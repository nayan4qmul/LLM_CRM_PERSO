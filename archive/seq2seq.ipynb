{
 "cells": [
  {
   "cell_type": "markdown",
   "id": "8b3876b9-f382-4627-8ede-17507cb424ec",
   "metadata": {},
   "source": [
    "Motivation:\n",
    "\n",
    "https://towardsdatascience.com/building-a-python-code-generator-4b476eec5804 (Building a Python Code Generator)\n",
    "\n",
    "https://github.com/divyam96/English-to-Python-Converter/tree/main (Github implementation)\n",
    "\n",
    "https://huggingface.co/docs/transformers/tasks/translation (HuggingFace Seq2Seq Translation)"
   ]
  },
  {
   "cell_type": "code",
   "execution_count": null,
   "id": "55c79613-31d2-418a-95e1-2565d612735f",
   "metadata": {
    "tags": []
   },
   "outputs": [],
   "source": [
    "#!wget \"https://drive.google.com/u/0/uc?id=1rHb0FQ5z5ZpaY2HpyFGY6CeyDG0kTLoO&export=download\" -O english_python_data.txt"
   ]
  },
  {
   "cell_type": "code",
   "execution_count": 1,
   "id": "154f7ac1-1481-47f1-a5d6-80e1bb617e6b",
   "metadata": {
    "tags": []
   },
   "outputs": [
    {
     "name": "stdout",
     "output_type": "stream",
     "text": [
      "Requirement already satisfied: transformers[torch] in /opt/conda/lib/python3.10/site-packages (4.37.2)\n",
      "Requirement already satisfied: filelock in /opt/conda/lib/python3.10/site-packages (from transformers[torch]) (3.9.0)\n",
      "Requirement already satisfied: huggingface-hub<1.0,>=0.19.3 in /opt/conda/lib/python3.10/site-packages (from transformers[torch]) (0.20.3)\n",
      "Requirement already satisfied: numpy>=1.17 in /opt/conda/lib/python3.10/site-packages (from transformers[torch]) (1.24.4)\n",
      "Requirement already satisfied: packaging>=20.0 in /opt/conda/lib/python3.10/site-packages (from transformers[torch]) (23.2)\n",
      "Requirement already satisfied: pyyaml>=5.1 in /opt/conda/lib/python3.10/site-packages (from transformers[torch]) (6.0.1)\n",
      "Requirement already satisfied: regex!=2019.12.17 in /opt/conda/lib/python3.10/site-packages (from transformers[torch]) (2023.12.25)\n",
      "Requirement already satisfied: requests in /opt/conda/lib/python3.10/site-packages (from transformers[torch]) (2.31.0)\n",
      "Requirement already satisfied: tokenizers<0.19,>=0.14 in /opt/conda/lib/python3.10/site-packages (from transformers[torch]) (0.15.2)\n",
      "Requirement already satisfied: safetensors>=0.4.1 in /opt/conda/lib/python3.10/site-packages (from transformers[torch]) (0.4.2)\n",
      "Requirement already satisfied: tqdm>=4.27 in /opt/conda/lib/python3.10/site-packages (from transformers[torch]) (4.66.1)\n",
      "Requirement already satisfied: torch!=1.12.0,>=1.11 in /opt/conda/lib/python3.10/site-packages (from transformers[torch]) (2.2.0+cu118)\n",
      "Requirement already satisfied: accelerate>=0.21.0 in /opt/conda/lib/python3.10/site-packages (from transformers[torch]) (0.27.2)\n",
      "Requirement already satisfied: psutil in /opt/conda/lib/python3.10/site-packages (from accelerate>=0.21.0->transformers[torch]) (5.9.5)\n",
      "Requirement already satisfied: fsspec>=2023.5.0 in /opt/conda/lib/python3.10/site-packages (from huggingface-hub<1.0,>=0.19.3->transformers[torch]) (2023.10.0)\n",
      "Requirement already satisfied: typing-extensions>=3.7.4.3 in /opt/conda/lib/python3.10/site-packages (from huggingface-hub<1.0,>=0.19.3->transformers[torch]) (4.8.0)\n",
      "Requirement already satisfied: sympy in /opt/conda/lib/python3.10/site-packages (from torch!=1.12.0,>=1.11->transformers[torch]) (1.12)\n",
      "Requirement already satisfied: networkx in /opt/conda/lib/python3.10/site-packages (from torch!=1.12.0,>=1.11->transformers[torch]) (3.2.1)\n",
      "Requirement already satisfied: jinja2 in /opt/conda/lib/python3.10/site-packages (from torch!=1.12.0,>=1.11->transformers[torch]) (3.1.2)\n",
      "Requirement already satisfied: nvidia-cuda-nvrtc-cu11==11.8.89 in /opt/conda/lib/python3.10/site-packages (from torch!=1.12.0,>=1.11->transformers[torch]) (11.8.89)\n",
      "Requirement already satisfied: nvidia-cuda-runtime-cu11==11.8.89 in /opt/conda/lib/python3.10/site-packages (from torch!=1.12.0,>=1.11->transformers[torch]) (11.8.89)\n",
      "Requirement already satisfied: nvidia-cuda-cupti-cu11==11.8.87 in /opt/conda/lib/python3.10/site-packages (from torch!=1.12.0,>=1.11->transformers[torch]) (11.8.87)\n",
      "Requirement already satisfied: nvidia-cudnn-cu11==8.7.0.84 in /opt/conda/lib/python3.10/site-packages (from torch!=1.12.0,>=1.11->transformers[torch]) (8.7.0.84)\n",
      "Requirement already satisfied: nvidia-cublas-cu11==11.11.3.6 in /opt/conda/lib/python3.10/site-packages (from torch!=1.12.0,>=1.11->transformers[torch]) (11.11.3.6)\n",
      "Requirement already satisfied: nvidia-cufft-cu11==10.9.0.58 in /opt/conda/lib/python3.10/site-packages (from torch!=1.12.0,>=1.11->transformers[torch]) (10.9.0.58)\n",
      "Requirement already satisfied: nvidia-curand-cu11==10.3.0.86 in /opt/conda/lib/python3.10/site-packages (from torch!=1.12.0,>=1.11->transformers[torch]) (10.3.0.86)\n",
      "Requirement already satisfied: nvidia-cusolver-cu11==11.4.1.48 in /opt/conda/lib/python3.10/site-packages (from torch!=1.12.0,>=1.11->transformers[torch]) (11.4.1.48)\n",
      "Requirement already satisfied: nvidia-cusparse-cu11==11.7.5.86 in /opt/conda/lib/python3.10/site-packages (from torch!=1.12.0,>=1.11->transformers[torch]) (11.7.5.86)\n",
      "Requirement already satisfied: nvidia-nccl-cu11==2.19.3 in /opt/conda/lib/python3.10/site-packages (from torch!=1.12.0,>=1.11->transformers[torch]) (2.19.3)\n",
      "Requirement already satisfied: nvidia-nvtx-cu11==11.8.86 in /opt/conda/lib/python3.10/site-packages (from torch!=1.12.0,>=1.11->transformers[torch]) (11.8.86)\n",
      "Requirement already satisfied: triton==2.2.0 in /opt/conda/lib/python3.10/site-packages (from torch!=1.12.0,>=1.11->transformers[torch]) (2.2.0)\n",
      "Requirement already satisfied: charset-normalizer<4,>=2 in /opt/conda/lib/python3.10/site-packages (from requests->transformers[torch]) (3.3.1)\n",
      "Requirement already satisfied: idna<4,>=2.5 in /opt/conda/lib/python3.10/site-packages (from requests->transformers[torch]) (3.4)\n",
      "Requirement already satisfied: urllib3<3,>=1.21.1 in /opt/conda/lib/python3.10/site-packages (from requests->transformers[torch]) (2.0.7)\n",
      "Requirement already satisfied: certifi>=2017.4.17 in /opt/conda/lib/python3.10/site-packages (from requests->transformers[torch]) (2023.7.22)\n",
      "Requirement already satisfied: MarkupSafe>=2.0 in /opt/conda/lib/python3.10/site-packages (from jinja2->torch!=1.12.0,>=1.11->transformers[torch]) (2.1.3)\n",
      "Requirement already satisfied: mpmath>=0.19 in /opt/conda/lib/python3.10/site-packages (from sympy->torch!=1.12.0,>=1.11->transformers[torch]) (1.3.0)\n"
     ]
    }
   ],
   "source": [
    "!pip install transformers[torch]"
   ]
  },
  {
   "cell_type": "code",
   "execution_count": 2,
   "id": "03e80deb-c30b-4764-bc72-0676101555d5",
   "metadata": {
    "tags": []
   },
   "outputs": [],
   "source": [
    "import pandas as pd\n",
    "import numpy as np\n",
    "\n",
    "np.random.seed(0)\n",
    "\n",
    "with open(\"english_python_data.txt\", \"r\") as f:\n",
    "    file_lines = f.readlines()\n",
    "\n",
    "dps = []\n",
    "current_question = None\n",
    "current_solution = []\n",
    "\n",
    "for line in file_lines:\n",
    "    if line.startswith(\"#\"):\n",
    "        if current_question is not None:\n",
    "            dps.append({\"question\": current_question, \"solution\": ''.join(current_solution)})\n",
    "        current_question = line[1:].strip()\n",
    "        current_solution = []\n",
    "    else:\n",
    "        current_solution.append(line)\n",
    "\n",
    "if current_question is not None:\n",
    "    dps.append({\"question\": current_question, \"solution\": ''.join(current_solution)})\n",
    "\n",
    "python_problems_df = pd.DataFrame(dps)\n",
    "\n",
    "msk = np.random.rand(len(python_problems_df)) < 0.8\n",
    "\n",
    "train_df = python_problems_df[msk]\n",
    "val_df = python_problems_df[~msk]"
   ]
  },
  {
   "cell_type": "code",
   "execution_count": 3,
   "id": "650e8f00-4e60-490c-918a-d8253b17d496",
   "metadata": {
    "tags": []
   },
   "outputs": [
    {
     "name": "stdout",
     "output_type": "stream",
     "text": [
      "Count before augmentation: 3970\n",
      "Count after augmentation: 7023\n"
     ]
    }
   ],
   "source": [
    "def augment_dataframe(train_df):\n",
    "    augmented_rows = []\n",
    "\n",
    "    for index, row in train_df.iterrows():\n",
    "        solution = row[\"solution\"]\n",
    "        \n",
    "        augmented_row_1 = row.copy()\n",
    "        augmented_solution_1 = solution.replace(\"num1\", \"x\").replace(\"num2\", \"y\").replace(\"num3\", \"z\") \\\n",
    "                                        .replace(\"num\", \"number\") \\\n",
    "                                        .replace(\"largest\", \"highest\").replace(\"smallest\", \"lowest\") \\\n",
    "                                        .replace(\"l1\", \"list1\").replace(\"l2\", \"list2\") \\\n",
    "                                        .replace(\" i \", \" j \") \\\n",
    "                                        .replace(\"x\", \"num\")\n",
    "        if augmented_solution_1 != solution:\n",
    "            augmented_row_1[\"solution\"] = augmented_solution_1\n",
    "            augmented_rows.append(augmented_row_1)\n",
    "\n",
    "        augmented_row_2 = row.copy()\n",
    "        augmented_solution_2 = solution.replace(\"num1\", \"first\").replace(\"num2\", \"second\").replace(\"num3\", \"third\") \\\n",
    "                                        .replace(\" i \", \" k \") \\\n",
    "                                        .replace(\"num\", \"x\")\n",
    "        if augmented_solution_2 != solution:\n",
    "            augmented_row_2[\"solution\"] = augmented_solution_2\n",
    "            augmented_rows.append(augmented_row_2)\n",
    "\n",
    "        augmented_row_3 = row.copy()\n",
    "        augmented_solution_3 = solution.replace(\"num1\", \"a\").replace(\"num2\", \"b\").replace(\"num2\", \"c\")\n",
    "        if augmented_solution_3 != solution:\n",
    "            augmented_row_3[\"solution\"] = augmented_solution_3\n",
    "            augmented_rows.append(augmented_row_3)\n",
    "\n",
    "        augmented_row_4 = row.copy()\n",
    "        augmented_solution_4 = solution.replace(\"num1\", \"var1\").replace(\"num2\", \"var2\").replace(\"num2\", \"var3\")\n",
    "        if augmented_solution_4 != solution:\n",
    "            augmented_row_4[\"solution\"] = augmented_solution_4\n",
    "            augmented_rows.append(augmented_row_4)\n",
    "\n",
    "    augmented_train_df = pd.DataFrame(augmented_rows)\n",
    "    return augmented_train_df\n",
    "\n",
    "augmented_train_df = pd.concat([train_df, augment_dataframe(train_df)], ignore_index=True).reset_index()\n",
    "\n",
    "count_before = len(train_df)\n",
    "count_after = len(augmented_train_df)\n",
    "\n",
    "print(\"Count before augmentation:\", count_before)\n",
    "print(\"Count after augmentation:\", count_after)"
   ]
  },
  {
   "cell_type": "code",
   "execution_count": null,
   "id": "7907e102-7414-4930-a736-f3062a23ca01",
   "metadata": {
    "tags": []
   },
   "outputs": [],
   "source": [
    "train_df.iloc[10][\"question\"]"
   ]
  },
  {
   "cell_type": "code",
   "execution_count": null,
   "id": "63e47e27-7d54-4857-a130-0a83f3b8b12b",
   "metadata": {
    "tags": []
   },
   "outputs": [],
   "source": [
    "train_df.iloc[10][\"solution\"]"
   ]
  },
  {
   "cell_type": "code",
   "execution_count": 4,
   "id": "3d766367-07df-4b53-aeef-f20259a0f497",
   "metadata": {
    "tags": []
   },
   "outputs": [
    {
     "ename": "FileNotFoundError",
     "evalue": "[Errno 2] No such file or directory: 'codet5_large_python_code_gen'",
     "output_type": "error",
     "traceback": [
      "\u001b[0;31m---------------------------------------------------------------------------\u001b[0m",
      "\u001b[0;31mFileNotFoundError\u001b[0m                         Traceback (most recent call last)",
      "Cell \u001b[0;32mIn[4], line 14\u001b[0m\n\u001b[1;32m     10\u001b[0m     os\u001b[38;5;241m.\u001b[39mrmdir(directory)\n\u001b[1;32m     12\u001b[0m directory_to_clear \u001b[38;5;241m=\u001b[39m \u001b[38;5;124m\"\u001b[39m\u001b[38;5;124mcodet5_large_python_code_gen\u001b[39m\u001b[38;5;124m\"\u001b[39m\n\u001b[0;32m---> 14\u001b[0m \u001b[43mclear_directory\u001b[49m\u001b[43m(\u001b[49m\u001b[43mdirectory_to_clear\u001b[49m\u001b[43m)\u001b[49m\n",
      "Cell \u001b[0;32mIn[4], line 10\u001b[0m, in \u001b[0;36mclear_directory\u001b[0;34m(directory)\u001b[0m\n\u001b[1;32m      8\u001b[0m     \u001b[38;5;28;01mfor\u001b[39;00m name \u001b[38;5;129;01min\u001b[39;00m dirs:\n\u001b[1;32m      9\u001b[0m         os\u001b[38;5;241m.\u001b[39mrmdir(os\u001b[38;5;241m.\u001b[39mpath\u001b[38;5;241m.\u001b[39mjoin(root, name))\n\u001b[0;32m---> 10\u001b[0m \u001b[43mos\u001b[49m\u001b[38;5;241;43m.\u001b[39;49m\u001b[43mrmdir\u001b[49m\u001b[43m(\u001b[49m\u001b[43mdirectory\u001b[49m\u001b[43m)\u001b[49m\n",
      "\u001b[0;31mFileNotFoundError\u001b[0m: [Errno 2] No such file or directory: 'codet5_large_python_code_gen'"
     ]
    }
   ],
   "source": [
    "import shutil\n",
    "import os\n",
    "\n",
    "def clear_directory(directory):\n",
    "    for root, dirs, files in os.walk(directory, topdown=False):\n",
    "        for name in files:\n",
    "            os.remove(os.path.join(root, name))\n",
    "        for name in dirs:\n",
    "            os.rmdir(os.path.join(root, name))\n",
    "    os.rmdir(directory)\n",
    "\n",
    "directory_to_clear = \"codet5_large_python_code_gen\"\n",
    "\n",
    "clear_directory(directory_to_clear)"
   ]
  },
  {
   "cell_type": "code",
   "execution_count": 5,
   "id": "e080a90d-031a-4b15-8e50-486f5190465c",
   "metadata": {
    "tags": []
   },
   "outputs": [
    {
     "name": "stderr",
     "output_type": "stream",
     "text": [
      "2024-02-16 14:09:51.703599: I tensorflow/core/util/port.cc:113] oneDNN custom operations are on. You may see slightly different numerical results due to floating-point round-off errors from different computation orders. To turn them off, set the environment variable `TF_ENABLE_ONEDNN_OPTS=0`.\n",
      "2024-02-16 14:09:51.744347: E external/local_xla/xla/stream_executor/cuda/cuda_dnn.cc:9261] Unable to register cuDNN factory: Attempting to register factory for plugin cuDNN when one has already been registered\n",
      "2024-02-16 14:09:51.744389: E external/local_xla/xla/stream_executor/cuda/cuda_fft.cc:607] Unable to register cuFFT factory: Attempting to register factory for plugin cuFFT when one has already been registered\n",
      "2024-02-16 14:09:51.745457: E external/local_xla/xla/stream_executor/cuda/cuda_blas.cc:1515] Unable to register cuBLAS factory: Attempting to register factory for plugin cuBLAS when one has already been registered\n",
      "2024-02-16 14:09:51.752181: I tensorflow/core/platform/cpu_feature_guard.cc:182] This TensorFlow binary is optimized to use available CPU instructions in performance-critical operations.\n",
      "To enable the following instructions: AVX2 AVX512F AVX512_VNNI FMA, in other operations, rebuild TensorFlow with the appropriate compiler flags.\n",
      "2024-02-16 14:09:52.501993: W tensorflow/compiler/tf2tensorrt/utils/py_utils.cc:38] TF-TRT Warning: Could not find TensorRT\n"
     ]
    },
    {
     "name": "stdout",
     "output_type": "stream",
     "text": [
      "Training is using 1 GPU(s).\n"
     ]
    },
    {
     "data": {
      "text/html": [
       "\n",
       "    <div>\n",
       "      \n",
       "      <progress value='1317' max='1317' style='width:300px; height:20px; vertical-align: middle;'></progress>\n",
       "      [1317/1317 05:42, Epoch 3/3]\n",
       "    </div>\n",
       "    <table border=\"1\" class=\"dataframe\">\n",
       "  <thead>\n",
       " <tr style=\"text-align: left;\">\n",
       "      <th>Epoch</th>\n",
       "      <th>Training Loss</th>\n",
       "      <th>Validation Loss</th>\n",
       "    </tr>\n",
       "  </thead>\n",
       "  <tbody>\n",
       "    <tr>\n",
       "      <td>1</td>\n",
       "      <td>No log</td>\n",
       "      <td>0.873991</td>\n",
       "    </tr>\n",
       "    <tr>\n",
       "      <td>2</td>\n",
       "      <td>2.443000</td>\n",
       "      <td>0.729998</td>\n",
       "    </tr>\n",
       "    <tr>\n",
       "      <td>3</td>\n",
       "      <td>0.712200</td>\n",
       "      <td>0.696153</td>\n",
       "    </tr>\n",
       "  </tbody>\n",
       "</table><p>"
      ],
      "text/plain": [
       "<IPython.core.display.HTML object>"
      ]
     },
     "metadata": {},
     "output_type": "display_data"
    },
    {
     "data": {
      "text/html": [],
      "text/plain": [
       "<IPython.core.display.HTML object>"
      ]
     },
     "metadata": {},
     "output_type": "display_data"
    }
   ],
   "source": [
    "from transformers import TrainerCallback, EarlyStoppingCallback, AutoTokenizer, T5ForConditionalGeneration, AutoModelForSeq2SeqLM, DataCollatorForSeq2Seq, Seq2SeqTrainingArguments, Seq2SeqTrainer\n",
    "import torch\n",
    "from torch.utils.data import Dataset\n",
    "\n",
    "if torch.cuda.is_available():\n",
    "    num_gpus = torch.cuda.device_count()\n",
    "    print(f\"Training is using {num_gpus} GPU(s).\")\n",
    "else:\n",
    "    print(\"Training is using CPU.\")\n",
    "\n",
    "class CustomDataset(Dataset):\n",
    "    def __init__(self, data, tokenizer, max_length):\n",
    "        self.data = data\n",
    "        self.tokenizer = tokenizer\n",
    "        self.max_length = max_length\n",
    "\n",
    "    def __len__(self):\n",
    "        return len(self.data)\n",
    "\n",
    "    def __getitem__(self, idx):\n",
    "        item = self.data.iloc[idx]\n",
    "        inputs = item['question']\n",
    "        targets = item['solution']\n",
    "        \n",
    "        encoding = self.tokenizer(\n",
    "            inputs,\n",
    "            text_target=targets,\n",
    "            max_length=self.max_length,\n",
    "            truncation=True,\n",
    "            padding=\"max_length\"\n",
    "        )\n",
    "        \n",
    "        labels = encoding.pop(\"labels\")\n",
    "        encoding[\"labels\"] = labels\n",
    "        \n",
    "        return encoding\n",
    "\n",
    "# max_solution_length = max(len(i) for i in python_problems_df['question'] + ' ' + python_problems_df['solution'])\n",
    "max_solution_length = 64\n",
    "\n",
    "checkpoint = \"Salesforce/codet5-large\" # \"t5-small\" # \n",
    "tokenizer = AutoTokenizer.from_pretrained(checkpoint)\n",
    "model = AutoModelForSeq2SeqLM.from_pretrained(checkpoint)\n",
    "\n",
    "# model = T5ForConditionalGeneration.from_pretrained(checkpoint) # for codet5\n",
    "\n",
    "train_dataset = CustomDataset(augmented_train_df, tokenizer, max_solution_length)\n",
    "val_dataset = CustomDataset(val_df, tokenizer, max_solution_length)\n",
    "\n",
    "data_collator = DataCollatorForSeq2Seq(tokenizer=tokenizer, model=checkpoint)\n",
    "\n",
    "training_args = Seq2SeqTrainingArguments(\n",
    "    output_dir=directory_to_clear,\n",
    "    evaluation_strategy=\"epoch\",\n",
    "    learning_rate=2e-5,\n",
    "    per_device_train_batch_size=16,\n",
    "    per_device_eval_batch_size=16,\n",
    "    weight_decay=0.01,\n",
    "    save_total_limit=3,\n",
    "    num_train_epochs=3,\n",
    "    predict_with_generate=True,\n",
    "    fp16=True,\n",
    "    push_to_hub=False,\n",
    "    # load_best_model_at_end=True,\n",
    "    # metric_for_best_model=\"val_loss\",\n",
    "    # greater_is_better=False,\n",
    "    # save_strategy=\"epoch\"\n",
    ")\n",
    "\n",
    "class LabelSmoothingCrossEntropyLoss(torch.nn.Module):\n",
    "    def __init__(self, smoothing=0.1, reduction='mean', ignore_index=-100):\n",
    "        super(LabelSmoothingCrossEntropyLoss, self).__init__()\n",
    "        self.smoothing = smoothing\n",
    "        self.reduction = reduction\n",
    "        self.ignore_index = ignore_index\n",
    "\n",
    "    def forward(self, input, target):\n",
    "        log_prob = torch.nn.functional.log_softmax(input, dim=-1)\n",
    "        nll_loss = -log_prob.gather(dim=-1, index=target.unsqueeze(1))\n",
    "        nll_loss = nll_loss.squeeze(1)\n",
    "\n",
    "        if self.ignore_index is not None:\n",
    "            pad_mask = target.eq(self.ignore_index)\n",
    "            nll_loss.masked_fill_(pad_mask, 0.0)\n",
    "\n",
    "        smooth_loss = -log_prob.mean(dim=-1)\n",
    "\n",
    "        if self.reduction == 'sum':\n",
    "            smooth_loss = smooth_loss.sum()\n",
    "            nll_loss = nll_loss.sum()\n",
    "        elif self.reduction == 'mean':\n",
    "            smooth_loss = smooth_loss.mean()\n",
    "            nll_loss = nll_loss.mean()\n",
    "\n",
    "        loss = (1.0 - self.smoothing) * nll_loss + self.smoothing * smooth_loss\n",
    "        return loss\n",
    "\n",
    "def custom_compute_loss(model, inputs, labels, **kwargs):\n",
    "    outputs = model(**inputs, labels=labels)\n",
    "    logits = outputs.logits\n",
    "    labels = inputs.pop(\"labels\")\n",
    "    loss_fn = LabelSmoothingCrossEntropyLoss(smoothing=0.1) # torch.nn.CrossEntropyLoss()\n",
    "    loss = loss_fn(logits.view(-1, logits.shape[-1]), labels.view(-1))\n",
    "    return loss\n",
    "\n",
    "training_args.loss_fn = custom_compute_loss\n",
    "\n",
    "trainer = Seq2SeqTrainer(\n",
    "    model=model,\n",
    "    args=training_args,\n",
    "    train_dataset=train_dataset,\n",
    "    eval_dataset=val_dataset,\n",
    "    tokenizer=tokenizer,\n",
    "    data_collator=data_collator,\n",
    "    # callbacks=[EarlyStoppingCallback(early_stopping_patience=3)]\n",
    ")\n",
    "\n",
    "trainer.train()\n",
    "\n",
    "predictions = trainer.predict(val_dataset, max_new_tokens=64)"
   ]
  },
  {
   "cell_type": "code",
   "execution_count": 14,
   "id": "5da000b0-5fef-4de5-a334-61d3f68b6bde",
   "metadata": {},
   "outputs": [
    {
     "name": "stdout",
     "output_type": "stream",
     "text": [
      "Question:\n",
      "Write a function to calculate simple interest, given p, r, t\n",
      "\n",
      "True Solution:\n",
      "def simp_int(p, r, t):\n",
      "    interest = (p*r*t)/100\n",
      "    return interest\n",
      "\n",
      "\n",
      "\n",
      "\n",
      "Predicted Solution:\n",
      "def simple_interest(p, r, t):\n",
      "    return (p*r*t)/100\n",
      "\n",
      "\n"
     ]
    }
   ],
   "source": [
    "def print_example(index, val_dataset, predictions, tokenizer, val_df):\n",
    "\n",
    "    example = val_dataset[index]\n",
    "    \n",
    "    question = tokenizer.decode(example[\"input_ids\"], skip_special_tokens=True)\n",
    "    solution = tokenizer.decode(example[\"labels\"], skip_special_tokens=True)\n",
    "    prediction = tokenizer.decode(predictions.predictions[index], skip_special_tokens=True)\n",
    "\n",
    "    print(\"Question:\")\n",
    "    print(question)\n",
    "    print(\"\\nTrue Solution:\")\n",
    "    print(solution)\n",
    "    print(\"\\nPredicted Solution:\")\n",
    "    print(prediction)\n",
    "\n",
    "example_index = 7\n",
    "\n",
    "print_example(example_index, val_dataset, predictions, tokenizer, val_df)"
   ]
  },
  {
   "cell_type": "code",
   "execution_count": 7,
   "id": "f6eea12d-c485-4a1f-8e3b-e4c105de0754",
   "metadata": {
    "tags": []
   },
   "outputs": [
    {
     "name": "stdout",
     "output_type": "stream",
     "text": [
      "Generated Solution:\n",
      "def sum_two_numbers(num, y):\n",
      "    sum = num + y\n",
      "    print(f'Sum: {sum}')\n",
      "\n",
      "\n"
     ]
    }
   ],
   "source": [
    "import torch\n",
    "\n",
    "def generate_solution(user_text, trainer, tokenizer, max_length=64):\n",
    "    input_ids = tokenizer.encode(user_text, max_length=max_length, truncation=True, return_tensors=\"pt\")\n",
    "    input_ids = input_ids.to(trainer.args.device)\n",
    "\n",
    "    output_ids = trainer.model.generate(input_ids, max_length=max_length, num_beams=4, early_stopping=True)\n",
    "\n",
    "    generated_solution = tokenizer.decode(output_ids[0], skip_special_tokens=True)\n",
    "    \n",
    "    return generated_solution\n",
    "\n",
    "user_text = \"write a function to print sum of two number\"\n",
    "generated_solution = generate_solution(user_text, trainer, tokenizer)\n",
    "print(\"Generated Solution:\")\n",
    "print(generated_solution)"
   ]
  },
  {
   "cell_type": "code",
   "execution_count": 8,
   "id": "371cc08d-963b-4b9c-9eed-6745a7d73d48",
   "metadata": {
    "tags": []
   },
   "outputs": [
    {
     "name": "stdout",
     "output_type": "stream",
     "text": [
      "Generated Solution:\n",
      "a = 1.5\n",
      "b = 6.3\n",
      "sum = a + b\n",
      "print(f'Sum: {sum}')\n",
      "\n",
      "\n"
     ]
    }
   ],
   "source": [
    "user_text = \"print sum of two number\"\n",
    "generated_solution = generate_solution(user_text, trainer, tokenizer)\n",
    "print(\"Generated Solution:\")\n",
    "print(generated_solution)"
   ]
  },
  {
   "cell_type": "code",
   "execution_count": null,
   "id": "3381fcdb-bc3c-4058-b453-54fbbe09f64c",
   "metadata": {
    "tags": []
   },
   "outputs": [],
   "source": [
    "tokenizer = AutoTokenizer.from_pretrained(\"Salesforce/codet5-large\")\n",
    "model = T5ForConditionalGeneration.from_pretrained(\"Salesforce/codet5-large\")\n",
    "\n",
    "text = \"def greet(user): print(f'hello <extra_id_0>!')\"\n",
    "input_ids = tokenizer(text, return_tensors=\"pt\").input_ids\n",
    "\n",
    "# simply generate a single sequence\n",
    "generated_ids = model.generate(input_ids, max_length=8)\n",
    "print(tokenizer.decode(generated_ids[0], skip_special_tokens=True))\n",
    "\n",
    "text = \"Write a python function to greet an user\"\n",
    "input_ids = tokenizer(text, return_tensors=\"pt\").input_ids\n",
    "\n",
    "# simply generate a single sequence\n",
    "generated_ids = model.generate(input_ids, max_length=8)\n",
    "print(tokenizer.decode(generated_ids[0], skip_special_tokens=True))"
   ]
  },
  {
   "cell_type": "code",
   "execution_count": null,
   "id": "3eaa2582-e1b0-4fe4-94cf-d45e25cced2e",
   "metadata": {},
   "outputs": [],
   "source": []
  }
 ],
 "metadata": {
  "kernelspec": {
   "display_name": "Python 3 (ipykernel)",
   "language": "python",
   "name": "python3"
  },
  "language_info": {
   "codemirror_mode": {
    "name": "ipython",
    "version": 3
   },
   "file_extension": ".py",
   "mimetype": "text/x-python",
   "name": "python",
   "nbconvert_exporter": "python",
   "pygments_lexer": "ipython3",
   "version": "3.10.13"
  }
 },
 "nbformat": 4,
 "nbformat_minor": 5
}
