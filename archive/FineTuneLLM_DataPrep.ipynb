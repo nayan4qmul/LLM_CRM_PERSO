{
 "cells": [
  {
   "cell_type": "code",
   "execution_count": 18,
   "id": "bc4ebc13-fe8d-4830-ab16-8c410f06aeb2",
   "metadata": {
    "tags": []
   },
   "outputs": [
    {
     "name": "stderr",
     "output_type": "stream",
     "text": [
      "/tmp/ipykernel_610/1426484103.py:72: SettingWithCopyWarning: \n",
      "A value is trying to be set on a copy of a slice from a DataFrame.\n",
      "Try using .loc[row_indexer,col_indexer] = value instead\n",
      "\n",
      "See the caveats in the documentation: https://pandas.pydata.org/pandas-docs/stable/user_guide/indexing.html#returning-a-view-versus-a-copy\n",
      "  train_df['context'] = train_df.apply(alt_extract_function_info, axis=1)\n",
      "/tmp/ipykernel_610/1426484103.py:73: SettingWithCopyWarning: \n",
      "A value is trying to be set on a copy of a slice from a DataFrame.\n",
      "Try using .loc[row_indexer,col_indexer] = value instead\n",
      "\n",
      "See the caveats in the documentation: https://pandas.pydata.org/pandas-docs/stable/user_guide/indexing.html#returning-a-view-versus-a-copy\n",
      "  val_df['context'] = val_df.apply(alt_extract_function_info, axis=1)\n"
     ]
    }
   ],
   "source": [
    "import re\n",
    "import pandas as pd\n",
    "import numpy as np\n",
    "\n",
    "### Data Source 1 ###\n",
    "\n",
    "data = pd.read_json(\"sanitized-mbpp.json\")\n",
    "\n",
    "def extract_function_info(row):\n",
    "    match = re.search(r'def\\s+([\\w_]+)\\((.*?)\\):([\\s\\S]*?)\\n', row.code)\n",
    "    if match:\n",
    "        function_name = match.group(1)\n",
    "        arguments = match.group(2).split(',')\n",
    "        return \"Given function arguments \" + ','.join(arguments)\n",
    "\n",
    "data['context'] = data.apply(extract_function_info, axis=1)\n",
    "\n",
    "system_message = \"\"\"You are an text to PYTHON function translator. Users will ask you questions in English and you will generate a PYTHON function based on the provided CONTEXT.\n",
    "CONTEXT:\n",
    "{context}\"\"\"\n",
    "\n",
    "def create_conversation(sample):\n",
    "    return {\n",
    "        \"messages\": [\n",
    "            {\"role\": \"system\", \"content\": system_message.format(context=sample[\"context\"])},\n",
    "            {\"role\": \"user\", \"content\": sample[\"prompt\"]},\n",
    "            {\"role\": \"assistant\", \"content\": sample[\"code\"]}\n",
    "        ]\n",
    "    }\n",
    "\n",
    "dataset = data.apply(create_conversation, axis=1)\n",
    "dataset = dataset.sample(frac=1, random_state=42).reset_index(drop=True)\n",
    "train_idx = int(len(dataset)*0.8)\n",
    "train = dataset[:train_idx]\n",
    "test = dataset[train_idx:]\n",
    "\n",
    "### Data Source 2 ###\n",
    "\n",
    "with open(\"english_python_data.txt\", \"r\") as f:\n",
    "    file_lines = f.readlines()\n",
    "\n",
    "dps = []\n",
    "current_question = None\n",
    "current_solution = []\n",
    "\n",
    "for line in file_lines:\n",
    "    if line.startswith(\"#\"):\n",
    "        if current_question is not None:\n",
    "            dps.append({\"question\": current_question, \"solution\": ''.join(current_solution)})\n",
    "        current_question = line[1:].strip()\n",
    "        current_solution = []\n",
    "    else:\n",
    "        current_solution.append(line)\n",
    "\n",
    "if current_question is not None:\n",
    "    dps.append({\"question\": current_question, \"solution\": ''.join(current_solution)})\n",
    "\n",
    "python_problems_df = pd.DataFrame(dps)\n",
    "\n",
    "msk = np.random.rand(len(python_problems_df)) < 0.8\n",
    "\n",
    "train_df = python_problems_df[msk]\n",
    "val_df = python_problems_df[~msk]\n",
    "\n",
    "def alt_extract_function_info(row):\n",
    "    match = re.search(r'def\\s+([\\w_]+)\\((.*?)\\):([\\s\\S]*?)\\n', row.solution)\n",
    "    if match:\n",
    "        function_name = match.group(1)\n",
    "        arguments = match.group(2).split(',')\n",
    "        return \"Given function arguments \" + ','.join(arguments)\n",
    "\n",
    "train_df['context'] = train_df.apply(alt_extract_function_info, axis=1)\n",
    "val_df['context'] = val_df.apply(alt_extract_function_info, axis=1)\n",
    "\n",
    "system_message = \"\"\"You are an text to PYTHON function translator. Users will ask you questions in English and you will generate a PYTHON function based on the provided CONTEXT.\n",
    "CONTEXT:\n",
    "{context}\"\"\"\n",
    "\n",
    "def create_conversation(sample):\n",
    "    return {\n",
    "        \"messages\": [\n",
    "            {\"role\": \"system\", \"content\": system_message.format(context=sample[\"context\"])},\n",
    "            {\"role\": \"user\", \"content\": sample[\"question\"]},\n",
    "            {\"role\": \"assistant\", \"content\": sample[\"solution\"]}\n",
    "        ]\n",
    "    }\n",
    "\n",
    "train_dataset = train_df.apply(create_conversation, axis=1)\n",
    "val_dataset = val_df.apply(create_conversation, axis=1)\n",
    "\n",
    "concatenated_train = pd.concat([train, train_dataset], axis=0)\n",
    "concatenated_test = pd.concat([test, val_dataset], axis=0)\n",
    "\n",
    "randomized_concatenated_train = concatenated_train.sample(frac=1).reset_index(drop=True)\n",
    "randomized_concatenated_test = concatenated_test.sample(frac=1).reset_index(drop=True)\n",
    "\n",
    "randomized_concatenated_train.to_json(\"train_dataset.json\", orient=\"records\")\n",
    "randomized_concatenated_test.to_json(\"test_dataset.json\", orient=\"records\")"
   ]
  },
  {
   "cell_type": "code",
   "execution_count": 19,
   "id": "db55bb4f-817e-40ab-84d8-f03a2ce4aae1",
   "metadata": {
    "tags": []
   },
   "outputs": [
    {
     "data": {
      "text/plain": [
       "(4309, 1076)"
      ]
     },
     "execution_count": 19,
     "metadata": {},
     "output_type": "execute_result"
    }
   ],
   "source": [
    "len(randomized_concatenated_train), len(randomized_concatenated_test)"
   ]
  }
 ],
 "metadata": {
  "kernelspec": {
   "display_name": "Python new (.venv)",
   "language": "python",
   "name": ".venv"
  },
  "language_info": {
   "codemirror_mode": {
    "name": "ipython",
    "version": 3
   },
   "file_extension": ".py",
   "mimetype": "text/x-python",
   "name": "python",
   "nbconvert_exporter": "python",
   "pygments_lexer": "ipython3",
   "version": "3.10.13"
  }
 },
 "nbformat": 4,
 "nbformat_minor": 5
}
