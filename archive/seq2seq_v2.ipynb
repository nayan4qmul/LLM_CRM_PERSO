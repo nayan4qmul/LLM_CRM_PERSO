{
 "cells": [
  {
   "cell_type": "code",
   "execution_count": 1,
   "id": "154f7ac1-1481-47f1-a5d6-80e1bb617e6b",
   "metadata": {
    "tags": []
   },
   "outputs": [
    {
     "name": "stdout",
     "output_type": "stream",
     "text": [
      "Requirement already satisfied: transformers[torch] in /opt/conda/lib/python3.10/site-packages (4.37.2)\n",
      "Requirement already satisfied: filelock in /opt/conda/lib/python3.10/site-packages (from transformers[torch]) (3.9.0)\n",
      "Requirement already satisfied: huggingface-hub<1.0,>=0.19.3 in /opt/conda/lib/python3.10/site-packages (from transformers[torch]) (0.20.3)\n",
      "Requirement already satisfied: numpy>=1.17 in /opt/conda/lib/python3.10/site-packages (from transformers[torch]) (1.24.4)\n",
      "Requirement already satisfied: packaging>=20.0 in /opt/conda/lib/python3.10/site-packages (from transformers[torch]) (23.2)\n",
      "Requirement already satisfied: pyyaml>=5.1 in /opt/conda/lib/python3.10/site-packages (from transformers[torch]) (6.0.1)\n",
      "Requirement already satisfied: regex!=2019.12.17 in /opt/conda/lib/python3.10/site-packages (from transformers[torch]) (2023.12.25)\n",
      "Requirement already satisfied: requests in /opt/conda/lib/python3.10/site-packages (from transformers[torch]) (2.31.0)\n",
      "Requirement already satisfied: tokenizers<0.19,>=0.14 in /opt/conda/lib/python3.10/site-packages (from transformers[torch]) (0.15.2)\n",
      "Requirement already satisfied: safetensors>=0.4.1 in /opt/conda/lib/python3.10/site-packages (from transformers[torch]) (0.4.2)\n",
      "Requirement already satisfied: tqdm>=4.27 in /opt/conda/lib/python3.10/site-packages (from transformers[torch]) (4.66.1)\n",
      "Requirement already satisfied: torch!=1.12.0,>=1.11 in /opt/conda/lib/python3.10/site-packages (from transformers[torch]) (2.2.0+cu118)\n",
      "Requirement already satisfied: accelerate>=0.21.0 in /opt/conda/lib/python3.10/site-packages (from transformers[torch]) (0.27.2)\n",
      "Requirement already satisfied: psutil in /opt/conda/lib/python3.10/site-packages (from accelerate>=0.21.0->transformers[torch]) (5.9.5)\n",
      "Requirement already satisfied: fsspec>=2023.5.0 in /opt/conda/lib/python3.10/site-packages (from huggingface-hub<1.0,>=0.19.3->transformers[torch]) (2023.10.0)\n",
      "Requirement already satisfied: typing-extensions>=3.7.4.3 in /opt/conda/lib/python3.10/site-packages (from huggingface-hub<1.0,>=0.19.3->transformers[torch]) (4.8.0)\n",
      "Requirement already satisfied: sympy in /opt/conda/lib/python3.10/site-packages (from torch!=1.12.0,>=1.11->transformers[torch]) (1.12)\n",
      "Requirement already satisfied: networkx in /opt/conda/lib/python3.10/site-packages (from torch!=1.12.0,>=1.11->transformers[torch]) (3.2.1)\n",
      "Requirement already satisfied: jinja2 in /opt/conda/lib/python3.10/site-packages (from torch!=1.12.0,>=1.11->transformers[torch]) (3.1.2)\n",
      "Requirement already satisfied: nvidia-cuda-nvrtc-cu11==11.8.89 in /opt/conda/lib/python3.10/site-packages (from torch!=1.12.0,>=1.11->transformers[torch]) (11.8.89)\n",
      "Requirement already satisfied: nvidia-cuda-runtime-cu11==11.8.89 in /opt/conda/lib/python3.10/site-packages (from torch!=1.12.0,>=1.11->transformers[torch]) (11.8.89)\n",
      "Requirement already satisfied: nvidia-cuda-cupti-cu11==11.8.87 in /opt/conda/lib/python3.10/site-packages (from torch!=1.12.0,>=1.11->transformers[torch]) (11.8.87)\n",
      "Requirement already satisfied: nvidia-cudnn-cu11==8.7.0.84 in /opt/conda/lib/python3.10/site-packages (from torch!=1.12.0,>=1.11->transformers[torch]) (8.7.0.84)\n",
      "Requirement already satisfied: nvidia-cublas-cu11==11.11.3.6 in /opt/conda/lib/python3.10/site-packages (from torch!=1.12.0,>=1.11->transformers[torch]) (11.11.3.6)\n",
      "Requirement already satisfied: nvidia-cufft-cu11==10.9.0.58 in /opt/conda/lib/python3.10/site-packages (from torch!=1.12.0,>=1.11->transformers[torch]) (10.9.0.58)\n",
      "Requirement already satisfied: nvidia-curand-cu11==10.3.0.86 in /opt/conda/lib/python3.10/site-packages (from torch!=1.12.0,>=1.11->transformers[torch]) (10.3.0.86)\n",
      "Requirement already satisfied: nvidia-cusolver-cu11==11.4.1.48 in /opt/conda/lib/python3.10/site-packages (from torch!=1.12.0,>=1.11->transformers[torch]) (11.4.1.48)\n",
      "Requirement already satisfied: nvidia-cusparse-cu11==11.7.5.86 in /opt/conda/lib/python3.10/site-packages (from torch!=1.12.0,>=1.11->transformers[torch]) (11.7.5.86)\n",
      "Requirement already satisfied: nvidia-nccl-cu11==2.19.3 in /opt/conda/lib/python3.10/site-packages (from torch!=1.12.0,>=1.11->transformers[torch]) (2.19.3)\n",
      "Requirement already satisfied: nvidia-nvtx-cu11==11.8.86 in /opt/conda/lib/python3.10/site-packages (from torch!=1.12.0,>=1.11->transformers[torch]) (11.8.86)\n",
      "Requirement already satisfied: triton==2.2.0 in /opt/conda/lib/python3.10/site-packages (from torch!=1.12.0,>=1.11->transformers[torch]) (2.2.0)\n",
      "Requirement already satisfied: charset-normalizer<4,>=2 in /opt/conda/lib/python3.10/site-packages (from requests->transformers[torch]) (3.3.1)\n",
      "Requirement already satisfied: idna<4,>=2.5 in /opt/conda/lib/python3.10/site-packages (from requests->transformers[torch]) (3.4)\n",
      "Requirement already satisfied: urllib3<3,>=1.21.1 in /opt/conda/lib/python3.10/site-packages (from requests->transformers[torch]) (2.0.7)\n",
      "Requirement already satisfied: certifi>=2017.4.17 in /opt/conda/lib/python3.10/site-packages (from requests->transformers[torch]) (2023.7.22)\n",
      "Requirement already satisfied: MarkupSafe>=2.0 in /opt/conda/lib/python3.10/site-packages (from jinja2->torch!=1.12.0,>=1.11->transformers[torch]) (2.1.3)\n",
      "Requirement already satisfied: mpmath>=0.19 in /opt/conda/lib/python3.10/site-packages (from sympy->torch!=1.12.0,>=1.11->transformers[torch]) (1.3.0)\n"
     ]
    }
   ],
   "source": [
    "!pip install transformers[torch]"
   ]
  },
  {
   "cell_type": "code",
   "execution_count": 2,
   "id": "2a2c4175-3255-46be-8364-bbe05ce110d4",
   "metadata": {
    "tags": []
   },
   "outputs": [
    {
     "name": "stderr",
     "output_type": "stream",
     "text": [
      "2024-02-17 01:52:36.573186: I tensorflow/core/util/port.cc:113] oneDNN custom operations are on. You may see slightly different numerical results due to floating-point round-off errors from different computation orders. To turn them off, set the environment variable `TF_ENABLE_ONEDNN_OPTS=0`.\n",
      "2024-02-17 01:52:36.614589: E external/local_xla/xla/stream_executor/cuda/cuda_dnn.cc:9261] Unable to register cuDNN factory: Attempting to register factory for plugin cuDNN when one has already been registered\n",
      "2024-02-17 01:52:36.614629: E external/local_xla/xla/stream_executor/cuda/cuda_fft.cc:607] Unable to register cuFFT factory: Attempting to register factory for plugin cuFFT when one has already been registered\n",
      "2024-02-17 01:52:36.615790: E external/local_xla/xla/stream_executor/cuda/cuda_blas.cc:1515] Unable to register cuBLAS factory: Attempting to register factory for plugin cuBLAS when one has already been registered\n",
      "2024-02-17 01:52:36.622904: I tensorflow/core/platform/cpu_feature_guard.cc:182] This TensorFlow binary is optimized to use available CPU instructions in performance-critical operations.\n",
      "To enable the following instructions: AVX2 AVX512F AVX512_VNNI FMA, in other operations, rebuild TensorFlow with the appropriate compiler flags.\n",
      "2024-02-17 01:52:37.364755: W tensorflow/compiler/tf2tensorrt/utils/py_utils.cc:38] TF-TRT Warning: Could not find TensorRT\n"
     ]
    }
   ],
   "source": [
    "import os\n",
    "import shutil\n",
    "\n",
    "import pandas as pd\n",
    "import numpy as np\n",
    "\n",
    "import torch\n",
    "from torch.utils.data import Dataset\n",
    "from transformers import (\n",
    "    TrainerCallback, \n",
    "    EarlyStoppingCallback, \n",
    "    AutoTokenizer, \n",
    "    T5ForConditionalGeneration, \n",
    "    AutoModelForSeq2SeqLM, \n",
    "    DataCollatorForSeq2Seq, \n",
    "    Seq2SeqTrainingArguments, \n",
    "    Seq2SeqTrainer\n",
    ")\n",
    "\n",
    "np.random.seed(0)"
   ]
  },
  {
   "cell_type": "code",
   "execution_count": 3,
   "id": "03e80deb-c30b-4764-bc72-0676101555d5",
   "metadata": {
    "tags": []
   },
   "outputs": [],
   "source": [
    "with open(\"english_python_data.txt\", \"r\") as f:\n",
    "    file_lines = f.readlines()\n",
    "\n",
    "dps = []\n",
    "current_question = None\n",
    "current_solution = []\n",
    "\n",
    "for line in file_lines:\n",
    "    if line.startswith(\"#\"):\n",
    "        if current_question is not None:\n",
    "            dps.append({\"question\": current_question, \"solution\": ''.join(current_solution)})\n",
    "        current_question = line[1:].strip()\n",
    "        current_solution = []\n",
    "    else:\n",
    "        current_solution.append(line)\n",
    "\n",
    "if current_question is not None:\n",
    "    dps.append({\"question\": current_question, \"solution\": ''.join(current_solution)})\n",
    "\n",
    "python_problems_df = pd.DataFrame(dps)\n",
    "\n",
    "msk = np.random.rand(len(python_problems_df)) < 0.8\n",
    "\n",
    "train_df = python_problems_df[msk]\n",
    "val_df = python_problems_df[~msk]"
   ]
  },
  {
   "cell_type": "code",
   "execution_count": 4,
   "id": "067b5f83-b23d-43c2-8956-3b685cbf0d42",
   "metadata": {
    "tags": []
   },
   "outputs": [
    {
     "name": "stdout",
     "output_type": "stream",
     "text": [
      "Count before augmentation: 3970\n",
      "Count after augmentation: 6394\n"
     ]
    }
   ],
   "source": [
    "def augment_dataframe(train_df):\n",
    "    augmented_rows = []\n",
    "    \n",
    "    solution_replacements = [\n",
    "        ((\"num1\", \"num2\", \"num3\"), (\"x\", \"y\", \"z\")),\n",
    "        ((\"num1\", \"num2\", \"num3\"), (\"var1\", \"var2\", \"var3\")),\n",
    "        ((\"num1\", \"num2\", \"num3\"), (\"a\", \"b\", \"c\")),\n",
    "        ((\"num1\", \"num2\", \"num3\"), (\"first\", \"second\", \"third\")),\n",
    "        ((\"num\",), (\"x\",)),\n",
    "        ((\"largest\",), (\"highest\",)),\n",
    "        ((\"smallest\",), (\"lowest\",)),\n",
    "        ((\"l1\",), (\"list1\",)),\n",
    "        ((\"l2\",), (\"list2\",)),\n",
    "        ((\" i \",), (\" j \",)),\n",
    "        ((\" i \",), (\" k \",)),\n",
    "        ((\" i \",), (\" idx \",)),\n",
    "        ((\" i \",), (\" x \",)),\n",
    "        ((\" i \",), (\" r \",)),\n",
    "    ]\n",
    "    \n",
    "    question_replacements = [\n",
    "        ((\"print\",), (\"return\",)),\n",
    "        ((\"Write a function to \",), (\"\",)),\n",
    "    ]\n",
    "    \n",
    "    for index, row in train_df.iterrows():\n",
    "        changes = []\n",
    "        solution = row[\"solution\"]\n",
    "        question = row[\"question\"]\n",
    "\n",
    "        for find_words, replace_words in solution_replacements:\n",
    "            for find_word, replace_word in zip(find_words, replace_words):\n",
    "                if find_word in solution:\n",
    "                    solution = solution.replace(find_word, replace_word)\n",
    "                    changes.append((find_word, replace_word))\n",
    "\n",
    "        for find_words, replace_words in question_replacements:\n",
    "            for find_word, replace_word in zip(find_words, replace_words):\n",
    "                if find_word in question:\n",
    "                    question = question.replace(find_word, replace_word)\n",
    "                    changes.append((find_word, replace_word))\n",
    "                    \n",
    "        if changes:\n",
    "            augmented_row = row.copy()\n",
    "            augmented_row[\"solution\"] = solution\n",
    "            augmented_row[\"question\"] = question\n",
    "            augmented_rows.append(augmented_row)\n",
    "                \n",
    "    augmented_train_df = pd.concat([train_df, pd.DataFrame(augmented_rows)], ignore_index=True)\n",
    "    return augmented_train_df\n",
    "\n",
    "augmented_train_df = augment_dataframe(train_df)\n",
    "\n",
    "count_before = len(train_df)\n",
    "count_after = len(augmented_train_df)\n",
    "\n",
    "print(\"Count before augmentation:\", count_before)\n",
    "print(\"Count after augmentation:\", count_after)"
   ]
  },
  {
   "cell_type": "code",
   "execution_count": 5,
   "id": "04a5f8de-22f2-48ba-9703-faf86f4f4501",
   "metadata": {
    "tags": []
   },
   "outputs": [],
   "source": [
    "model_dir = \"codet5_large_python_code_gen_v2\"\n",
    "max_question_length = 64\n",
    "max_solution_length = 128\n",
    "model_checkpoint = \"./codet5_large_python_code_gen_v2/tmp-checkpoint-3200\" # \"Salesforce/codet5-large\" # use checkpoint paths\n",
    "strategy = \"epoch\"\n",
    "lr = 4e-5\n",
    "train_batch_size = 8\n",
    "val_batch_size = 8\n",
    "decay = 0.01\n",
    "save_limits = 1\n",
    "train_iter = 10"
   ]
  },
  {
   "cell_type": "code",
   "execution_count": 6,
   "id": "3d766367-07df-4b53-aeef-f20259a0f497",
   "metadata": {
    "tags": []
   },
   "outputs": [],
   "source": [
    "def clear_directory(directory):\n",
    "    for root, dirs, files in os.walk(directory, topdown=False):\n",
    "        for name in files:\n",
    "            os.remove(os.path.join(root, name))\n",
    "        for name in dirs:\n",
    "            os.rmdir(os.path.join(root, name))\n",
    "    os.rmdir(directory)\n",
    "\n",
    "try:\n",
    "    clear_directory(model_dir)\n",
    "except:\n",
    "    print(\"Model directory doesn't exist!\")"
   ]
  },
  {
   "cell_type": "code",
   "execution_count": 6,
   "id": "6412682e-9077-47ce-9618-cd71228d5490",
   "metadata": {
    "tags": []
   },
   "outputs": [
    {
     "name": "stdout",
     "output_type": "stream",
     "text": [
      "Training is using 1 GPU(s).\n",
      "GPU 0: NVIDIA A100 80GB PCIe, Compute Capability: 8.0\n",
      "\tTotal Memory: 79.32 GB\n",
      "\tCUDA Cores: 108\n"
     ]
    }
   ],
   "source": [
    "if torch.cuda.is_available():\n",
    "    num_gpus = torch.cuda.device_count()\n",
    "    print(f\"Training is using {num_gpus} GPU(s).\")\n",
    "    for i in range(num_gpus):\n",
    "        device = torch.cuda.get_device_properties(i)\n",
    "        print(f\"GPU {i}: {device.name}, Compute Capability: {device.major}.{device.minor}\")\n",
    "        print(f\"\\tTotal Memory: {device.total_memory / (1024**3):.2f} GB\")\n",
    "        print(f\"\\tCUDA Cores: {device.multi_processor_count}\")\n",
    "else:\n",
    "    print(\"Training is using CPU.\")"
   ]
  },
  {
   "cell_type": "code",
   "execution_count": 7,
   "id": "3a9675af-e6f5-4d94-9bec-39cf4829f5b8",
   "metadata": {
    "tags": []
   },
   "outputs": [],
   "source": [
    "class CustomDataset(Dataset):\n",
    "    def __init__(self, data, tokenizer, max_question_length, max_solution_length):\n",
    "        self.data = data\n",
    "        self.tokenizer = tokenizer\n",
    "        self.max_length = max_question_length + max_solution_length\n",
    "\n",
    "    def __len__(self):\n",
    "        return len(self.data)\n",
    "\n",
    "    def __getitem__(self, idx):\n",
    "        item = self.data.iloc[idx]\n",
    "        inputs = item['question']\n",
    "        targets = item['solution']\n",
    "\n",
    "        encoding = self.tokenizer(\n",
    "            inputs,\n",
    "            text_target=targets,\n",
    "            max_length=self.max_length,\n",
    "            truncation=True,\n",
    "            padding=\"max_length\"\n",
    "        )\n",
    "\n",
    "        return encoding\n",
    "\n",
    "tokenizer = AutoTokenizer.from_pretrained(model_checkpoint)\n",
    "model = AutoModelForSeq2SeqLM.from_pretrained(model_checkpoint)\n",
    "\n",
    "train_dataset = CustomDataset(augmented_train_df, tokenizer, max_question_length, max_solution_length)\n",
    "val_dataset = CustomDataset(val_df, tokenizer, max_question_length, max_solution_length)\n",
    "\n",
    "data_collator = DataCollatorForSeq2Seq(tokenizer=tokenizer, model=model_checkpoint)\n",
    "\n",
    "training_args = Seq2SeqTrainingArguments(\n",
    "    output_dir=model_dir,\n",
    "    evaluation_strategy=strategy,\n",
    "    logging_strategy=strategy,\n",
    "    save_strategy=strategy,\n",
    "    learning_rate=lr,\n",
    "    per_device_train_batch_size=train_batch_size,\n",
    "    per_device_eval_batch_size=val_batch_size,\n",
    "    weight_decay=decay,\n",
    "    save_total_limit=save_limits,\n",
    "    num_train_epochs=train_iter,\n",
    "    predict_with_generate=True,\n",
    "    fp16=False,\n",
    "    load_best_model_at_end=True,\n",
    ")\n",
    "\n",
    "trainer = Seq2SeqTrainer(\n",
    "    model=model,\n",
    "    args=training_args,\n",
    "    train_dataset=train_dataset,\n",
    "    eval_dataset=val_dataset,\n",
    "    tokenizer=tokenizer,\n",
    "    data_collator=data_collator,\n",
    ")"
   ]
  },
  {
   "cell_type": "code",
   "execution_count": null,
   "id": "36977dd3-3b09-4977-a701-80ca70db3a09",
   "metadata": {},
   "outputs": [],
   "source": [
    "trainer.train()"
   ]
  },
  {
   "cell_type": "code",
   "execution_count": 8,
   "id": "0d5d07fa-5ee1-402d-bc58-0576d8a1843f",
   "metadata": {},
   "outputs": [
    {
     "data": {
      "text/html": [],
      "text/plain": [
       "<IPython.core.display.HTML object>"
      ]
     },
     "metadata": {},
     "output_type": "display_data"
    }
   ],
   "source": [
    "predictions = trainer.predict(val_dataset, max_new_tokens=64)"
   ]
  },
  {
   "cell_type": "code",
   "execution_count": 9,
   "id": "5da000b0-5fef-4de5-a334-61d3f68b6bde",
   "metadata": {},
   "outputs": [
    {
     "name": "stdout",
     "output_type": "stream",
     "text": [
      "Question:\n",
      "Write a function to calculate simple interest, given p, r, t\n",
      "\n",
      "True Solution:\n",
      "def simp_int(p, r, t):\n",
      "    interest = (p*r*t)/100\n",
      "    return interest\n",
      "\n",
      "\n",
      "\n",
      "\n",
      "Predicted Solution:\n",
      "def simpleIntereset(p, r, t):\n",
      "    si = (p*r*t)/100\n",
      "    return si\n",
      "\n",
      "\n",
      "\n"
     ]
    }
   ],
   "source": [
    "def print_example(index, val_dataset, predictions, tokenizer, val_df):\n",
    "\n",
    "    example = val_dataset[index]\n",
    "    \n",
    "    question = tokenizer.decode(example[\"input_ids\"], skip_special_tokens=True)\n",
    "    solution = tokenizer.decode(example[\"labels\"], skip_special_tokens=True)\n",
    "    prediction = tokenizer.decode(predictions.predictions[index], skip_special_tokens=True)\n",
    "\n",
    "    print(\"Question:\")\n",
    "    print(question)\n",
    "    print(\"\\nTrue Solution:\")\n",
    "    print(solution)\n",
    "    print(\"\\nPredicted Solution:\")\n",
    "    print(prediction)\n",
    "\n",
    "example_index = 7\n",
    "\n",
    "print_example(example_index, val_dataset, predictions, tokenizer, val_df)"
   ]
  },
  {
   "cell_type": "code",
   "execution_count": null,
   "id": "d1feb308-98cc-4258-b360-de5b47254592",
   "metadata": {},
   "outputs": [],
   "source": [
    "# train_df.iloc[10][\"question\"]"
   ]
  },
  {
   "cell_type": "code",
   "execution_count": null,
   "id": "5a218358-2cba-4048-b2b4-e3125a80c02f",
   "metadata": {},
   "outputs": [],
   "source": [
    "# train_df.iloc[10][\"solution\"]"
   ]
  },
  {
   "cell_type": "code",
   "execution_count": 11,
   "id": "f6eea12d-c485-4a1f-8e3b-e4c105de0754",
   "metadata": {
    "tags": []
   },
   "outputs": [
    {
     "name": "stdout",
     "output_type": "stream",
     "text": [
      "Generated Solution:\n",
      "def sum_nums(num, y):\n",
      "    return num + y\n",
      "\n",
      "\n"
     ]
    }
   ],
   "source": [
    "def generate_solution(user_text, trainer, tokenizer, max_length=64):\n",
    "    input_ids = tokenizer.encode(user_text, max_length=max_length, truncation=True, return_tensors=\"pt\")\n",
    "    input_ids = input_ids.to(trainer.args.device)\n",
    "\n",
    "    output_ids = trainer.model.generate(input_ids, max_length=max_length, num_beams=4, early_stopping=True)\n",
    "\n",
    "    generated_solution = tokenizer.decode(output_ids[0], skip_special_tokens=True)\n",
    "    \n",
    "    return generated_solution\n",
    "\n",
    "user_text = \"write a function to print sum of two number\"\n",
    "generated_solution = generate_solution(user_text, trainer, tokenizer)\n",
    "print(\"Generated Solution:\")\n",
    "print(generated_solution)"
   ]
  },
  {
   "cell_type": "code",
   "execution_count": 22,
   "id": "371cc08d-963b-4b9c-9eed-6745a7d73d48",
   "metadata": {
    "tags": []
   },
   "outputs": [
    {
     "name": "stdout",
     "output_type": "stream",
     "text": [
      "Generated Solution:\n",
      "print([i for j in range(5) if j % 5 == 0])\n",
      "\n",
      "\n"
     ]
    }
   ],
   "source": [
    "user_text = \"return top 5 values\"\n",
    "generated_solution = generate_solution(user_text, trainer, tokenizer)\n",
    "print(\"Generated Solution:\")\n",
    "print(generated_solution)"
   ]
  },
  {
   "cell_type": "code",
   "execution_count": null,
   "id": "0758a49e-db50-43b1-8ecd-5e0b6095d091",
   "metadata": {},
   "outputs": [],
   "source": []
  }
 ],
 "metadata": {
  "kernelspec": {
   "display_name": "Python 3 (ipykernel)",
   "language": "python",
   "name": "python3"
  },
  "language_info": {
   "codemirror_mode": {
    "name": "ipython",
    "version": 3
   },
   "file_extension": ".py",
   "mimetype": "text/x-python",
   "name": "python",
   "nbconvert_exporter": "python",
   "pygments_lexer": "ipython3",
   "version": "3.10.13"
  }
 },
 "nbformat": 4,
 "nbformat_minor": 5
}
