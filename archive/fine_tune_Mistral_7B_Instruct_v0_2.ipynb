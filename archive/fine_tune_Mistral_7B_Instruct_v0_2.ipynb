{
 "cells": [
  {
   "cell_type": "code",
   "execution_count": 1,
   "id": "3a998753-7a6d-4e0b-ac92-a96d643b7d40",
   "metadata": {
    "tags": []
   },
   "outputs": [
    {
     "name": "stderr",
     "output_type": "stream",
     "text": [
      "/home/jovyan/LLM_CRM_PERSO/.venv/lib/python3.10/site-packages/tqdm/auto.py:21: TqdmWarning: IProgress not found. Please update jupyter and ipywidgets. See https://ipywidgets.readthedocs.io/en/stable/user_install.html\n",
      "  from .autonotebook import tqdm as notebook_tqdm\n",
      "Downloading shards: 100%|██████████| 3/3 [00:45<00:00, 15.20s/it]\n",
      "Loading checkpoint shards: 100%|██████████| 3/3 [01:52<00:00, 37.44s/it]\n",
      "The attention mask and the pad token id were not set. As a consequence, you may observe unexpected behavior. Please pass your input's `attention_mask` to obtain reliable results.\n",
      "Setting `pad_token_id` to `eos_token_id`:2 for open-end generation.\n"
     ]
    },
    {
     "name": "stdout",
     "output_type": "stream",
     "text": [
      "<s> [INST] What is your favourite condiment? [/INST]Well, I'm quite partial to a good squeeze of fresh lemon juice. It adds just the right amount of zesty flavour to whatever I'm cooking up in the kitchen!</s> [INST] Do you have mayonnaise recipes? [/INST]Yes, I sure do! Here's a classic recipe for homemade mayonnaise that you can easily whip up in a blender or a food processor.\n",
      "\n",
      "Ingredients:\n",
      "- 1 egg yolk\n",
      "- 1 teaspoon Dijon mustard\n",
      "- 1 cup vegetable oil (safflower or canola oil works best)\n",
      "- 1-2 tablespoons white wine vinegar or fresh lemon juice\n",
      "- 1/2 teaspoon salt\n",
      "- 1/4 teaspoon freshly ground black pepper\n",
      "\n",
      "Instructions:\n",
      "1. In a blender or food processor, combine the egg yolk and mustard. Blend for a few seconds to mix.\n",
      "2. With the blender or food processor running on low speed, slowly drizzle in the oil, drop by drop, in a steady stream. Once all the oil has been incorporated, you'll have a thick emulsion.\n",
      "3. Add the vinegar or lemon juice, salt, and pepper, and blend until well combined and the mayonnaise is smooth and creamy.\n",
      "4. Taste the mayonnaise and add more salt, pepper, or acid (vinegar or lemon juice) if needed.\n",
      "5. Transfer the mayonnaise to an airtight container and refrigerate for up to a week.\n",
      "\n",
      "Keep in mind, homemade mayonnaise contains raw egg yolk and is best enjoyed fresh. If you have concerns about using raw eggs, you can purchase pasteurized egg yolks or use a commercial mayonnaise instead.</s>\n"
     ]
    }
   ],
   "source": [
    "from transformers import AutoModelForCausalLM, AutoTokenizer\n",
    "\n",
    "device = \"cuda\"\n",
    "\n",
    "model = AutoModelForCausalLM.from_pretrained(\"mistralai/Mistral-7B-Instruct-v0.2\")\n",
    "tokenizer = AutoTokenizer.from_pretrained(\"mistralai/Mistral-7B-Instruct-v0.2\")\n",
    "\n",
    "messages = [\n",
    "    {\"role\": \"user\", \"content\": \"What is your favourite condiment?\"},\n",
    "    {\"role\": \"assistant\", \"content\": \"Well, I'm quite partial to a good squeeze of fresh lemon juice. It adds just the right amount of zesty flavour to whatever I'm cooking up in the kitchen!\"},\n",
    "    {\"role\": \"user\", \"content\": \"Do you have mayonnaise recipes?\"}\n",
    "]\n",
    "\n",
    "encodeds = tokenizer.apply_chat_template(messages, return_tensors=\"pt\")\n",
    "\n",
    "model_inputs = encodeds.to(device)\n",
    "model.to(device)\n",
    "\n",
    "generated_ids = model.generate(model_inputs, max_new_tokens=1000, do_sample=True)\n",
    "decoded = tokenizer.batch_decode(generated_ids)\n",
    "print(decoded[0])\n"
   ]
  },
  {
   "cell_type": "code",
   "execution_count": 2,
   "id": "bf194d99-b835-41a3-baf5-55ee9c20831b",
   "metadata": {
    "tags": []
   },
   "outputs": [
    {
     "name": "stderr",
     "output_type": "stream",
     "text": [
      "Generating train split: 393 examples [00:00, 4415.60 examples/s]\n"
     ]
    },
    {
     "data": {
      "text/plain": [
       "{'messages': [{'content': '\\nYou are a Python function generator. Users will ask you questions in English, \\nand you will produce a Python function as answer to the question based on the provided CONTEXT.\\n\\nCONTEXT:\\nPandas DataFrame `df` containing transaction data with columns `order_id`, `user_id`, `item_id`, `timestamp`, `score`.\\n`order_id` takes string datatype and identifies the order.\\n`user_id` takes string datatype and identifies the customer.\\n`item_id` takes string datatype that identifies the product.\\n`timestamp` takes timestamp datatype and represents the datetimestamp of transaction.\\n`score` takes float datatype and represents the score of the transaction.\\nNote that a customer can make multiple transactions for a product but the customer product pair will be just one entry for each order.\\n',\n",
       "   'role': 'system'},\n",
       "  {'content': 'Is there a particular day of the week with higher transaction volume?',\n",
       "   'role': 'user'},\n",
       "  {'content': \"def highest_transaction_day(df):\\\\n    # Convert timestamp column to datetime\\\\n    df['timestamp'] = pd.to_datetime(df['timestamp'])\\\\n    \\\\n    # Group transactions by day of the week and count the number of transactions\\\\n    transaction_count = df.groupby(df['timestamp'].dt.dayofweek).size()\\\\n    \\\\n    # Find the day with the highest transaction volume\\\\n    highest_day = transaction_count.idxmax()\\\\n    \\\\n    return highest_day\\\\n\",\n",
       "   'role': 'assistant'}]}"
      ]
     },
     "execution_count": 2,
     "metadata": {},
     "output_type": "execute_result"
    }
   ],
   "source": [
    "from datasets import load_dataset\n",
    "\n",
    "train_dataset = load_dataset(\"json\", data_files=\"train_CRM_data.json\", split=\"train\")\n",
    "train_dataset[0]"
   ]
  },
  {
   "cell_type": "code",
   "execution_count": 7,
   "id": "b0f2345f-5dc8-45e4-a4f1-83da13f9de26",
   "metadata": {
    "tags": []
   },
   "outputs": [
    {
     "data": {
      "text/plain": [
       "[{'content': '\\nYou are a Python function generator. Users will ask you questions in English, \\nand you will produce a Python function as answer to the question based on the provided CONTEXT.\\n\\nCONTEXT:\\nPandas DataFrame `df` containing transaction data with columns `order_id`, `user_id`, `item_id`, `timestamp`, `score`.\\n`order_id` takes string datatype and identifies the order.\\n`user_id` takes string datatype and identifies the customer.\\n`item_id` takes string datatype that identifies the product.\\n`timestamp` takes timestamp datatype and represents the datetimestamp of transaction.\\n`score` takes float datatype and represents the score of the transaction.\\nNote that a customer can make multiple transactions for a product but the customer product pair will be just one entry for each order.\\n',\n",
       "  'role': 'system'},\n",
       " {'content': 'Is there a particular day of the week with higher transaction volume?',\n",
       "  'role': 'user'}]"
      ]
     },
     "execution_count": 7,
     "metadata": {},
     "output_type": "execute_result"
    }
   ],
   "source": [
    "train_dataset[0]['messages'][:2]"
   ]
  },
  {
   "cell_type": "code",
   "execution_count": 11,
   "id": "785e981a-3d26-4bc4-ae1d-0584a86425f4",
   "metadata": {
    "tags": []
   },
   "outputs": [],
   "source": [
    "original_data = [\n",
    "    {\"role\": \"user\", \"content\": \"You are a Python function generator. Users will ask you questions in English, and you will produce a Python function as answer to the question based on the provided CONTEXT.\"},\n",
    "    {\"role\": \"assistant\", \"content\": \"CONTEXT: Pandas DataFrame `df` containing transaction data with columns `order_id`, `user_id`, `item_id`, `timestamp`, `score`. `order_id` takes string datatype and identifies the order. `user_id` takes string datatype and identifies the customer. `item_id` takes string datatype that identifies the product. `timestamp` takes timestamp datatype and represents the datetimestamp of transaction. `score` takes float datatype and represents the score of the transaction. Note that a customer can make multiple transactions for a product but the customer product pair will be just one entry for each order.\"},\n",
    "    {\"role\": \"user\", \"content\": \"Is there a particular day of the week with higher transaction volume?\"}\n",
    "]"
   ]
  },
  {
   "cell_type": "code",
   "execution_count": 12,
   "id": "dd38d121-f4d5-4b58-b11d-52534f39efa9",
   "metadata": {
    "tags": []
   },
   "outputs": [
    {
     "name": "stderr",
     "output_type": "stream",
     "text": [
      "The attention mask and the pad token id were not set. As a consequence, you may observe unexpected behavior. Please pass your input's `attention_mask` to obtain reliable results.\n",
      "Setting `pad_token_id` to `eos_token_id`:2 for open-end generation.\n"
     ]
    },
    {
     "name": "stdout",
     "output_type": "stream",
     "text": [
      "<s> [INST] You are a Python function generator. Users will ask you questions in English, and you will produce a Python function as answer to the question based on the provided CONTEXT. [/INST]CONTEXT: Pandas DataFrame `df` containing transaction data with columns `order_id`, `user_id`, `item_id`, `timestamp`, `score`. `order_id` takes string datatype and identifies the order. `user_id` takes string datatype and identifies the customer. `item_id` takes string datatype that identifies the product. `timestamp` takes timestamp datatype and represents the datetimestamp of transaction. `score` takes float datatype and represents the score of the transaction. Note that a customer can make multiple transactions for a product but the customer product pair will be just one entry for each order.</s> [INST] Is there a particular day of the week with higher transaction volume? [/INST]To find out if there is a particular day of the week with higher transaction volume, you can use the `dt.weekday` accessor of pandas to extract the day of the week from the `timestamp` column and then use `groupby` and `sum` to calculate the total transaction volume for each day of the week. Here's how you can write the Python function to do this:\n",
      "\n",
      "```python\n",
      "import pandas as pd\n",
      "\n",
      "def weekly_transaction_volume(df):\n",
      "    \"\"\"\n",
      "    Calculate the total transaction volume for each day of the week and return the result as a pandas Series.\n",
      "\n",
      "    :param df: Pandas DataFrame 'df' containing transaction data\n",
      "    :return: Pandas Series 'weekly_volumes' with day of the week as index and transaction volume as value\n",
      "    \"\"\"\n",
      "\n",
      "    # Extract day of the week from the timestamp\n",
      "    df['day_of_week'] = df['timestamp'].dt.weekday\n",
      "\n",
      "    # Group transactions by day of the week and sum the transaction volume\n",
      "    weekly_volumes = df.groupby('day_of_week')['score'].sum().reset_index(name='volume')\n",
      "\n",
      "    return weekly_volumes\n",
      "```\n",
      "\n",
      "This function, `weekly_transaction_volume`, accepts the DataFrame `df` as an argument and returns a Pandas Series named `weekly_volumes` that displays day of the week as index and transaction volume as value. You can then use this Series to determine if there is a particular day of the week with higher transaction volume.\n",
      "\n",
      "For example, to see the result directly, you can print it out using `print(weekly_transaction_volume(df))`. If you want to plot a bar chart for easier interpretation, you can write:\n",
      "\n",
      "```python\n",
      "import matplotlib.pyplot as plt\n",
      "\n",
      "# Calculate transaction volume by day of the week\n",
      "weekly_volumes = weekly_transaction_volume(df)\n",
      "\n",
      "# Create a bar chart to see the weekly transaction volumes\n",
      "plt.bar(weekly_volumes.index, weekly_volumes['volume'])\n",
      "_ = plt.xlabel('Day of the week')\n",
      "_ = plt.ylabel('Transaction Volume')\n",
      "plt.title('Weekly Transaction Volume')\n",
      "plt.show()\n",
      "```</s>\n"
     ]
    }
   ],
   "source": [
    "encodeds_0 = tokenizer.apply_chat_template(original_data, return_tensors=\"pt\")\n",
    "\n",
    "model_inputs_0 = encodeds_0.to(device)\n",
    "\n",
    "generated_ids_0 = model.generate(model_inputs_0, max_new_tokens=1000, do_sample=True)\n",
    "decoded_0 = tokenizer.batch_decode(generated_ids_0)\n",
    "print(decoded_0[0])"
   ]
  },
  {
   "cell_type": "code",
   "execution_count": null,
   "id": "5b434ee2-e82d-41e3-8872-7fcbf305d364",
   "metadata": {},
   "outputs": [],
   "source": [
    "# This shows that even though the Mistral-7B-Instruct-v0.2 model produces quite an elaborate output \n",
    "# yet the response is not good or just enough to feed into the ranking system for further data \n",
    "# retrieval. Hence fine tuning is required."
   ]
  }
 ],
 "metadata": {
  "kernelspec": {
   "display_name": "Python new (.venv)",
   "language": "python",
   "name": ".venv"
  },
  "language_info": {
   "codemirror_mode": {
    "name": "ipython",
    "version": 3
   },
   "file_extension": ".py",
   "mimetype": "text/x-python",
   "name": "python",
   "nbconvert_exporter": "python",
   "pygments_lexer": "ipython3",
   "version": "3.10.13"
  }
 },
 "nbformat": 4,
 "nbformat_minor": 5
}
