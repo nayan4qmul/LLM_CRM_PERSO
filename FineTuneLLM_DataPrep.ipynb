{
 "cells": [
  {
   "cell_type": "code",
   "execution_count": 2,
   "id": "bc4ebc13-fe8d-4830-ab16-8c410f06aeb2",
   "metadata": {
    "tags": []
   },
   "outputs": [],
   "source": [
    "import re\n",
    "import pandas as pd\n",
    "\n",
    "data = pd.read_json(\"sanitized-mbpp.json\")\n",
    "\n",
    "def extract_function_info(row):\n",
    "    match = re.search(r'def\\s+([\\w_]+)\\((.*?)\\):([\\s\\S]*?)\\n', row.code)\n",
    "    if match:\n",
    "        function_name = match.group(1)\n",
    "        arguments = match.group(2).split(',')\n",
    "        return \"Given function arguments \" + ','.join(arguments)\n",
    "\n",
    "data['context'] = data.apply(extract_function_info, axis=1)\n",
    "\n",
    "system_message = \"\"\"You are an text to PYTHON function translator. Users will ask you questions in English and you will generate a PYTHON function based on the provided CONTEXT.\n",
    "CONTEXT:\n",
    "{context}\"\"\"\n",
    "\n",
    "def create_conversation(sample):\n",
    "    return {\n",
    "        \"messages\": [\n",
    "            {\"role\": \"system\", \"content\": system_message.format(context=sample[\"context\"])},\n",
    "            {\"role\": \"user\", \"content\": sample[\"prompt\"]},\n",
    "            {\"role\": \"assistant\", \"content\": sample[\"code\"]}\n",
    "        ]\n",
    "    }\n",
    "\n",
    "dataset = data.apply(create_conversation, axis=1)\n",
    "dataset = dataset.sample(frac=1, random_state=42).reset_index(drop=True)\n",
    "train_idx = int(len(dataset)*0.8)\n",
    "train = dataset[:train_idx]\n",
    "test = dataset[train_idx:]\n",
    "\n",
    "train.to_json(\"train_dataset.json\", orient=\"records\")\n",
    "test.to_json(\"test_dataset.json\", orient=\"records\")"
   ]
  },
  {
   "cell_type": "code",
   "execution_count": 3,
   "id": "3e0ad5c2-fb05-476c-88c2-a19c0ebfdd1b",
   "metadata": {
    "tags": []
   },
   "outputs": [
    {
     "data": {
      "text/plain": [
       "{'messages': [{'role': 'system',\n",
       "   'content': 'You are an text to PYTHON function translator. Users will ask you questions in English and you will generate a PYTHON function based on the provided CONTEXT.\\nCONTEXT:\\nGiven function arguments arr'},\n",
       "  {'role': 'user',\n",
       "   'content': 'Write a python function to count the number of rotations required to generate a sorted array. https://www.geeksforgeeks.org/count-of-rotations-required-to-generate-a-sorted-array/'},\n",
       "  {'role': 'assistant',\n",
       "   'content': 'def count_rotation(arr):   \\n    for i in range (1,len(arr)): \\n        if (arr[i] < arr[i - 1]): \\n            return i  \\n    return 0'}]}"
      ]
     },
     "execution_count": 3,
     "metadata": {},
     "output_type": "execute_result"
    }
   ],
   "source": [
    "train.iloc[0]"
   ]
  },
  {
   "cell_type": "code",
   "execution_count": 4,
   "id": "52560d70-4e1e-4baa-97a0-968491e5f80b",
   "metadata": {
    "tags": []
   },
   "outputs": [
    {
     "data": {
      "text/plain": [
       "{'messages': [{'role': 'system',\n",
       "   'content': 'You are an text to PYTHON function translator. Users will ask you questions in English and you will generate a PYTHON function based on the provided CONTEXT.\\nCONTEXT:\\nGiven function arguments n'},\n",
       "  {'role': 'user',\n",
       "   'content': 'Write a function to calculate the sum of perrin numbers.'},\n",
       "  {'role': 'assistant',\n",
       "   'content': 'def cal_sum(n): \\n\\ta = 3\\n\\tb = 0\\n\\tc = 2\\n\\tif (n == 0): \\n\\t\\treturn 3\\n\\tif (n == 1): \\n\\t\\treturn 3\\n\\tif (n == 2): \\n\\t\\treturn 5\\n\\tsum = 5\\n\\twhile (n > 2): \\n\\t\\td = a + b \\n\\t\\tsum = sum + d \\n\\t\\ta = b \\n\\t\\tb = c \\n\\t\\tc = d \\n\\t\\tn = n-1\\n\\treturn sum'}]}"
      ]
     },
     "execution_count": 4,
     "metadata": {},
     "output_type": "execute_result"
    }
   ],
   "source": [
    "test.iloc[0]"
   ]
  },
  {
   "cell_type": "code",
   "execution_count": null,
   "id": "ac99df8a-a51f-4e56-8838-d326d7857d77",
   "metadata": {},
   "outputs": [],
   "source": []
  }
 ],
 "metadata": {
  "kernelspec": {
   "display_name": "Python new (.venv)",
   "language": "python",
   "name": ".venv"
  },
  "language_info": {
   "codemirror_mode": {
    "name": "ipython",
    "version": 3
   },
   "file_extension": ".py",
   "mimetype": "text/x-python",
   "name": "python",
   "nbconvert_exporter": "python",
   "pygments_lexer": "ipython3",
   "version": "3.10.13"
  }
 },
 "nbformat": 4,
 "nbformat_minor": 5
}
